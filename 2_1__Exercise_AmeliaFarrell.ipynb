{
  "nbformat": 4,
  "nbformat_minor": 0,
  "metadata": {
    "colab": {
      "name": "2.1_ Exercise_AmeliaFarrell.ipynb",
      "provenance": [],
      "authorship_tag": "ABX9TyOcnxhbmOuNBOqXIhXCJhGS"
    },
    "kernelspec": {
      "name": "python3",
      "display_name": "Python 3"
    },
    "language_info": {
      "name": "python"
    }
  },
  "cells": [
    {
      "cell_type": "code",
      "metadata": {
        "colab": {
          "base_uri": "https://localhost:8080/"
        },
        "id": "AKdvQFoSlCNg",
        "outputId": "740d4cf2-5e90-4cc0-b1b7-76b318bcc93e"
      },
      "source": [
        "# DSC530\n",
        "# Exercise: 2.1\n",
        "# Author: Amelia Farrell\n",
        "# Date: 12/6/21\n",
        "\n",
        "# This week’s exercise is to start getting prepared for the exploratory data analysis we will\n",
        "# be doing in this course by working in Python.\n",
        "# Using Python, submit your results via your notebook or export your code and submit via the assignment link.\n",
        "\n",
        "#Display the text “Hello World! I wonder why that is always the default coding text to start with”\n",
        "print(\"Hello World! I wonder why that is always the default coding text to start with\")\n",
        "\n",
        "#Add two numbers together\n",
        "sum = 4 + 2\n",
        "print(\"Total:\", sum)\n",
        "\n",
        "#Subtract a number from another number\n",
        "x = 6 - 9\n",
        "print(\"Total:\", x)\n",
        "\n",
        "#Multiply two numbers\n",
        "y = 6 * 9\n",
        "print(\"Total:\", y)\n",
        "\n",
        "#Divide between two numbers\n",
        "dev = 9 / 3\n",
        "print(\"Total:\", dev)\n",
        "\n",
        "#Concatenate two strings together (any words)\n",
        "print(\"Cats are \" + \"cool\")\n",
        "\n",
        "#Create a list of 4 items (can be strings, numbers, both)\n",
        "mylist = [\"cats\", \"dogs\", \"chinchillas\", \"iguanas\"]\n",
        "\n",
        "#Append an item to your list (again, can be a string, number)\n",
        "mylist.append(\"tarantulas\")\n",
        "print(mylist)\n",
        "\n",
        "#Create a tuple with 4 items (can be strings, numbers, both)\n",
        "mytuple = (\"cats\", \"dogs\", \"chinchillas\", \"iguanas\")\n",
        "print(mytuple)\n"
      ],
      "execution_count": 5,
      "outputs": [
        {
          "output_type": "stream",
          "name": "stdout",
          "text": [
            "Hello World! I wonder why that is always the default coding text to start with\n",
            "Total: 6\n",
            "Total: -3\n",
            "Total: 54\n",
            "Total: 3.0\n",
            "Cats are cool\n",
            "['cats', 'dogs', 'chinchillas', 'iguanas', 'tarantulas']\n",
            "('cats', 'dogs', 'chinchillas', 'iguanas')\n"
          ]
        }
      ]
    }
  ]
}