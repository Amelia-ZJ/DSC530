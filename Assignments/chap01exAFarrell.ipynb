{
  "cells": [
    {
      "cell_type": "markdown",
      "metadata": {
        "id": "ZkaqgVPItlTu"
      },
      "source": [
        "# Examples and Exercises from Think Stats, 2nd Edition\n",
        "\n",
        "http://thinkstats2.com\n",
        "\n",
        "Copyright 2016 Allen B. Downey\n",
        "\n",
        "MIT License: https://opensource.org/licenses/MIT\n"
      ]
    },
    {
      "cell_type": "code",
      "source": [
        "# set working directory\n",
        "from google.colab import drive\n",
        "drive.mount('/content/drive')\n",
        "%cd /content/drive/MyDrive/Colab Notebooks/ThinkStats2/code\n",
        "# check path\n",
        "!pwd"
      ],
      "metadata": {
        "id": "hOXl5C5Yt17R",
        "outputId": "ed2f2bd6-de27-4293-e250-a9b74afdf625",
        "colab": {
          "base_uri": "https://localhost:8080/"
        }
      },
      "execution_count": 1,
      "outputs": [
        {
          "output_type": "stream",
          "name": "stdout",
          "text": [
            "Mounted at /content/drive\n",
            "/content/drive/MyDrive/Colab Notebooks/ThinkStats2/code\n",
            "/content/drive/MyDrive/Colab Notebooks/ThinkStats2/code\n"
          ]
        }
      ]
    },
    {
      "cell_type": "code",
      "execution_count": 2,
      "metadata": {
        "id": "APtkC67AtlT2"
      },
      "outputs": [],
      "source": [
        "from __future__ import print_function, division\n",
        "\n",
        "import nsfg"
      ]
    },
    {
      "cell_type": "markdown",
      "metadata": {
        "id": "gAONNNUMtlT4"
      },
      "source": [
        "## Examples from Chapter 1\n",
        "\n",
        "Read NSFG data into a Pandas DataFrame."
      ]
    },
    {
      "cell_type": "code",
      "execution_count": 3,
      "metadata": {
        "id": "qmWq9fuXtlT5",
        "outputId": "9df4b1eb-9d0d-4194-8c94-91b1e695c32b",
        "colab": {
          "base_uri": "https://localhost:8080/",
          "height": 255
        }
      },
      "outputs": [
        {
          "output_type": "execute_result",
          "data": {
            "text/html": [
              "<div>\n",
              "<style scoped>\n",
              "    .dataframe tbody tr th:only-of-type {\n",
              "        vertical-align: middle;\n",
              "    }\n",
              "\n",
              "    .dataframe tbody tr th {\n",
              "        vertical-align: top;\n",
              "    }\n",
              "\n",
              "    .dataframe thead th {\n",
              "        text-align: right;\n",
              "    }\n",
              "</style>\n",
              "<table border=\"1\" class=\"dataframe\">\n",
              "  <thead>\n",
              "    <tr style=\"text-align: right;\">\n",
              "      <th></th>\n",
              "      <th>caseid</th>\n",
              "      <th>pregordr</th>\n",
              "      <th>howpreg_n</th>\n",
              "      <th>howpreg_p</th>\n",
              "      <th>moscurrp</th>\n",
              "      <th>nowprgdk</th>\n",
              "      <th>pregend1</th>\n",
              "      <th>pregend2</th>\n",
              "      <th>nbrnaliv</th>\n",
              "      <th>multbrth</th>\n",
              "      <th>cmotpreg</th>\n",
              "      <th>prgoutcome</th>\n",
              "      <th>cmprgend</th>\n",
              "      <th>flgdkmo1</th>\n",
              "      <th>cmprgbeg</th>\n",
              "      <th>ageatend</th>\n",
              "      <th>hpageend</th>\n",
              "      <th>gestasun_m</th>\n",
              "      <th>gestasun_w</th>\n",
              "      <th>wksgest</th>\n",
              "      <th>mosgest</th>\n",
              "      <th>dk1gest</th>\n",
              "      <th>dk2gest</th>\n",
              "      <th>dk3gest</th>\n",
              "      <th>bpa_bdscheck1</th>\n",
              "      <th>bpa_bdscheck2</th>\n",
              "      <th>bpa_bdscheck3</th>\n",
              "      <th>babysex</th>\n",
              "      <th>birthwgt_lb</th>\n",
              "      <th>birthwgt_oz</th>\n",
              "      <th>lobthwgt</th>\n",
              "      <th>babysex2</th>\n",
              "      <th>birthwgt_lb2</th>\n",
              "      <th>birthwgt_oz2</th>\n",
              "      <th>lobthwgt2</th>\n",
              "      <th>babysex3</th>\n",
              "      <th>birthwgt_lb3</th>\n",
              "      <th>birthwgt_oz3</th>\n",
              "      <th>lobthwgt3</th>\n",
              "      <th>cmbabdob</th>\n",
              "      <th>...</th>\n",
              "      <th>datecon_i</th>\n",
              "      <th>agecon_i</th>\n",
              "      <th>fmarout5_i</th>\n",
              "      <th>pmarpreg_i</th>\n",
              "      <th>rmarout6_i</th>\n",
              "      <th>fmarcon5_i</th>\n",
              "      <th>learnprg_i</th>\n",
              "      <th>pncarewk_i</th>\n",
              "      <th>paydeliv_i</th>\n",
              "      <th>lbw1_i</th>\n",
              "      <th>bfeedwks_i</th>\n",
              "      <th>maternlv_i</th>\n",
              "      <th>oldwantr_i</th>\n",
              "      <th>oldwantp_i</th>\n",
              "      <th>wantresp_i</th>\n",
              "      <th>wantpart_i</th>\n",
              "      <th>ager_i</th>\n",
              "      <th>fmarital_i</th>\n",
              "      <th>rmarital_i</th>\n",
              "      <th>educat_i</th>\n",
              "      <th>hieduc_i</th>\n",
              "      <th>race_i</th>\n",
              "      <th>hispanic_i</th>\n",
              "      <th>hisprace_i</th>\n",
              "      <th>rcurpreg_i</th>\n",
              "      <th>pregnum_i</th>\n",
              "      <th>parity_i</th>\n",
              "      <th>insuranc_i</th>\n",
              "      <th>pubassis_i</th>\n",
              "      <th>poverty_i</th>\n",
              "      <th>laborfor_i</th>\n",
              "      <th>religion_i</th>\n",
              "      <th>metro_i</th>\n",
              "      <th>basewgt</th>\n",
              "      <th>adj_mod_basewgt</th>\n",
              "      <th>finalwgt</th>\n",
              "      <th>secu_p</th>\n",
              "      <th>sest</th>\n",
              "      <th>cmintvw</th>\n",
              "      <th>totalwgt_lb</th>\n",
              "    </tr>\n",
              "  </thead>\n",
              "  <tbody>\n",
              "    <tr>\n",
              "      <th>0</th>\n",
              "      <td>1</td>\n",
              "      <td>1</td>\n",
              "      <td>NaN</td>\n",
              "      <td>NaN</td>\n",
              "      <td>NaN</td>\n",
              "      <td>NaN</td>\n",
              "      <td>6.0</td>\n",
              "      <td>NaN</td>\n",
              "      <td>1.0</td>\n",
              "      <td>NaN</td>\n",
              "      <td>NaN</td>\n",
              "      <td>1.0</td>\n",
              "      <td>1093.0</td>\n",
              "      <td>NaN</td>\n",
              "      <td>1084.0</td>\n",
              "      <td>NaN</td>\n",
              "      <td>NaN</td>\n",
              "      <td>9.0</td>\n",
              "      <td>0.0</td>\n",
              "      <td>39.0</td>\n",
              "      <td>9.0</td>\n",
              "      <td>NaN</td>\n",
              "      <td>NaN</td>\n",
              "      <td>NaN</td>\n",
              "      <td>0.0</td>\n",
              "      <td>NaN</td>\n",
              "      <td>NaN</td>\n",
              "      <td>1.0</td>\n",
              "      <td>8.0</td>\n",
              "      <td>13.0</td>\n",
              "      <td>NaN</td>\n",
              "      <td>NaN</td>\n",
              "      <td>NaN</td>\n",
              "      <td>NaN</td>\n",
              "      <td>NaN</td>\n",
              "      <td>NaN</td>\n",
              "      <td>NaN</td>\n",
              "      <td>NaN</td>\n",
              "      <td>NaN</td>\n",
              "      <td>1093.0</td>\n",
              "      <td>...</td>\n",
              "      <td>0</td>\n",
              "      <td>0</td>\n",
              "      <td>0</td>\n",
              "      <td>0</td>\n",
              "      <td>0</td>\n",
              "      <td>0</td>\n",
              "      <td>0</td>\n",
              "      <td>0</td>\n",
              "      <td>0</td>\n",
              "      <td>0</td>\n",
              "      <td>0</td>\n",
              "      <td>0</td>\n",
              "      <td>0</td>\n",
              "      <td>0</td>\n",
              "      <td>0</td>\n",
              "      <td>0</td>\n",
              "      <td>0</td>\n",
              "      <td>0</td>\n",
              "      <td>0</td>\n",
              "      <td>0</td>\n",
              "      <td>0</td>\n",
              "      <td>0</td>\n",
              "      <td>0</td>\n",
              "      <td>0</td>\n",
              "      <td>0</td>\n",
              "      <td>0</td>\n",
              "      <td>0</td>\n",
              "      <td>0</td>\n",
              "      <td>0</td>\n",
              "      <td>0</td>\n",
              "      <td>0</td>\n",
              "      <td>0</td>\n",
              "      <td>0</td>\n",
              "      <td>3410.389399</td>\n",
              "      <td>3869.349602</td>\n",
              "      <td>6448.271112</td>\n",
              "      <td>2</td>\n",
              "      <td>9</td>\n",
              "      <td>NaN</td>\n",
              "      <td>8.8125</td>\n",
              "    </tr>\n",
              "    <tr>\n",
              "      <th>1</th>\n",
              "      <td>1</td>\n",
              "      <td>2</td>\n",
              "      <td>NaN</td>\n",
              "      <td>NaN</td>\n",
              "      <td>NaN</td>\n",
              "      <td>NaN</td>\n",
              "      <td>6.0</td>\n",
              "      <td>NaN</td>\n",
              "      <td>1.0</td>\n",
              "      <td>NaN</td>\n",
              "      <td>NaN</td>\n",
              "      <td>1.0</td>\n",
              "      <td>1166.0</td>\n",
              "      <td>NaN</td>\n",
              "      <td>1157.0</td>\n",
              "      <td>NaN</td>\n",
              "      <td>NaN</td>\n",
              "      <td>9.0</td>\n",
              "      <td>0.0</td>\n",
              "      <td>39.0</td>\n",
              "      <td>9.0</td>\n",
              "      <td>NaN</td>\n",
              "      <td>NaN</td>\n",
              "      <td>NaN</td>\n",
              "      <td>0.0</td>\n",
              "      <td>NaN</td>\n",
              "      <td>NaN</td>\n",
              "      <td>2.0</td>\n",
              "      <td>7.0</td>\n",
              "      <td>14.0</td>\n",
              "      <td>NaN</td>\n",
              "      <td>NaN</td>\n",
              "      <td>NaN</td>\n",
              "      <td>NaN</td>\n",
              "      <td>NaN</td>\n",
              "      <td>NaN</td>\n",
              "      <td>NaN</td>\n",
              "      <td>NaN</td>\n",
              "      <td>NaN</td>\n",
              "      <td>1166.0</td>\n",
              "      <td>...</td>\n",
              "      <td>0</td>\n",
              "      <td>0</td>\n",
              "      <td>0</td>\n",
              "      <td>0</td>\n",
              "      <td>0</td>\n",
              "      <td>0</td>\n",
              "      <td>0</td>\n",
              "      <td>0</td>\n",
              "      <td>0</td>\n",
              "      <td>0</td>\n",
              "      <td>0</td>\n",
              "      <td>0</td>\n",
              "      <td>0</td>\n",
              "      <td>0</td>\n",
              "      <td>0</td>\n",
              "      <td>0</td>\n",
              "      <td>0</td>\n",
              "      <td>0</td>\n",
              "      <td>0</td>\n",
              "      <td>0</td>\n",
              "      <td>0</td>\n",
              "      <td>0</td>\n",
              "      <td>0</td>\n",
              "      <td>0</td>\n",
              "      <td>0</td>\n",
              "      <td>0</td>\n",
              "      <td>0</td>\n",
              "      <td>0</td>\n",
              "      <td>0</td>\n",
              "      <td>0</td>\n",
              "      <td>0</td>\n",
              "      <td>0</td>\n",
              "      <td>0</td>\n",
              "      <td>3410.389399</td>\n",
              "      <td>3869.349602</td>\n",
              "      <td>6448.271112</td>\n",
              "      <td>2</td>\n",
              "      <td>9</td>\n",
              "      <td>NaN</td>\n",
              "      <td>7.8750</td>\n",
              "    </tr>\n",
              "    <tr>\n",
              "      <th>2</th>\n",
              "      <td>2</td>\n",
              "      <td>1</td>\n",
              "      <td>NaN</td>\n",
              "      <td>NaN</td>\n",
              "      <td>NaN</td>\n",
              "      <td>NaN</td>\n",
              "      <td>5.0</td>\n",
              "      <td>NaN</td>\n",
              "      <td>3.0</td>\n",
              "      <td>5.0</td>\n",
              "      <td>NaN</td>\n",
              "      <td>1.0</td>\n",
              "      <td>1156.0</td>\n",
              "      <td>NaN</td>\n",
              "      <td>1147.0</td>\n",
              "      <td>NaN</td>\n",
              "      <td>NaN</td>\n",
              "      <td>0.0</td>\n",
              "      <td>39.0</td>\n",
              "      <td>39.0</td>\n",
              "      <td>9.0</td>\n",
              "      <td>NaN</td>\n",
              "      <td>NaN</td>\n",
              "      <td>NaN</td>\n",
              "      <td>0.0</td>\n",
              "      <td>NaN</td>\n",
              "      <td>NaN</td>\n",
              "      <td>1.0</td>\n",
              "      <td>9.0</td>\n",
              "      <td>2.0</td>\n",
              "      <td>NaN</td>\n",
              "      <td>2.0</td>\n",
              "      <td>2.0</td>\n",
              "      <td>0.0</td>\n",
              "      <td>NaN</td>\n",
              "      <td>1.0</td>\n",
              "      <td>1.0</td>\n",
              "      <td>4.0</td>\n",
              "      <td>NaN</td>\n",
              "      <td>1156.0</td>\n",
              "      <td>...</td>\n",
              "      <td>0</td>\n",
              "      <td>0</td>\n",
              "      <td>0</td>\n",
              "      <td>0</td>\n",
              "      <td>0</td>\n",
              "      <td>0</td>\n",
              "      <td>0</td>\n",
              "      <td>0</td>\n",
              "      <td>0</td>\n",
              "      <td>0</td>\n",
              "      <td>0</td>\n",
              "      <td>0</td>\n",
              "      <td>0</td>\n",
              "      <td>0</td>\n",
              "      <td>0</td>\n",
              "      <td>0</td>\n",
              "      <td>0</td>\n",
              "      <td>0</td>\n",
              "      <td>0</td>\n",
              "      <td>0</td>\n",
              "      <td>0</td>\n",
              "      <td>0</td>\n",
              "      <td>0</td>\n",
              "      <td>0</td>\n",
              "      <td>0</td>\n",
              "      <td>0</td>\n",
              "      <td>0</td>\n",
              "      <td>0</td>\n",
              "      <td>0</td>\n",
              "      <td>0</td>\n",
              "      <td>0</td>\n",
              "      <td>0</td>\n",
              "      <td>0</td>\n",
              "      <td>7226.301740</td>\n",
              "      <td>8567.549110</td>\n",
              "      <td>12999.542264</td>\n",
              "      <td>2</td>\n",
              "      <td>12</td>\n",
              "      <td>NaN</td>\n",
              "      <td>9.1250</td>\n",
              "    </tr>\n",
              "    <tr>\n",
              "      <th>3</th>\n",
              "      <td>2</td>\n",
              "      <td>2</td>\n",
              "      <td>NaN</td>\n",
              "      <td>NaN</td>\n",
              "      <td>NaN</td>\n",
              "      <td>NaN</td>\n",
              "      <td>6.0</td>\n",
              "      <td>NaN</td>\n",
              "      <td>1.0</td>\n",
              "      <td>NaN</td>\n",
              "      <td>NaN</td>\n",
              "      <td>1.0</td>\n",
              "      <td>1198.0</td>\n",
              "      <td>NaN</td>\n",
              "      <td>1189.0</td>\n",
              "      <td>NaN</td>\n",
              "      <td>NaN</td>\n",
              "      <td>0.0</td>\n",
              "      <td>39.0</td>\n",
              "      <td>39.0</td>\n",
              "      <td>9.0</td>\n",
              "      <td>NaN</td>\n",
              "      <td>NaN</td>\n",
              "      <td>NaN</td>\n",
              "      <td>0.0</td>\n",
              "      <td>NaN</td>\n",
              "      <td>NaN</td>\n",
              "      <td>2.0</td>\n",
              "      <td>7.0</td>\n",
              "      <td>0.0</td>\n",
              "      <td>NaN</td>\n",
              "      <td>NaN</td>\n",
              "      <td>NaN</td>\n",
              "      <td>NaN</td>\n",
              "      <td>NaN</td>\n",
              "      <td>NaN</td>\n",
              "      <td>NaN</td>\n",
              "      <td>NaN</td>\n",
              "      <td>NaN</td>\n",
              "      <td>1198.0</td>\n",
              "      <td>...</td>\n",
              "      <td>0</td>\n",
              "      <td>0</td>\n",
              "      <td>0</td>\n",
              "      <td>0</td>\n",
              "      <td>0</td>\n",
              "      <td>0</td>\n",
              "      <td>0</td>\n",
              "      <td>0</td>\n",
              "      <td>0</td>\n",
              "      <td>0</td>\n",
              "      <td>0</td>\n",
              "      <td>0</td>\n",
              "      <td>0</td>\n",
              "      <td>0</td>\n",
              "      <td>0</td>\n",
              "      <td>0</td>\n",
              "      <td>0</td>\n",
              "      <td>0</td>\n",
              "      <td>0</td>\n",
              "      <td>0</td>\n",
              "      <td>0</td>\n",
              "      <td>0</td>\n",
              "      <td>0</td>\n",
              "      <td>0</td>\n",
              "      <td>0</td>\n",
              "      <td>0</td>\n",
              "      <td>0</td>\n",
              "      <td>0</td>\n",
              "      <td>0</td>\n",
              "      <td>0</td>\n",
              "      <td>0</td>\n",
              "      <td>0</td>\n",
              "      <td>0</td>\n",
              "      <td>7226.301740</td>\n",
              "      <td>8567.549110</td>\n",
              "      <td>12999.542264</td>\n",
              "      <td>2</td>\n",
              "      <td>12</td>\n",
              "      <td>NaN</td>\n",
              "      <td>7.0000</td>\n",
              "    </tr>\n",
              "    <tr>\n",
              "      <th>4</th>\n",
              "      <td>2</td>\n",
              "      <td>3</td>\n",
              "      <td>NaN</td>\n",
              "      <td>NaN</td>\n",
              "      <td>NaN</td>\n",
              "      <td>NaN</td>\n",
              "      <td>6.0</td>\n",
              "      <td>NaN</td>\n",
              "      <td>1.0</td>\n",
              "      <td>NaN</td>\n",
              "      <td>NaN</td>\n",
              "      <td>1.0</td>\n",
              "      <td>1204.0</td>\n",
              "      <td>NaN</td>\n",
              "      <td>1195.0</td>\n",
              "      <td>NaN</td>\n",
              "      <td>NaN</td>\n",
              "      <td>0.0</td>\n",
              "      <td>39.0</td>\n",
              "      <td>39.0</td>\n",
              "      <td>9.0</td>\n",
              "      <td>NaN</td>\n",
              "      <td>NaN</td>\n",
              "      <td>NaN</td>\n",
              "      <td>0.0</td>\n",
              "      <td>NaN</td>\n",
              "      <td>NaN</td>\n",
              "      <td>2.0</td>\n",
              "      <td>6.0</td>\n",
              "      <td>3.0</td>\n",
              "      <td>NaN</td>\n",
              "      <td>NaN</td>\n",
              "      <td>NaN</td>\n",
              "      <td>NaN</td>\n",
              "      <td>NaN</td>\n",
              "      <td>NaN</td>\n",
              "      <td>NaN</td>\n",
              "      <td>NaN</td>\n",
              "      <td>NaN</td>\n",
              "      <td>1204.0</td>\n",
              "      <td>...</td>\n",
              "      <td>0</td>\n",
              "      <td>0</td>\n",
              "      <td>0</td>\n",
              "      <td>0</td>\n",
              "      <td>0</td>\n",
              "      <td>0</td>\n",
              "      <td>0</td>\n",
              "      <td>0</td>\n",
              "      <td>0</td>\n",
              "      <td>0</td>\n",
              "      <td>0</td>\n",
              "      <td>0</td>\n",
              "      <td>0</td>\n",
              "      <td>0</td>\n",
              "      <td>0</td>\n",
              "      <td>0</td>\n",
              "      <td>0</td>\n",
              "      <td>0</td>\n",
              "      <td>0</td>\n",
              "      <td>0</td>\n",
              "      <td>0</td>\n",
              "      <td>0</td>\n",
              "      <td>0</td>\n",
              "      <td>0</td>\n",
              "      <td>0</td>\n",
              "      <td>0</td>\n",
              "      <td>0</td>\n",
              "      <td>0</td>\n",
              "      <td>0</td>\n",
              "      <td>0</td>\n",
              "      <td>0</td>\n",
              "      <td>0</td>\n",
              "      <td>0</td>\n",
              "      <td>7226.301740</td>\n",
              "      <td>8567.549110</td>\n",
              "      <td>12999.542264</td>\n",
              "      <td>2</td>\n",
              "      <td>12</td>\n",
              "      <td>NaN</td>\n",
              "      <td>6.1875</td>\n",
              "    </tr>\n",
              "  </tbody>\n",
              "</table>\n",
              "<p>5 rows × 244 columns</p>\n",
              "</div>"
            ],
            "text/plain": [
              "   caseid  pregordr  howpreg_n  howpreg_p  ...  secu_p  sest  cmintvw  totalwgt_lb\n",
              "0       1         1        NaN        NaN  ...       2     9      NaN       8.8125\n",
              "1       1         2        NaN        NaN  ...       2     9      NaN       7.8750\n",
              "2       2         1        NaN        NaN  ...       2    12      NaN       9.1250\n",
              "3       2         2        NaN        NaN  ...       2    12      NaN       7.0000\n",
              "4       2         3        NaN        NaN  ...       2    12      NaN       6.1875\n",
              "\n",
              "[5 rows x 244 columns]"
            ]
          },
          "metadata": {},
          "execution_count": 3
        }
      ],
      "source": [
        "preg = nsfg.ReadFemPreg()\n",
        "preg.head()"
      ]
    },
    {
      "cell_type": "markdown",
      "metadata": {
        "id": "YDxOwVqdtlT6"
      },
      "source": [
        "Print the column names."
      ]
    },
    {
      "cell_type": "code",
      "execution_count": 4,
      "metadata": {
        "id": "gfwQeE_FtlT7",
        "outputId": "d3c39e20-6203-4229-ed5a-5a41285722d2",
        "colab": {
          "base_uri": "https://localhost:8080/"
        }
      },
      "outputs": [
        {
          "output_type": "execute_result",
          "data": {
            "text/plain": [
              "Index(['caseid', 'pregordr', 'howpreg_n', 'howpreg_p', 'moscurrp', 'nowprgdk',\n",
              "       'pregend1', 'pregend2', 'nbrnaliv', 'multbrth',\n",
              "       ...\n",
              "       'laborfor_i', 'religion_i', 'metro_i', 'basewgt', 'adj_mod_basewgt',\n",
              "       'finalwgt', 'secu_p', 'sest', 'cmintvw', 'totalwgt_lb'],\n",
              "      dtype='object', length=244)"
            ]
          },
          "metadata": {},
          "execution_count": 4
        }
      ],
      "source": [
        "preg.columns"
      ]
    },
    {
      "cell_type": "markdown",
      "metadata": {
        "id": "OhTsHzTstlT9"
      },
      "source": [
        "Select a single column name."
      ]
    },
    {
      "cell_type": "code",
      "execution_count": 5,
      "metadata": {
        "id": "VDiIXGemtlT-",
        "outputId": "eb78bbd7-f54d-4af4-d119-31578bd5064d",
        "colab": {
          "base_uri": "https://localhost:8080/",
          "height": 35
        }
      },
      "outputs": [
        {
          "output_type": "execute_result",
          "data": {
            "application/vnd.google.colaboratory.intrinsic+json": {
              "type": "string"
            },
            "text/plain": [
              "'pregordr'"
            ]
          },
          "metadata": {},
          "execution_count": 5
        }
      ],
      "source": [
        "preg.columns[1]"
      ]
    },
    {
      "cell_type": "markdown",
      "metadata": {
        "id": "c35vZ-gdtlT_"
      },
      "source": [
        "Select a column and check what type it is."
      ]
    },
    {
      "cell_type": "code",
      "execution_count": 13,
      "metadata": {
        "id": "LFmoj6yYtlUA",
        "outputId": "89c4e5a6-c54e-4766-bbe3-6362611e708d",
        "colab": {
          "base_uri": "https://localhost:8080/"
        }
      },
      "outputs": [
        {
          "output_type": "execute_result",
          "data": {
            "text/plain": [
              "pandas.core.series.Series"
            ]
          },
          "metadata": {},
          "execution_count": 13
        }
      ],
      "source": [
        "pregordr = preg['pregordr']\n",
        "type(pregordr)"
      ]
    },
    {
      "cell_type": "markdown",
      "metadata": {
        "id": "F5VKndYUtlUB"
      },
      "source": [
        "Print a column."
      ]
    },
    {
      "cell_type": "code",
      "execution_count": 14,
      "metadata": {
        "id": "h_6HSo-ntlUC",
        "outputId": "51754222-b057-4362-b356-b1635432cf9b",
        "colab": {
          "base_uri": "https://localhost:8080/"
        }
      },
      "outputs": [
        {
          "output_type": "execute_result",
          "data": {
            "text/plain": [
              "0        1\n",
              "1        2\n",
              "2        1\n",
              "3        2\n",
              "4        3\n",
              "        ..\n",
              "13588    1\n",
              "13589    2\n",
              "13590    3\n",
              "13591    4\n",
              "13592    5\n",
              "Name: pregordr, Length: 13593, dtype: int64"
            ]
          },
          "metadata": {},
          "execution_count": 14
        }
      ],
      "source": [
        "pregordr"
      ]
    },
    {
      "cell_type": "markdown",
      "metadata": {
        "id": "S6AzU3LKtlUC"
      },
      "source": [
        "Select a single element from a column."
      ]
    },
    {
      "cell_type": "code",
      "execution_count": null,
      "metadata": {
        "id": "XckEktsVtlUD",
        "outputId": "bbeebe28-8eb9-4dce-8e30-de7d3c91cdf4"
      },
      "outputs": [
        {
          "data": {
            "text/plain": [
              "1"
            ]
          },
          "execution_count": 7,
          "metadata": {},
          "output_type": "execute_result"
        }
      ],
      "source": [
        "pregordr[0]"
      ]
    },
    {
      "cell_type": "markdown",
      "metadata": {
        "id": "K5Ps3rUvtlUD"
      },
      "source": [
        "Select a slice from a column."
      ]
    },
    {
      "cell_type": "code",
      "execution_count": null,
      "metadata": {
        "id": "MBjwhDZJtlUE",
        "outputId": "c2a5e528-a239-4954-e7a1-6068b18d09b9"
      },
      "outputs": [
        {
          "data": {
            "text/plain": [
              "2    1\n",
              "3    2\n",
              "4    3\n",
              "Name: pregordr, dtype: int64"
            ]
          },
          "execution_count": 8,
          "metadata": {},
          "output_type": "execute_result"
        }
      ],
      "source": [
        "pregordr[2:5]"
      ]
    },
    {
      "cell_type": "markdown",
      "metadata": {
        "id": "kPHgGriLtlUE"
      },
      "source": [
        "Select a column using dot notation."
      ]
    },
    {
      "cell_type": "code",
      "execution_count": null,
      "metadata": {
        "id": "25HroHCYtlUF"
      },
      "outputs": [],
      "source": [
        "pregordr = preg.pregordr"
      ]
    },
    {
      "cell_type": "markdown",
      "metadata": {
        "id": "O3ipT017tlUF"
      },
      "source": [
        "Count the number of times each value occurs."
      ]
    },
    {
      "cell_type": "code",
      "execution_count": null,
      "metadata": {
        "id": "m5mBzGpHtlUF",
        "outputId": "54bcf71a-e53b-466c-f8d6-7c85acf2f9c9"
      },
      "outputs": [
        {
          "data": {
            "text/plain": [
              "1    9148\n",
              "2    1862\n",
              "3     120\n",
              "4    1921\n",
              "5     190\n",
              "6     352\n",
              "Name: outcome, dtype: int64"
            ]
          },
          "execution_count": 10,
          "metadata": {},
          "output_type": "execute_result"
        }
      ],
      "source": [
        "preg.outcome.value_counts().sort_index()"
      ]
    },
    {
      "cell_type": "markdown",
      "metadata": {
        "id": "AbbUYevGtlUG"
      },
      "source": [
        "Check the values of another variable."
      ]
    },
    {
      "cell_type": "code",
      "execution_count": null,
      "metadata": {
        "id": "lwR8AVM8tlUG",
        "outputId": "e02abe1f-4b4e-4dbf-9c72-6dbb2309aaed"
      },
      "outputs": [
        {
          "data": {
            "text/plain": [
              "0.0        8\n",
              "1.0       40\n",
              "2.0       53\n",
              "3.0       98\n",
              "4.0      229\n",
              "5.0      697\n",
              "6.0     2223\n",
              "7.0     3049\n",
              "8.0     1889\n",
              "9.0      623\n",
              "10.0     132\n",
              "11.0      26\n",
              "12.0      10\n",
              "13.0       3\n",
              "14.0       3\n",
              "15.0       1\n",
              "Name: birthwgt_lb, dtype: int64"
            ]
          },
          "execution_count": 11,
          "metadata": {},
          "output_type": "execute_result"
        }
      ],
      "source": [
        "preg.birthwgt_lb.value_counts().sort_index()"
      ]
    },
    {
      "cell_type": "markdown",
      "metadata": {
        "id": "mxD9dqJ5tlUH"
      },
      "source": [
        "Make a dictionary that maps from each respondent's `caseid` to a list of indices into the pregnancy `DataFrame`.  Use it to select the pregnancy outcomes for a single respondent."
      ]
    },
    {
      "cell_type": "code",
      "execution_count": 6,
      "metadata": {
        "id": "RwZIfD7EtlUH",
        "outputId": "e8468a74-6233-43fc-fcaa-200f2c5b77af",
        "colab": {
          "base_uri": "https://localhost:8080/"
        }
      },
      "outputs": [
        {
          "output_type": "execute_result",
          "data": {
            "text/plain": [
              "array([4, 4, 4, 4, 4, 4, 1])"
            ]
          },
          "metadata": {},
          "execution_count": 6
        }
      ],
      "source": [
        "caseid = 10229\n",
        "preg_map = nsfg.MakePregMap(preg)\n",
        "indices = preg_map[caseid]\n",
        "preg.outcome[indices].values"
      ]
    },
    {
      "cell_type": "markdown",
      "metadata": {
        "collapsed": true,
        "id": "FFtYK7sitlUI"
      },
      "source": [
        "## Exercises"
      ]
    },
    {
      "cell_type": "markdown",
      "metadata": {
        "id": "cvDj1-FItlUJ"
      },
      "source": [
        "Select the `birthord` column, print the value counts, and compare to results published in the [codebook](http://www.icpsr.umich.edu/nsfg6/Controller?displayPage=labelDetails&fileCode=PREG&section=A&subSec=8016&srtLabel=611933)"
      ]
    },
    {
      "cell_type": "code",
      "execution_count": 7,
      "metadata": {
        "id": "4FdsmOqytlUJ",
        "outputId": "d3bdf406-dbb9-4c30-ba1e-5ed2cf4b4f9d",
        "colab": {
          "base_uri": "https://localhost:8080/"
        }
      },
      "outputs": [
        {
          "output_type": "execute_result",
          "data": {
            "text/plain": [
              "1    9148\n",
              "2    1862\n",
              "3     120\n",
              "4    1921\n",
              "5     190\n",
              "6     352\n",
              "Name: outcome, dtype: int64"
            ]
          },
          "metadata": {},
          "execution_count": 7
        }
      ],
      "source": [
        "preg.outcome.value_counts().sort_index()"
      ]
    },
    {
      "cell_type": "markdown",
      "metadata": {
        "id": "q7s_QXwGtlUJ"
      },
      "source": [
        "We can also use `isnull` to count the number of nans."
      ]
    },
    {
      "cell_type": "code",
      "execution_count": 8,
      "metadata": {
        "id": "fzp1QcO2tlUJ",
        "outputId": "c2bc707d-e9f0-4f9d-971c-75c7e280a9a9",
        "colab": {
          "base_uri": "https://localhost:8080/"
        }
      },
      "outputs": [
        {
          "output_type": "execute_result",
          "data": {
            "text/plain": [
              "4445"
            ]
          },
          "metadata": {},
          "execution_count": 8
        }
      ],
      "source": [
        "preg.birthord.isnull().sum()"
      ]
    },
    {
      "cell_type": "markdown",
      "metadata": {
        "id": "RG7BOjC6tlUK"
      },
      "source": [
        "Select the `prglngth` column, print the value counts, and compare to results published in the [codebook](http://www.icpsr.umich.edu/nsfg6/Controller?displayPage=labelDetails&fileCode=PREG&section=A&subSec=8016&srtLabel=611931)"
      ]
    },
    {
      "cell_type": "code",
      "execution_count": 9,
      "metadata": {
        "id": "0Gum0F7KtlUK",
        "outputId": "1529949a-486f-4f09-c832-7baa2a80d71d",
        "colab": {
          "base_uri": "https://localhost:8080/"
        }
      },
      "outputs": [
        {
          "output_type": "execute_result",
          "data": {
            "text/plain": [
              "0       15\n",
              "1        9\n",
              "2       78\n",
              "3      151\n",
              "4      412\n",
              "5      181\n",
              "6      543\n",
              "7      175\n",
              "8      409\n",
              "9      594\n",
              "10     137\n",
              "11     202\n",
              "12     170\n",
              "13     446\n",
              "14      29\n",
              "15      39\n",
              "16      44\n",
              "17     253\n",
              "18      17\n",
              "19      34\n",
              "20      18\n",
              "21      37\n",
              "22     147\n",
              "23      12\n",
              "24      31\n",
              "25      15\n",
              "26     117\n",
              "27       8\n",
              "28      38\n",
              "29      23\n",
              "30     198\n",
              "31      29\n",
              "32     122\n",
              "33      50\n",
              "34      60\n",
              "35     357\n",
              "36     329\n",
              "37     457\n",
              "38     609\n",
              "39    4744\n",
              "40    1120\n",
              "41     591\n",
              "42     328\n",
              "43     148\n",
              "44      46\n",
              "45      10\n",
              "46       1\n",
              "47       1\n",
              "48       7\n",
              "50       2\n",
              "Name: prglngth, dtype: int64"
            ]
          },
          "metadata": {},
          "execution_count": 9
        }
      ],
      "source": [
        "prglngth = preg.prglngth\n",
        "prglngth.value_counts().sort_index()"
      ]
    },
    {
      "cell_type": "markdown",
      "metadata": {
        "id": "_g4zefXFtlUK"
      },
      "source": [
        "To compute the mean of a column, you can invoke the `mean` method on a Series.  For example, here is the mean birthweight in pounds:"
      ]
    },
    {
      "cell_type": "code",
      "execution_count": 10,
      "metadata": {
        "id": "z4R8f3uRtlUK",
        "outputId": "132980ee-b4fb-45b0-9a45-3870aea75ef5",
        "colab": {
          "base_uri": "https://localhost:8080/"
        }
      },
      "outputs": [
        {
          "output_type": "execute_result",
          "data": {
            "text/plain": [
              "7.265628457623368"
            ]
          },
          "metadata": {},
          "execution_count": 10
        }
      ],
      "source": [
        "preg.totalwgt_lb.mean()"
      ]
    },
    {
      "cell_type": "markdown",
      "metadata": {
        "id": "iLXrfPGmtlUL"
      },
      "source": [
        "Create a new column named <tt>totalwgt_kg</tt> that contains birth weight in kilograms.  Compute its mean.  Remember that when you create a new column, you have to use dictionary syntax, not dot notation."
      ]
    },
    {
      "cell_type": "code",
      "execution_count": 11,
      "metadata": {
        "id": "9Bmxh7aXtlUL",
        "outputId": "2ac38bac-7efd-4900-a7d9-0cff715d2b86",
        "colab": {
          "base_uri": "https://localhost:8080/"
        }
      },
      "outputs": [
        {
          "output_type": "execute_result",
          "data": {
            "text/plain": [
              "0    3.628736\n",
              "1    3.175144\n",
              "2    4.082328\n",
              "3    3.175144\n",
              "4    2.721552\n",
              "Name: totalwgt_kg, dtype: float64"
            ]
          },
          "metadata": {},
          "execution_count": 11
        }
      ],
      "source": [
        "preg['totalwgt_kg']=preg.birthwgt_lb*0.453592\n",
        "preg.totalwgt_kg.head()"
      ]
    },
    {
      "cell_type": "markdown",
      "metadata": {
        "id": "_-1BR_jgtlUL"
      },
      "source": [
        "`nsfg.py` also provides `ReadFemResp`, which reads the female respondents file and returns a `DataFrame`:"
      ]
    },
    {
      "cell_type": "code",
      "execution_count": 12,
      "metadata": {
        "id": "3PtivzbTtlUM"
      },
      "outputs": [],
      "source": [
        "resp = nsfg.ReadFemResp()"
      ]
    },
    {
      "cell_type": "markdown",
      "metadata": {
        "id": "DGBkDvLEtlUM"
      },
      "source": [
        "`DataFrame` provides a method `head` that displays the first five rows:"
      ]
    },
    {
      "cell_type": "code",
      "execution_count": 13,
      "metadata": {
        "id": "5jLRdwk0tlUM",
        "outputId": "6c02c083-44e4-43df-8129-3b7e1e5b1b53",
        "colab": {
          "base_uri": "https://localhost:8080/",
          "height": 255
        }
      },
      "outputs": [
        {
          "output_type": "execute_result",
          "data": {
            "text/html": [
              "<div>\n",
              "<style scoped>\n",
              "    .dataframe tbody tr th:only-of-type {\n",
              "        vertical-align: middle;\n",
              "    }\n",
              "\n",
              "    .dataframe tbody tr th {\n",
              "        vertical-align: top;\n",
              "    }\n",
              "\n",
              "    .dataframe thead th {\n",
              "        text-align: right;\n",
              "    }\n",
              "</style>\n",
              "<table border=\"1\" class=\"dataframe\">\n",
              "  <thead>\n",
              "    <tr style=\"text-align: right;\">\n",
              "      <th></th>\n",
              "      <th>caseid</th>\n",
              "      <th>rscrinf</th>\n",
              "      <th>rdormres</th>\n",
              "      <th>rostscrn</th>\n",
              "      <th>rscreenhisp</th>\n",
              "      <th>rscreenrace</th>\n",
              "      <th>age_a</th>\n",
              "      <th>age_r</th>\n",
              "      <th>cmbirth</th>\n",
              "      <th>agescrn</th>\n",
              "      <th>marstat</th>\n",
              "      <th>fmarstat</th>\n",
              "      <th>fmarit</th>\n",
              "      <th>evrmarry</th>\n",
              "      <th>hisp</th>\n",
              "      <th>hispgrp</th>\n",
              "      <th>numrace</th>\n",
              "      <th>roscnt</th>\n",
              "      <th>hplocale</th>\n",
              "      <th>manrel</th>\n",
              "      <th>fl_rage</th>\n",
              "      <th>fl_rrace</th>\n",
              "      <th>fl_rhisp</th>\n",
              "      <th>goschol</th>\n",
              "      <th>vaca</th>\n",
              "      <th>higrade</th>\n",
              "      <th>compgrd</th>\n",
              "      <th>havedip</th>\n",
              "      <th>dipged</th>\n",
              "      <th>cmhsgrad</th>\n",
              "      <th>havedeg</th>\n",
              "      <th>degrees</th>\n",
              "      <th>wthparnw</th>\n",
              "      <th>onown</th>\n",
              "      <th>intact</th>\n",
              "      <th>parmarr</th>\n",
              "      <th>lvsit14f</th>\n",
              "      <th>lvsit14m</th>\n",
              "      <th>womrasdu</th>\n",
              "      <th>momdegre</th>\n",
              "      <th>...</th>\n",
              "      <th>fibroids</th>\n",
              "      <th>pidtreat</th>\n",
              "      <th>evhivtst</th>\n",
              "      <th>anyprghp_i</th>\n",
              "      <th>anymschp_i</th>\n",
              "      <th>infever_i</th>\n",
              "      <th>ovulate_i</th>\n",
              "      <th>tubes_i</th>\n",
              "      <th>infertr_i</th>\n",
              "      <th>inferth_i</th>\n",
              "      <th>advice_i</th>\n",
              "      <th>insem_i</th>\n",
              "      <th>invitro_i</th>\n",
              "      <th>endomet_i</th>\n",
              "      <th>fibroids_i</th>\n",
              "      <th>pidtreat_i</th>\n",
              "      <th>evhivtst_i</th>\n",
              "      <th>insuranc</th>\n",
              "      <th>metro</th>\n",
              "      <th>religion</th>\n",
              "      <th>laborfor</th>\n",
              "      <th>insuranc_i</th>\n",
              "      <th>metro_i</th>\n",
              "      <th>religion_i</th>\n",
              "      <th>laborfor_i</th>\n",
              "      <th>poverty</th>\n",
              "      <th>totincr</th>\n",
              "      <th>pubassis</th>\n",
              "      <th>poverty_i</th>\n",
              "      <th>totincr_i</th>\n",
              "      <th>pubassis_i</th>\n",
              "      <th>basewgt</th>\n",
              "      <th>adj_mod_basewgt</th>\n",
              "      <th>finalwgt</th>\n",
              "      <th>secu_r</th>\n",
              "      <th>sest</th>\n",
              "      <th>cmintvw</th>\n",
              "      <th>cmlstyr</th>\n",
              "      <th>screentime</th>\n",
              "      <th>intvlngth</th>\n",
              "    </tr>\n",
              "  </thead>\n",
              "  <tbody>\n",
              "    <tr>\n",
              "      <th>0</th>\n",
              "      <td>2298</td>\n",
              "      <td>1</td>\n",
              "      <td>5</td>\n",
              "      <td>5</td>\n",
              "      <td>1</td>\n",
              "      <td>5.0</td>\n",
              "      <td>27</td>\n",
              "      <td>27</td>\n",
              "      <td>902</td>\n",
              "      <td>27</td>\n",
              "      <td>2</td>\n",
              "      <td>6.0</td>\n",
              "      <td>5</td>\n",
              "      <td>0</td>\n",
              "      <td>1</td>\n",
              "      <td>1.0</td>\n",
              "      <td>1</td>\n",
              "      <td>5</td>\n",
              "      <td>1.0</td>\n",
              "      <td>2.0</td>\n",
              "      <td>0</td>\n",
              "      <td>0</td>\n",
              "      <td>0</td>\n",
              "      <td>5</td>\n",
              "      <td>NaN</td>\n",
              "      <td>10</td>\n",
              "      <td>1.0</td>\n",
              "      <td>5.0</td>\n",
              "      <td>NaN</td>\n",
              "      <td>NaN</td>\n",
              "      <td>NaN</td>\n",
              "      <td>NaN</td>\n",
              "      <td>2</td>\n",
              "      <td>5.0</td>\n",
              "      <td>1.0</td>\n",
              "      <td>1</td>\n",
              "      <td>NaN</td>\n",
              "      <td>NaN</td>\n",
              "      <td>NaN</td>\n",
              "      <td>1.0</td>\n",
              "      <td>...</td>\n",
              "      <td>NaN</td>\n",
              "      <td>2</td>\n",
              "      <td>0</td>\n",
              "      <td>0</td>\n",
              "      <td>0</td>\n",
              "      <td>0</td>\n",
              "      <td>0</td>\n",
              "      <td>0</td>\n",
              "      <td>0</td>\n",
              "      <td>0</td>\n",
              "      <td>0</td>\n",
              "      <td>0</td>\n",
              "      <td>0</td>\n",
              "      <td>0</td>\n",
              "      <td>0</td>\n",
              "      <td>0</td>\n",
              "      <td>0</td>\n",
              "      <td>1</td>\n",
              "      <td>1</td>\n",
              "      <td>2</td>\n",
              "      <td>7</td>\n",
              "      <td>0</td>\n",
              "      <td>0</td>\n",
              "      <td>0</td>\n",
              "      <td>0</td>\n",
              "      <td>156</td>\n",
              "      <td>9</td>\n",
              "      <td>2</td>\n",
              "      <td>0</td>\n",
              "      <td>0</td>\n",
              "      <td>0</td>\n",
              "      <td>3247.916977</td>\n",
              "      <td>5123.759559</td>\n",
              "      <td>5556.717241</td>\n",
              "      <td>2</td>\n",
              "      <td>18</td>\n",
              "      <td>1234</td>\n",
              "      <td>1222</td>\n",
              "      <td>18:26:36</td>\n",
              "      <td>110.492667</td>\n",
              "    </tr>\n",
              "    <tr>\n",
              "      <th>1</th>\n",
              "      <td>5012</td>\n",
              "      <td>1</td>\n",
              "      <td>5</td>\n",
              "      <td>1</td>\n",
              "      <td>5</td>\n",
              "      <td>5.0</td>\n",
              "      <td>42</td>\n",
              "      <td>42</td>\n",
              "      <td>718</td>\n",
              "      <td>42</td>\n",
              "      <td>1</td>\n",
              "      <td>NaN</td>\n",
              "      <td>1</td>\n",
              "      <td>1</td>\n",
              "      <td>5</td>\n",
              "      <td>NaN</td>\n",
              "      <td>1</td>\n",
              "      <td>2</td>\n",
              "      <td>1.0</td>\n",
              "      <td>1.0</td>\n",
              "      <td>0</td>\n",
              "      <td>0</td>\n",
              "      <td>0</td>\n",
              "      <td>5</td>\n",
              "      <td>NaN</td>\n",
              "      <td>14</td>\n",
              "      <td>5.0</td>\n",
              "      <td>1.0</td>\n",
              "      <td>2.0</td>\n",
              "      <td>NaN</td>\n",
              "      <td>5.0</td>\n",
              "      <td>NaN</td>\n",
              "      <td>2</td>\n",
              "      <td>5.0</td>\n",
              "      <td>1.0</td>\n",
              "      <td>1</td>\n",
              "      <td>NaN</td>\n",
              "      <td>NaN</td>\n",
              "      <td>NaN</td>\n",
              "      <td>1.0</td>\n",
              "      <td>...</td>\n",
              "      <td>NaN</td>\n",
              "      <td>2</td>\n",
              "      <td>2</td>\n",
              "      <td>0</td>\n",
              "      <td>0</td>\n",
              "      <td>0</td>\n",
              "      <td>0</td>\n",
              "      <td>0</td>\n",
              "      <td>0</td>\n",
              "      <td>0</td>\n",
              "      <td>0</td>\n",
              "      <td>0</td>\n",
              "      <td>0</td>\n",
              "      <td>0</td>\n",
              "      <td>0</td>\n",
              "      <td>0</td>\n",
              "      <td>0</td>\n",
              "      <td>4</td>\n",
              "      <td>1</td>\n",
              "      <td>1</td>\n",
              "      <td>1</td>\n",
              "      <td>0</td>\n",
              "      <td>0</td>\n",
              "      <td>0</td>\n",
              "      <td>0</td>\n",
              "      <td>334</td>\n",
              "      <td>10</td>\n",
              "      <td>2</td>\n",
              "      <td>0</td>\n",
              "      <td>0</td>\n",
              "      <td>0</td>\n",
              "      <td>2335.279149</td>\n",
              "      <td>2846.799490</td>\n",
              "      <td>4744.191350</td>\n",
              "      <td>2</td>\n",
              "      <td>18</td>\n",
              "      <td>1233</td>\n",
              "      <td>1221</td>\n",
              "      <td>16:30:59</td>\n",
              "      <td>64.294000</td>\n",
              "    </tr>\n",
              "    <tr>\n",
              "      <th>2</th>\n",
              "      <td>11586</td>\n",
              "      <td>1</td>\n",
              "      <td>5</td>\n",
              "      <td>1</td>\n",
              "      <td>5</td>\n",
              "      <td>5.0</td>\n",
              "      <td>43</td>\n",
              "      <td>43</td>\n",
              "      <td>708</td>\n",
              "      <td>43</td>\n",
              "      <td>4</td>\n",
              "      <td>NaN</td>\n",
              "      <td>3</td>\n",
              "      <td>1</td>\n",
              "      <td>5</td>\n",
              "      <td>NaN</td>\n",
              "      <td>1</td>\n",
              "      <td>1</td>\n",
              "      <td>NaN</td>\n",
              "      <td>NaN</td>\n",
              "      <td>0</td>\n",
              "      <td>0</td>\n",
              "      <td>0</td>\n",
              "      <td>5</td>\n",
              "      <td>NaN</td>\n",
              "      <td>12</td>\n",
              "      <td>1.0</td>\n",
              "      <td>1.0</td>\n",
              "      <td>1.0</td>\n",
              "      <td>932.0</td>\n",
              "      <td>NaN</td>\n",
              "      <td>NaN</td>\n",
              "      <td>2</td>\n",
              "      <td>5.0</td>\n",
              "      <td>1.0</td>\n",
              "      <td>1</td>\n",
              "      <td>NaN</td>\n",
              "      <td>NaN</td>\n",
              "      <td>NaN</td>\n",
              "      <td>1.0</td>\n",
              "      <td>...</td>\n",
              "      <td>NaN</td>\n",
              "      <td>2</td>\n",
              "      <td>2</td>\n",
              "      <td>0</td>\n",
              "      <td>0</td>\n",
              "      <td>0</td>\n",
              "      <td>0</td>\n",
              "      <td>0</td>\n",
              "      <td>0</td>\n",
              "      <td>0</td>\n",
              "      <td>0</td>\n",
              "      <td>0</td>\n",
              "      <td>0</td>\n",
              "      <td>0</td>\n",
              "      <td>0</td>\n",
              "      <td>0</td>\n",
              "      <td>0</td>\n",
              "      <td>4</td>\n",
              "      <td>1</td>\n",
              "      <td>1</td>\n",
              "      <td>9</td>\n",
              "      <td>0</td>\n",
              "      <td>0</td>\n",
              "      <td>0</td>\n",
              "      <td>0</td>\n",
              "      <td>156</td>\n",
              "      <td>5</td>\n",
              "      <td>2</td>\n",
              "      <td>0</td>\n",
              "      <td>0</td>\n",
              "      <td>0</td>\n",
              "      <td>2335.279149</td>\n",
              "      <td>2846.799490</td>\n",
              "      <td>4744.191350</td>\n",
              "      <td>2</td>\n",
              "      <td>18</td>\n",
              "      <td>1234</td>\n",
              "      <td>1222</td>\n",
              "      <td>18:19:09</td>\n",
              "      <td>75.149167</td>\n",
              "    </tr>\n",
              "    <tr>\n",
              "      <th>3</th>\n",
              "      <td>6794</td>\n",
              "      <td>5</td>\n",
              "      <td>5</td>\n",
              "      <td>4</td>\n",
              "      <td>1</td>\n",
              "      <td>5.0</td>\n",
              "      <td>15</td>\n",
              "      <td>15</td>\n",
              "      <td>1042</td>\n",
              "      <td>15</td>\n",
              "      <td>6</td>\n",
              "      <td>NaN</td>\n",
              "      <td>5</td>\n",
              "      <td>0</td>\n",
              "      <td>1</td>\n",
              "      <td>2.0</td>\n",
              "      <td>1</td>\n",
              "      <td>4</td>\n",
              "      <td>NaN</td>\n",
              "      <td>NaN</td>\n",
              "      <td>0</td>\n",
              "      <td>0</td>\n",
              "      <td>0</td>\n",
              "      <td>1</td>\n",
              "      <td>5.0</td>\n",
              "      <td>10</td>\n",
              "      <td>5.0</td>\n",
              "      <td>NaN</td>\n",
              "      <td>NaN</td>\n",
              "      <td>NaN</td>\n",
              "      <td>NaN</td>\n",
              "      <td>NaN</td>\n",
              "      <td>1</td>\n",
              "      <td>5.0</td>\n",
              "      <td>5.0</td>\n",
              "      <td>1</td>\n",
              "      <td>1.0</td>\n",
              "      <td>1.0</td>\n",
              "      <td>1.0</td>\n",
              "      <td>2.0</td>\n",
              "      <td>...</td>\n",
              "      <td>NaN</td>\n",
              "      <td>2</td>\n",
              "      <td>0</td>\n",
              "      <td>0</td>\n",
              "      <td>0</td>\n",
              "      <td>0</td>\n",
              "      <td>0</td>\n",
              "      <td>0</td>\n",
              "      <td>0</td>\n",
              "      <td>0</td>\n",
              "      <td>0</td>\n",
              "      <td>0</td>\n",
              "      <td>0</td>\n",
              "      <td>0</td>\n",
              "      <td>0</td>\n",
              "      <td>0</td>\n",
              "      <td>0</td>\n",
              "      <td>2</td>\n",
              "      <td>1</td>\n",
              "      <td>1</td>\n",
              "      <td>6</td>\n",
              "      <td>0</td>\n",
              "      <td>0</td>\n",
              "      <td>0</td>\n",
              "      <td>0</td>\n",
              "      <td>383</td>\n",
              "      <td>13</td>\n",
              "      <td>2</td>\n",
              "      <td>0</td>\n",
              "      <td>0</td>\n",
              "      <td>0</td>\n",
              "      <td>3783.152221</td>\n",
              "      <td>5071.464231</td>\n",
              "      <td>5923.977368</td>\n",
              "      <td>2</td>\n",
              "      <td>18</td>\n",
              "      <td>1234</td>\n",
              "      <td>1222</td>\n",
              "      <td>15:54:43</td>\n",
              "      <td>28.642833</td>\n",
              "    </tr>\n",
              "    <tr>\n",
              "      <th>4</th>\n",
              "      <td>616</td>\n",
              "      <td>1</td>\n",
              "      <td>5</td>\n",
              "      <td>4</td>\n",
              "      <td>1</td>\n",
              "      <td>5.0</td>\n",
              "      <td>20</td>\n",
              "      <td>20</td>\n",
              "      <td>991</td>\n",
              "      <td>20</td>\n",
              "      <td>6</td>\n",
              "      <td>NaN</td>\n",
              "      <td>5</td>\n",
              "      <td>0</td>\n",
              "      <td>1</td>\n",
              "      <td>1.0</td>\n",
              "      <td>1</td>\n",
              "      <td>4</td>\n",
              "      <td>NaN</td>\n",
              "      <td>NaN</td>\n",
              "      <td>0</td>\n",
              "      <td>0</td>\n",
              "      <td>0</td>\n",
              "      <td>1</td>\n",
              "      <td>5.0</td>\n",
              "      <td>11</td>\n",
              "      <td>5.0</td>\n",
              "      <td>NaN</td>\n",
              "      <td>NaN</td>\n",
              "      <td>NaN</td>\n",
              "      <td>NaN</td>\n",
              "      <td>NaN</td>\n",
              "      <td>2</td>\n",
              "      <td>1.0</td>\n",
              "      <td>1.0</td>\n",
              "      <td>1</td>\n",
              "      <td>NaN</td>\n",
              "      <td>NaN</td>\n",
              "      <td>NaN</td>\n",
              "      <td>2.0</td>\n",
              "      <td>...</td>\n",
              "      <td>NaN</td>\n",
              "      <td>1</td>\n",
              "      <td>1</td>\n",
              "      <td>0</td>\n",
              "      <td>0</td>\n",
              "      <td>0</td>\n",
              "      <td>0</td>\n",
              "      <td>0</td>\n",
              "      <td>0</td>\n",
              "      <td>0</td>\n",
              "      <td>0</td>\n",
              "      <td>0</td>\n",
              "      <td>0</td>\n",
              "      <td>0</td>\n",
              "      <td>0</td>\n",
              "      <td>0</td>\n",
              "      <td>0</td>\n",
              "      <td>2</td>\n",
              "      <td>1</td>\n",
              "      <td>3</td>\n",
              "      <td>6</td>\n",
              "      <td>0</td>\n",
              "      <td>0</td>\n",
              "      <td>0</td>\n",
              "      <td>0</td>\n",
              "      <td>99</td>\n",
              "      <td>6</td>\n",
              "      <td>2</td>\n",
              "      <td>0</td>\n",
              "      <td>0</td>\n",
              "      <td>0</td>\n",
              "      <td>5341.329968</td>\n",
              "      <td>6437.335772</td>\n",
              "      <td>7229.128072</td>\n",
              "      <td>2</td>\n",
              "      <td>18</td>\n",
              "      <td>1233</td>\n",
              "      <td>1221</td>\n",
              "      <td>14:19:44</td>\n",
              "      <td>69.502667</td>\n",
              "    </tr>\n",
              "  </tbody>\n",
              "</table>\n",
              "<p>5 rows × 3087 columns</p>\n",
              "</div>"
            ],
            "text/plain": [
              "   caseid  rscrinf  rdormres  ...  cmlstyr  screentime   intvlngth\n",
              "0    2298        1         5  ...     1222    18:26:36  110.492667\n",
              "1    5012        1         5  ...     1221    16:30:59   64.294000\n",
              "2   11586        1         5  ...     1222    18:19:09   75.149167\n",
              "3    6794        5         5  ...     1222    15:54:43   28.642833\n",
              "4     616        1         5  ...     1221    14:19:44   69.502667\n",
              "\n",
              "[5 rows x 3087 columns]"
            ]
          },
          "metadata": {},
          "execution_count": 13
        }
      ],
      "source": [
        "resp.head()"
      ]
    },
    {
      "cell_type": "markdown",
      "metadata": {
        "id": "V5j4TJ2htlUM"
      },
      "source": [
        "Select the `age_r` column from `resp` and print the value counts.  How old are the youngest and oldest respondents?"
      ]
    },
    {
      "cell_type": "code",
      "execution_count": 14,
      "metadata": {
        "id": "LdUz_THxtlUN",
        "outputId": "b2572a72-7d8d-4ea3-e733-f392b6af90e4",
        "colab": {
          "base_uri": "https://localhost:8080/"
        }
      },
      "outputs": [
        {
          "output_type": "execute_result",
          "data": {
            "text/plain": [
              "15    217\n",
              "16    223\n",
              "17    234\n",
              "18    235\n",
              "19    241\n",
              "20    258\n",
              "21    267\n",
              "22    287\n",
              "23    282\n",
              "24    269\n",
              "25    267\n",
              "26    260\n",
              "27    255\n",
              "28    252\n",
              "29    262\n",
              "30    292\n",
              "31    278\n",
              "32    273\n",
              "33    257\n",
              "34    255\n",
              "35    262\n",
              "36    266\n",
              "37    271\n",
              "38    256\n",
              "39    215\n",
              "40    256\n",
              "41    250\n",
              "42    215\n",
              "43    253\n",
              "44    235\n",
              "Name: age_r, dtype: int64"
            ]
          },
          "metadata": {},
          "execution_count": 14
        }
      ],
      "source": [
        "resp.age_r.value_counts().sort_index()"
      ]
    },
    {
      "cell_type": "markdown",
      "metadata": {
        "id": "aTM4DrRTtlUO"
      },
      "source": [
        "We can use the `caseid` to match up rows from `resp` and `preg`.  For example, we can select the row from `resp` for `caseid` 2298 like this:"
      ]
    },
    {
      "cell_type": "code",
      "execution_count": 15,
      "metadata": {
        "id": "q0ik5y1stlUO",
        "outputId": "a026137f-cde7-41d9-9a08-c37e610abbb2",
        "colab": {
          "base_uri": "https://localhost:8080/",
          "height": 130
        }
      },
      "outputs": [
        {
          "output_type": "execute_result",
          "data": {
            "text/html": [
              "<div>\n",
              "<style scoped>\n",
              "    .dataframe tbody tr th:only-of-type {\n",
              "        vertical-align: middle;\n",
              "    }\n",
              "\n",
              "    .dataframe tbody tr th {\n",
              "        vertical-align: top;\n",
              "    }\n",
              "\n",
              "    .dataframe thead th {\n",
              "        text-align: right;\n",
              "    }\n",
              "</style>\n",
              "<table border=\"1\" class=\"dataframe\">\n",
              "  <thead>\n",
              "    <tr style=\"text-align: right;\">\n",
              "      <th></th>\n",
              "      <th>caseid</th>\n",
              "      <th>rscrinf</th>\n",
              "      <th>rdormres</th>\n",
              "      <th>rostscrn</th>\n",
              "      <th>rscreenhisp</th>\n",
              "      <th>rscreenrace</th>\n",
              "      <th>age_a</th>\n",
              "      <th>age_r</th>\n",
              "      <th>cmbirth</th>\n",
              "      <th>agescrn</th>\n",
              "      <th>marstat</th>\n",
              "      <th>fmarstat</th>\n",
              "      <th>fmarit</th>\n",
              "      <th>evrmarry</th>\n",
              "      <th>hisp</th>\n",
              "      <th>hispgrp</th>\n",
              "      <th>numrace</th>\n",
              "      <th>roscnt</th>\n",
              "      <th>hplocale</th>\n",
              "      <th>manrel</th>\n",
              "      <th>fl_rage</th>\n",
              "      <th>fl_rrace</th>\n",
              "      <th>fl_rhisp</th>\n",
              "      <th>goschol</th>\n",
              "      <th>vaca</th>\n",
              "      <th>higrade</th>\n",
              "      <th>compgrd</th>\n",
              "      <th>havedip</th>\n",
              "      <th>dipged</th>\n",
              "      <th>cmhsgrad</th>\n",
              "      <th>havedeg</th>\n",
              "      <th>degrees</th>\n",
              "      <th>wthparnw</th>\n",
              "      <th>onown</th>\n",
              "      <th>intact</th>\n",
              "      <th>parmarr</th>\n",
              "      <th>lvsit14f</th>\n",
              "      <th>lvsit14m</th>\n",
              "      <th>womrasdu</th>\n",
              "      <th>momdegre</th>\n",
              "      <th>...</th>\n",
              "      <th>fibroids</th>\n",
              "      <th>pidtreat</th>\n",
              "      <th>evhivtst</th>\n",
              "      <th>anyprghp_i</th>\n",
              "      <th>anymschp_i</th>\n",
              "      <th>infever_i</th>\n",
              "      <th>ovulate_i</th>\n",
              "      <th>tubes_i</th>\n",
              "      <th>infertr_i</th>\n",
              "      <th>inferth_i</th>\n",
              "      <th>advice_i</th>\n",
              "      <th>insem_i</th>\n",
              "      <th>invitro_i</th>\n",
              "      <th>endomet_i</th>\n",
              "      <th>fibroids_i</th>\n",
              "      <th>pidtreat_i</th>\n",
              "      <th>evhivtst_i</th>\n",
              "      <th>insuranc</th>\n",
              "      <th>metro</th>\n",
              "      <th>religion</th>\n",
              "      <th>laborfor</th>\n",
              "      <th>insuranc_i</th>\n",
              "      <th>metro_i</th>\n",
              "      <th>religion_i</th>\n",
              "      <th>laborfor_i</th>\n",
              "      <th>poverty</th>\n",
              "      <th>totincr</th>\n",
              "      <th>pubassis</th>\n",
              "      <th>poverty_i</th>\n",
              "      <th>totincr_i</th>\n",
              "      <th>pubassis_i</th>\n",
              "      <th>basewgt</th>\n",
              "      <th>adj_mod_basewgt</th>\n",
              "      <th>finalwgt</th>\n",
              "      <th>secu_r</th>\n",
              "      <th>sest</th>\n",
              "      <th>cmintvw</th>\n",
              "      <th>cmlstyr</th>\n",
              "      <th>screentime</th>\n",
              "      <th>intvlngth</th>\n",
              "    </tr>\n",
              "  </thead>\n",
              "  <tbody>\n",
              "    <tr>\n",
              "      <th>0</th>\n",
              "      <td>2298</td>\n",
              "      <td>1</td>\n",
              "      <td>5</td>\n",
              "      <td>5</td>\n",
              "      <td>1</td>\n",
              "      <td>5.0</td>\n",
              "      <td>27</td>\n",
              "      <td>27</td>\n",
              "      <td>902</td>\n",
              "      <td>27</td>\n",
              "      <td>2</td>\n",
              "      <td>6.0</td>\n",
              "      <td>5</td>\n",
              "      <td>0</td>\n",
              "      <td>1</td>\n",
              "      <td>1.0</td>\n",
              "      <td>1</td>\n",
              "      <td>5</td>\n",
              "      <td>1.0</td>\n",
              "      <td>2.0</td>\n",
              "      <td>0</td>\n",
              "      <td>0</td>\n",
              "      <td>0</td>\n",
              "      <td>5</td>\n",
              "      <td>NaN</td>\n",
              "      <td>10</td>\n",
              "      <td>1.0</td>\n",
              "      <td>5.0</td>\n",
              "      <td>NaN</td>\n",
              "      <td>NaN</td>\n",
              "      <td>NaN</td>\n",
              "      <td>NaN</td>\n",
              "      <td>2</td>\n",
              "      <td>5.0</td>\n",
              "      <td>1.0</td>\n",
              "      <td>1</td>\n",
              "      <td>NaN</td>\n",
              "      <td>NaN</td>\n",
              "      <td>NaN</td>\n",
              "      <td>1.0</td>\n",
              "      <td>...</td>\n",
              "      <td>NaN</td>\n",
              "      <td>2</td>\n",
              "      <td>0</td>\n",
              "      <td>0</td>\n",
              "      <td>0</td>\n",
              "      <td>0</td>\n",
              "      <td>0</td>\n",
              "      <td>0</td>\n",
              "      <td>0</td>\n",
              "      <td>0</td>\n",
              "      <td>0</td>\n",
              "      <td>0</td>\n",
              "      <td>0</td>\n",
              "      <td>0</td>\n",
              "      <td>0</td>\n",
              "      <td>0</td>\n",
              "      <td>0</td>\n",
              "      <td>1</td>\n",
              "      <td>1</td>\n",
              "      <td>2</td>\n",
              "      <td>7</td>\n",
              "      <td>0</td>\n",
              "      <td>0</td>\n",
              "      <td>0</td>\n",
              "      <td>0</td>\n",
              "      <td>156</td>\n",
              "      <td>9</td>\n",
              "      <td>2</td>\n",
              "      <td>0</td>\n",
              "      <td>0</td>\n",
              "      <td>0</td>\n",
              "      <td>3247.916977</td>\n",
              "      <td>5123.759559</td>\n",
              "      <td>5556.717241</td>\n",
              "      <td>2</td>\n",
              "      <td>18</td>\n",
              "      <td>1234</td>\n",
              "      <td>1222</td>\n",
              "      <td>18:26:36</td>\n",
              "      <td>110.492667</td>\n",
              "    </tr>\n",
              "  </tbody>\n",
              "</table>\n",
              "<p>1 rows × 3087 columns</p>\n",
              "</div>"
            ],
            "text/plain": [
              "   caseid  rscrinf  rdormres  ...  cmlstyr  screentime   intvlngth\n",
              "0    2298        1         5  ...     1222    18:26:36  110.492667\n",
              "\n",
              "[1 rows x 3087 columns]"
            ]
          },
          "metadata": {},
          "execution_count": 15
        }
      ],
      "source": [
        "resp[resp.caseid==2298]"
      ]
    },
    {
      "cell_type": "markdown",
      "metadata": {
        "id": "nOjg15QptlUO"
      },
      "source": [
        "And we can get the corresponding rows from `preg` like this:"
      ]
    },
    {
      "cell_type": "code",
      "execution_count": 16,
      "metadata": {
        "id": "mNw767fLtlUO",
        "outputId": "f0d3f573-e2ab-43ff-8bf0-1e83d050acf7",
        "colab": {
          "base_uri": "https://localhost:8080/",
          "height": 224
        }
      },
      "outputs": [
        {
          "output_type": "execute_result",
          "data": {
            "text/html": [
              "<div>\n",
              "<style scoped>\n",
              "    .dataframe tbody tr th:only-of-type {\n",
              "        vertical-align: middle;\n",
              "    }\n",
              "\n",
              "    .dataframe tbody tr th {\n",
              "        vertical-align: top;\n",
              "    }\n",
              "\n",
              "    .dataframe thead th {\n",
              "        text-align: right;\n",
              "    }\n",
              "</style>\n",
              "<table border=\"1\" class=\"dataframe\">\n",
              "  <thead>\n",
              "    <tr style=\"text-align: right;\">\n",
              "      <th></th>\n",
              "      <th>caseid</th>\n",
              "      <th>pregordr</th>\n",
              "      <th>howpreg_n</th>\n",
              "      <th>howpreg_p</th>\n",
              "      <th>moscurrp</th>\n",
              "      <th>nowprgdk</th>\n",
              "      <th>pregend1</th>\n",
              "      <th>pregend2</th>\n",
              "      <th>nbrnaliv</th>\n",
              "      <th>multbrth</th>\n",
              "      <th>cmotpreg</th>\n",
              "      <th>prgoutcome</th>\n",
              "      <th>cmprgend</th>\n",
              "      <th>flgdkmo1</th>\n",
              "      <th>cmprgbeg</th>\n",
              "      <th>ageatend</th>\n",
              "      <th>hpageend</th>\n",
              "      <th>gestasun_m</th>\n",
              "      <th>gestasun_w</th>\n",
              "      <th>wksgest</th>\n",
              "      <th>mosgest</th>\n",
              "      <th>dk1gest</th>\n",
              "      <th>dk2gest</th>\n",
              "      <th>dk3gest</th>\n",
              "      <th>bpa_bdscheck1</th>\n",
              "      <th>bpa_bdscheck2</th>\n",
              "      <th>bpa_bdscheck3</th>\n",
              "      <th>babysex</th>\n",
              "      <th>birthwgt_lb</th>\n",
              "      <th>birthwgt_oz</th>\n",
              "      <th>lobthwgt</th>\n",
              "      <th>babysex2</th>\n",
              "      <th>birthwgt_lb2</th>\n",
              "      <th>birthwgt_oz2</th>\n",
              "      <th>lobthwgt2</th>\n",
              "      <th>babysex3</th>\n",
              "      <th>birthwgt_lb3</th>\n",
              "      <th>birthwgt_oz3</th>\n",
              "      <th>lobthwgt3</th>\n",
              "      <th>cmbabdob</th>\n",
              "      <th>...</th>\n",
              "      <th>agecon_i</th>\n",
              "      <th>fmarout5_i</th>\n",
              "      <th>pmarpreg_i</th>\n",
              "      <th>rmarout6_i</th>\n",
              "      <th>fmarcon5_i</th>\n",
              "      <th>learnprg_i</th>\n",
              "      <th>pncarewk_i</th>\n",
              "      <th>paydeliv_i</th>\n",
              "      <th>lbw1_i</th>\n",
              "      <th>bfeedwks_i</th>\n",
              "      <th>maternlv_i</th>\n",
              "      <th>oldwantr_i</th>\n",
              "      <th>oldwantp_i</th>\n",
              "      <th>wantresp_i</th>\n",
              "      <th>wantpart_i</th>\n",
              "      <th>ager_i</th>\n",
              "      <th>fmarital_i</th>\n",
              "      <th>rmarital_i</th>\n",
              "      <th>educat_i</th>\n",
              "      <th>hieduc_i</th>\n",
              "      <th>race_i</th>\n",
              "      <th>hispanic_i</th>\n",
              "      <th>hisprace_i</th>\n",
              "      <th>rcurpreg_i</th>\n",
              "      <th>pregnum_i</th>\n",
              "      <th>parity_i</th>\n",
              "      <th>insuranc_i</th>\n",
              "      <th>pubassis_i</th>\n",
              "      <th>poverty_i</th>\n",
              "      <th>laborfor_i</th>\n",
              "      <th>religion_i</th>\n",
              "      <th>metro_i</th>\n",
              "      <th>basewgt</th>\n",
              "      <th>adj_mod_basewgt</th>\n",
              "      <th>finalwgt</th>\n",
              "      <th>secu_p</th>\n",
              "      <th>sest</th>\n",
              "      <th>cmintvw</th>\n",
              "      <th>totalwgt_lb</th>\n",
              "      <th>totalwgt_kg</th>\n",
              "    </tr>\n",
              "  </thead>\n",
              "  <tbody>\n",
              "    <tr>\n",
              "      <th>2610</th>\n",
              "      <td>2298</td>\n",
              "      <td>1</td>\n",
              "      <td>NaN</td>\n",
              "      <td>NaN</td>\n",
              "      <td>NaN</td>\n",
              "      <td>NaN</td>\n",
              "      <td>6.0</td>\n",
              "      <td>NaN</td>\n",
              "      <td>1.0</td>\n",
              "      <td>NaN</td>\n",
              "      <td>NaN</td>\n",
              "      <td>1.0</td>\n",
              "      <td>1119.0</td>\n",
              "      <td>NaN</td>\n",
              "      <td>1110.0</td>\n",
              "      <td>NaN</td>\n",
              "      <td>NaN</td>\n",
              "      <td>0.0</td>\n",
              "      <td>40.0</td>\n",
              "      <td>40.0</td>\n",
              "      <td>9.0</td>\n",
              "      <td>NaN</td>\n",
              "      <td>NaN</td>\n",
              "      <td>NaN</td>\n",
              "      <td>0.0</td>\n",
              "      <td>NaN</td>\n",
              "      <td>NaN</td>\n",
              "      <td>2.0</td>\n",
              "      <td>6.0</td>\n",
              "      <td>14.0</td>\n",
              "      <td>NaN</td>\n",
              "      <td>NaN</td>\n",
              "      <td>NaN</td>\n",
              "      <td>NaN</td>\n",
              "      <td>NaN</td>\n",
              "      <td>NaN</td>\n",
              "      <td>NaN</td>\n",
              "      <td>NaN</td>\n",
              "      <td>NaN</td>\n",
              "      <td>1119.0</td>\n",
              "      <td>...</td>\n",
              "      <td>0</td>\n",
              "      <td>0</td>\n",
              "      <td>0</td>\n",
              "      <td>0</td>\n",
              "      <td>0</td>\n",
              "      <td>0</td>\n",
              "      <td>0</td>\n",
              "      <td>0</td>\n",
              "      <td>0</td>\n",
              "      <td>0</td>\n",
              "      <td>0</td>\n",
              "      <td>0</td>\n",
              "      <td>0</td>\n",
              "      <td>0</td>\n",
              "      <td>0</td>\n",
              "      <td>0</td>\n",
              "      <td>0</td>\n",
              "      <td>0</td>\n",
              "      <td>0</td>\n",
              "      <td>0</td>\n",
              "      <td>0</td>\n",
              "      <td>0</td>\n",
              "      <td>0</td>\n",
              "      <td>0</td>\n",
              "      <td>0</td>\n",
              "      <td>0</td>\n",
              "      <td>0</td>\n",
              "      <td>0</td>\n",
              "      <td>0</td>\n",
              "      <td>0</td>\n",
              "      <td>0</td>\n",
              "      <td>0</td>\n",
              "      <td>3247.916977</td>\n",
              "      <td>5123.759559</td>\n",
              "      <td>5556.717241</td>\n",
              "      <td>2</td>\n",
              "      <td>18</td>\n",
              "      <td>NaN</td>\n",
              "      <td>6.8750</td>\n",
              "      <td>2.721552</td>\n",
              "    </tr>\n",
              "    <tr>\n",
              "      <th>2611</th>\n",
              "      <td>2298</td>\n",
              "      <td>2</td>\n",
              "      <td>NaN</td>\n",
              "      <td>NaN</td>\n",
              "      <td>NaN</td>\n",
              "      <td>NaN</td>\n",
              "      <td>6.0</td>\n",
              "      <td>NaN</td>\n",
              "      <td>1.0</td>\n",
              "      <td>NaN</td>\n",
              "      <td>NaN</td>\n",
              "      <td>1.0</td>\n",
              "      <td>1142.0</td>\n",
              "      <td>NaN</td>\n",
              "      <td>1134.0</td>\n",
              "      <td>NaN</td>\n",
              "      <td>NaN</td>\n",
              "      <td>0.0</td>\n",
              "      <td>36.0</td>\n",
              "      <td>36.0</td>\n",
              "      <td>8.0</td>\n",
              "      <td>NaN</td>\n",
              "      <td>NaN</td>\n",
              "      <td>NaN</td>\n",
              "      <td>0.0</td>\n",
              "      <td>NaN</td>\n",
              "      <td>NaN</td>\n",
              "      <td>1.0</td>\n",
              "      <td>5.0</td>\n",
              "      <td>8.0</td>\n",
              "      <td>NaN</td>\n",
              "      <td>NaN</td>\n",
              "      <td>NaN</td>\n",
              "      <td>NaN</td>\n",
              "      <td>NaN</td>\n",
              "      <td>NaN</td>\n",
              "      <td>NaN</td>\n",
              "      <td>NaN</td>\n",
              "      <td>NaN</td>\n",
              "      <td>1142.0</td>\n",
              "      <td>...</td>\n",
              "      <td>0</td>\n",
              "      <td>0</td>\n",
              "      <td>0</td>\n",
              "      <td>0</td>\n",
              "      <td>0</td>\n",
              "      <td>0</td>\n",
              "      <td>0</td>\n",
              "      <td>0</td>\n",
              "      <td>0</td>\n",
              "      <td>0</td>\n",
              "      <td>0</td>\n",
              "      <td>0</td>\n",
              "      <td>0</td>\n",
              "      <td>0</td>\n",
              "      <td>0</td>\n",
              "      <td>0</td>\n",
              "      <td>0</td>\n",
              "      <td>0</td>\n",
              "      <td>0</td>\n",
              "      <td>0</td>\n",
              "      <td>0</td>\n",
              "      <td>0</td>\n",
              "      <td>0</td>\n",
              "      <td>0</td>\n",
              "      <td>0</td>\n",
              "      <td>0</td>\n",
              "      <td>0</td>\n",
              "      <td>0</td>\n",
              "      <td>0</td>\n",
              "      <td>0</td>\n",
              "      <td>0</td>\n",
              "      <td>0</td>\n",
              "      <td>3247.916977</td>\n",
              "      <td>5123.759559</td>\n",
              "      <td>5556.717241</td>\n",
              "      <td>2</td>\n",
              "      <td>18</td>\n",
              "      <td>NaN</td>\n",
              "      <td>5.5000</td>\n",
              "      <td>2.267960</td>\n",
              "    </tr>\n",
              "    <tr>\n",
              "      <th>2612</th>\n",
              "      <td>2298</td>\n",
              "      <td>3</td>\n",
              "      <td>NaN</td>\n",
              "      <td>NaN</td>\n",
              "      <td>NaN</td>\n",
              "      <td>NaN</td>\n",
              "      <td>6.0</td>\n",
              "      <td>NaN</td>\n",
              "      <td>1.0</td>\n",
              "      <td>NaN</td>\n",
              "      <td>NaN</td>\n",
              "      <td>1.0</td>\n",
              "      <td>1159.0</td>\n",
              "      <td>NaN</td>\n",
              "      <td>1152.0</td>\n",
              "      <td>NaN</td>\n",
              "      <td>NaN</td>\n",
              "      <td>0.0</td>\n",
              "      <td>30.0</td>\n",
              "      <td>30.0</td>\n",
              "      <td>7.0</td>\n",
              "      <td>NaN</td>\n",
              "      <td>NaN</td>\n",
              "      <td>NaN</td>\n",
              "      <td>0.0</td>\n",
              "      <td>NaN</td>\n",
              "      <td>NaN</td>\n",
              "      <td>2.0</td>\n",
              "      <td>4.0</td>\n",
              "      <td>3.0</td>\n",
              "      <td>NaN</td>\n",
              "      <td>NaN</td>\n",
              "      <td>NaN</td>\n",
              "      <td>NaN</td>\n",
              "      <td>NaN</td>\n",
              "      <td>NaN</td>\n",
              "      <td>NaN</td>\n",
              "      <td>NaN</td>\n",
              "      <td>NaN</td>\n",
              "      <td>1159.0</td>\n",
              "      <td>...</td>\n",
              "      <td>0</td>\n",
              "      <td>0</td>\n",
              "      <td>0</td>\n",
              "      <td>0</td>\n",
              "      <td>0</td>\n",
              "      <td>0</td>\n",
              "      <td>0</td>\n",
              "      <td>0</td>\n",
              "      <td>0</td>\n",
              "      <td>0</td>\n",
              "      <td>0</td>\n",
              "      <td>0</td>\n",
              "      <td>0</td>\n",
              "      <td>0</td>\n",
              "      <td>0</td>\n",
              "      <td>0</td>\n",
              "      <td>0</td>\n",
              "      <td>0</td>\n",
              "      <td>0</td>\n",
              "      <td>0</td>\n",
              "      <td>0</td>\n",
              "      <td>0</td>\n",
              "      <td>0</td>\n",
              "      <td>0</td>\n",
              "      <td>0</td>\n",
              "      <td>0</td>\n",
              "      <td>0</td>\n",
              "      <td>0</td>\n",
              "      <td>0</td>\n",
              "      <td>0</td>\n",
              "      <td>0</td>\n",
              "      <td>0</td>\n",
              "      <td>3247.916977</td>\n",
              "      <td>5123.759559</td>\n",
              "      <td>5556.717241</td>\n",
              "      <td>2</td>\n",
              "      <td>18</td>\n",
              "      <td>NaN</td>\n",
              "      <td>4.1875</td>\n",
              "      <td>1.814368</td>\n",
              "    </tr>\n",
              "    <tr>\n",
              "      <th>2613</th>\n",
              "      <td>2298</td>\n",
              "      <td>4</td>\n",
              "      <td>NaN</td>\n",
              "      <td>NaN</td>\n",
              "      <td>NaN</td>\n",
              "      <td>NaN</td>\n",
              "      <td>6.0</td>\n",
              "      <td>NaN</td>\n",
              "      <td>1.0</td>\n",
              "      <td>NaN</td>\n",
              "      <td>NaN</td>\n",
              "      <td>1.0</td>\n",
              "      <td>1198.0</td>\n",
              "      <td>NaN</td>\n",
              "      <td>1189.0</td>\n",
              "      <td>NaN</td>\n",
              "      <td>NaN</td>\n",
              "      <td>0.0</td>\n",
              "      <td>40.0</td>\n",
              "      <td>40.0</td>\n",
              "      <td>9.0</td>\n",
              "      <td>NaN</td>\n",
              "      <td>NaN</td>\n",
              "      <td>NaN</td>\n",
              "      <td>0.0</td>\n",
              "      <td>NaN</td>\n",
              "      <td>NaN</td>\n",
              "      <td>1.0</td>\n",
              "      <td>6.0</td>\n",
              "      <td>14.0</td>\n",
              "      <td>NaN</td>\n",
              "      <td>NaN</td>\n",
              "      <td>NaN</td>\n",
              "      <td>NaN</td>\n",
              "      <td>NaN</td>\n",
              "      <td>NaN</td>\n",
              "      <td>NaN</td>\n",
              "      <td>NaN</td>\n",
              "      <td>NaN</td>\n",
              "      <td>1198.0</td>\n",
              "      <td>...</td>\n",
              "      <td>0</td>\n",
              "      <td>0</td>\n",
              "      <td>0</td>\n",
              "      <td>0</td>\n",
              "      <td>0</td>\n",
              "      <td>0</td>\n",
              "      <td>0</td>\n",
              "      <td>0</td>\n",
              "      <td>0</td>\n",
              "      <td>0</td>\n",
              "      <td>0</td>\n",
              "      <td>0</td>\n",
              "      <td>0</td>\n",
              "      <td>0</td>\n",
              "      <td>0</td>\n",
              "      <td>0</td>\n",
              "      <td>0</td>\n",
              "      <td>0</td>\n",
              "      <td>0</td>\n",
              "      <td>0</td>\n",
              "      <td>0</td>\n",
              "      <td>0</td>\n",
              "      <td>0</td>\n",
              "      <td>0</td>\n",
              "      <td>0</td>\n",
              "      <td>0</td>\n",
              "      <td>0</td>\n",
              "      <td>0</td>\n",
              "      <td>0</td>\n",
              "      <td>0</td>\n",
              "      <td>0</td>\n",
              "      <td>0</td>\n",
              "      <td>3247.916977</td>\n",
              "      <td>5123.759559</td>\n",
              "      <td>5556.717241</td>\n",
              "      <td>2</td>\n",
              "      <td>18</td>\n",
              "      <td>NaN</td>\n",
              "      <td>6.8750</td>\n",
              "      <td>2.721552</td>\n",
              "    </tr>\n",
              "  </tbody>\n",
              "</table>\n",
              "<p>4 rows × 245 columns</p>\n",
              "</div>"
            ],
            "text/plain": [
              "      caseid  pregordr  howpreg_n  ...  cmintvw  totalwgt_lb  totalwgt_kg\n",
              "2610    2298         1        NaN  ...      NaN       6.8750     2.721552\n",
              "2611    2298         2        NaN  ...      NaN       5.5000     2.267960\n",
              "2612    2298         3        NaN  ...      NaN       4.1875     1.814368\n",
              "2613    2298         4        NaN  ...      NaN       6.8750     2.721552\n",
              "\n",
              "[4 rows x 245 columns]"
            ]
          },
          "metadata": {},
          "execution_count": 16
        }
      ],
      "source": [
        "preg[preg.caseid==2298]"
      ]
    },
    {
      "cell_type": "markdown",
      "metadata": {
        "id": "J3Rzb7QytlUP"
      },
      "source": [
        "How old is the respondent with `caseid` 1?"
      ]
    },
    {
      "cell_type": "code",
      "execution_count": 17,
      "metadata": {
        "id": "VfSsFyaxtlUP",
        "outputId": "28113445-203f-4063-ab8b-64a9d86eed74",
        "colab": {
          "base_uri": "https://localhost:8080/"
        }
      },
      "outputs": [
        {
          "output_type": "execute_result",
          "data": {
            "text/plain": [
              "1069    44\n",
              "Name: age_r, dtype: int64"
            ]
          },
          "metadata": {},
          "execution_count": 17
        }
      ],
      "source": [
        "resp[resp.caseid==1].age_r"
      ]
    },
    {
      "cell_type": "markdown",
      "metadata": {
        "id": "yDnyToQmtlUP"
      },
      "source": [
        "What are the pregnancy lengths for the respondent with `caseid` 2298?"
      ]
    },
    {
      "cell_type": "code",
      "execution_count": 18,
      "metadata": {
        "id": "bki2-RyptlUP",
        "outputId": "72c937ee-ad3d-4022-c210-e12d297feded",
        "colab": {
          "base_uri": "https://localhost:8080/"
        }
      },
      "outputs": [
        {
          "output_type": "execute_result",
          "data": {
            "text/plain": [
              "2610    40\n",
              "2611    36\n",
              "2612    30\n",
              "2613    40\n",
              "Name: prglngth, dtype: int64"
            ]
          },
          "metadata": {},
          "execution_count": 18
        }
      ],
      "source": [
        "preg[preg.caseid==2298].prglngth"
      ]
    },
    {
      "cell_type": "markdown",
      "metadata": {
        "id": "3y3f6gAItlUQ"
      },
      "source": [
        "What was the birthweight of the first baby born to the respondent with `caseid` 5012?"
      ]
    },
    {
      "cell_type": "code",
      "execution_count": 21,
      "metadata": {
        "id": "lcE4rMADtlUQ",
        "outputId": "79344e94-34c4-4cd7-f53f-ab45081df6de",
        "colab": {
          "base_uri": "https://localhost:8080/"
        }
      },
      "outputs": [
        {
          "output_type": "stream",
          "name": "stdout",
          "text": [
            "5515    6.0\n",
            "Name: birthwgt_lb, dtype: float64\n"
          ]
        }
      ],
      "source": [
        "print(preg[preg.caseid==5012].birthwgt_lb)"
      ]
    }
  ],
  "metadata": {
    "kernelspec": {
      "display_name": "Python 3",
      "language": "python",
      "name": "python3"
    },
    "language_info": {
      "codemirror_mode": {
        "name": "ipython",
        "version": 3
      },
      "file_extension": ".py",
      "mimetype": "text/x-python",
      "name": "python",
      "nbconvert_exporter": "python",
      "pygments_lexer": "ipython3",
      "version": "3.6.6"
    },
    "colab": {
      "name": "chap01ex.ipynb",
      "provenance": []
    }
  },
  "nbformat": 4,
  "nbformat_minor": 0
}