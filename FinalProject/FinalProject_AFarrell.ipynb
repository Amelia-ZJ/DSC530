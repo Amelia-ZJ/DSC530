{
  "nbformat": 4,
  "nbformat_minor": 0,
  "metadata": {
    "colab": {
      "name": "FinalProject_AFarrell.ipynb",
      "provenance": [],
      "collapsed_sections": [],
      "authorship_tag": "ABX9TyNLeRw61EkcFp1wjlxvI/hU"
    },
    "kernelspec": {
      "name": "python3",
      "display_name": "Python 3"
    },
    "language_info": {
      "name": "python"
    }
  },
  "cells": [
    {
      "cell_type": "markdown",
      "source": [
        "# Final Project\n",
        "\n",
        "## SUVs and Pedestrian Deaths\n",
        "\n",
        "Amelia Farrell\n",
        "\n",
        "DSC520\n",
        "\n",
        "12/13/21"
      ],
      "metadata": {
        "id": "VJem7HULGaW_"
      }
    },
    {
      "cell_type": "code",
      "source": [
        "# Checking directory\n",
        "!pwd"
      ],
      "metadata": {
        "colab": {
          "base_uri": "https://localhost:8080/"
        },
        "id": "m7c9JwY0LxIa",
        "outputId": "605240c9-acb3-4ac9-bb62-9fddee59b074"
      },
      "execution_count": null,
      "outputs": [
        {
          "output_type": "stream",
          "name": "stdout",
          "text": [
            "Drive already mounted at /content/drive; to attempt to forcibly remount, call drive.mount(\"/content/drive\", force_remount=True).\n",
            "/content/drive/MyDrive/Colab Notebooks/ThinkStats2/code\n",
            "/content/drive/MyDrive/Colab Notebooks/ThinkStats2/code\n"
          ]
        }
      ]
    },
    {
      "cell_type": "markdown",
      "source": [
        "## Loading Packages"
      ],
      "metadata": {
        "id": "ka14LVO2Hsbm"
      }
    },
    {
      "cell_type": "code",
      "source": [
        "import pandas as pd\n",
        "%matplotlib inline\n",
        "import thinkstats2\n",
        "import thinkplot\n",
        "import numpy as np\n",
        "\n",
        "import matplotlib.pyplot as plt\n",
        "from matplotlib.ticker import PercentFormatter\n",
        "\n",
        "plt.style.use('seaborn-whitegrid')\n",
        "import seaborn as sns\n",
        "\n",
        "from scipy import stats\n",
        "import patsy\n",
        "import statsmodels.formula.api as smf"
      ],
      "metadata": {
        "id": "9V0-SrOwHyQq"
      },
      "execution_count": null,
      "outputs": []
    },
    {
      "cell_type": "markdown",
      "source": [
        "## Loading Data"
      ],
      "metadata": {
        "id": "L8RR4sfmNDBH"
      }
    },
    {
      "cell_type": "code",
      "source": [
        "# State Data Set\n",
        "# Loading data using pandas\n",
        "statedf = pd.read_excel (r'FinalProjectData/pedestriandeathsbystate.xlsx')\n",
        "# Read headers of data set\n",
        "statedf.head()\n",
        "list(statedf.columns)"
      ],
      "metadata": {
        "colab": {
          "base_uri": "https://localhost:8080/"
        },
        "id": "gvisVJCFNFcm",
        "outputId": "4a011a85-b8dc-4819-bced-8ce98b7c2ef3"
      },
      "execution_count": null,
      "outputs": [
        {
          "output_type": "execute_result",
          "data": {
            "text/plain": [
              "['Year', 'State', 'FatalityRate', 'handhelddeviceBan', 'textingBan', 'bin']"
            ]
          },
          "metadata": {},
          "execution_count": 189
        }
      ]
    },
    {
      "cell_type": "code",
      "source": [
        "# Yearly Data Set\n",
        "# Loading data using pandas\n",
        "yeardf = pd.read_excel (r'FinalProjectData/pedestriandeathsbyyear.xlsx')\n",
        "# Read headers of data set\n",
        "yeardf.head()\n",
        "list(yeardf.columns)"
      ],
      "metadata": {
        "colab": {
          "base_uri": "https://localhost:8080/"
        },
        "id": "oQB0k8BVO0Sf",
        "outputId": "d05a3096-5d17-4a3e-e2ab-39859d73438b"
      },
      "execution_count": null,
      "outputs": [
        {
          "output_type": "execute_result",
          "data": {
            "text/plain": [
              "['Year',\n",
              " 'FatalityRate',\n",
              " 'Walksonly',\n",
              " 'Passengercars',\n",
              " 'Lighttrucks',\n",
              " 'CellSubscriptions']"
            ]
          },
          "metadata": {},
          "execution_count": 190
        }
      ]
    },
    {
      "cell_type": "code",
      "source": [
        "yeardf.plot.bar(x='Year', y='FatalityRate', rot=0)"
      ],
      "metadata": {
        "colab": {
          "base_uri": "https://localhost:8080/",
          "height": 296
        },
        "id": "Z6Ye_0EJcJPV",
        "outputId": "5479f84e-15f3-41d8-ac1c-a3e50971e270"
      },
      "execution_count": null,
      "outputs": [
        {
          "output_type": "execute_result",
          "data": {
            "text/plain": [
              "<matplotlib.axes._subplots.AxesSubplot at 0x7f2f1c4b8050>"
            ]
          },
          "metadata": {},
          "execution_count": 191
        },
        {
          "output_type": "display_data",
          "data": {
            "image/png": "[encoded data removed]",
            "text/plain": [
              "<Figure size 432x288 with 1 Axes>"
            ]
          },
          "metadata": {}
        }
      ]
    },
    {
      "cell_type": "markdown",
      "source": [
        "## Histograms"
      ],
      "metadata": {
        "id": "BthXur9FPIlb"
      }
    },
    {
      "cell_type": "code",
      "source": [
        "import numpy\n",
        "from matplotlib import pyplot"
      ],
      "metadata": {
        "id": "64TLqNRZUkto"
      },
      "execution_count": null,
      "outputs": []
    },
    {
      "cell_type": "markdown",
      "source": [
        "Histogram of deaths by state - 2010 through 2019"
      ],
      "metadata": {
        "id": "mkPrO1BbUJxZ"
      }
    },
    {
      "cell_type": "code",
      "source": [
        "# Histogram\n",
        "x = statedf.FatalityRate\n",
        "\n",
        "pyplot.hist(x, bins=15, alpha=0.5, label='2010 through 2019')\n",
        "pyplot.legend(loc='upper right')\n",
        "pyplot.title(\"Distribution of Deaths Per Capita by State\")\n",
        "pyplot.xlabel(\"Fatality Rate per 100,000\")\n",
        "pyplot.ylabel(\"Count of States\")\n",
        "pyplot.show()"
      ],
      "metadata": {
        "colab": {
          "base_uri": "https://localhost:8080/",
          "height": 295
        },
        "id": "-DdG0bvYUHxR",
        "outputId": "cf090cca-6bb0-4706-f613-174bbe61313d"
      },
      "execution_count": null,
      "outputs": [
        {
          "output_type": "display_data",
          "data": {
            "image/png": "[encoded data removed]",
            "text/plain": [
              "<Figure size 432x288 with 1 Axes>"
            ]
          },
          "metadata": {}
        }
      ]
    },
    {
      "cell_type": "code",
      "source": [
        "# Data frame of 2010 by state\n",
        "df2010 = statedf[statedf.Year==2010]\n",
        "# Data frame of 2019 by state\n",
        "df2019 = statedf[statedf.Year==2019]\n",
        "\n",
        "# Histogram\n",
        "x = df2010.FatalityRate\n",
        "y = df2019.FatalityRate\n",
        "\n",
        "pyplot.hist(x, bins=15, alpha=0.5, label='2010')\n",
        "pyplot.hist(y, bins=15, alpha=0.5, label='2019')\n",
        "pyplot.legend(loc='upper right')\n",
        "pyplot.title(\"Distribution of Deaths Per Capita by State\")\n",
        "pyplot.xlabel(\"Fatality Rate per 100,000\")\n",
        "pyplot.ylabel(\"Count of States\")\n",
        "pyplot.show()"
      ],
      "metadata": {
        "colab": {
          "base_uri": "https://localhost:8080/",
          "height": 295
        },
        "id": "OuARFHdxPeVJ",
        "outputId": "f02d712e-61fa-4609-ed19-a73f21e787fa"
      },
      "execution_count": null,
      "outputs": [
        {
          "output_type": "display_data",
          "data": {
            "image/png": "[encoded data removed]",
            "text/plain": [
              "<Figure size 432x288 with 1 Axes>"
            ]
          },
          "metadata": {}
        }
      ]
    },
    {
      "cell_type": "markdown",
      "source": [
        "Histogram of deaths per state - Ban on Hand Held Device vs No Ban"
      ],
      "metadata": {
        "id": "gQAgHASaUrBq"
      }
    },
    {
      "cell_type": "code",
      "source": [
        "# Data frame of 2010 by state\n",
        "dfHHBan = statedf[statedf.handhelddeviceBan==1]\n",
        "# Data frame of 2019 by state\n",
        "dfNoHHBan = statedf[statedf.handhelddeviceBan==0]\n",
        "\n",
        "# Histogram\n",
        "x = dfHHBan.FatalityRate\n",
        "y = dfNoHHBan.FatalityRate\n",
        "\n",
        "pyplot.hist(x, bins=15, alpha=0.5, label='Device Ban')\n",
        "pyplot.hist(y, bins=15, alpha=0.5, label='No Device Ban')\n",
        "pyplot.legend(loc='upper right')\n",
        "pyplot.title(\"Distribution of Deaths Per Capita by State and Year (2010 to 2019)\")\n",
        "pyplot.xlabel(\"Fatality Rate per 100,000\")\n",
        "pyplot.ylabel(\"Count of States\")\n",
        "pyplot.show()"
      ],
      "metadata": {
        "colab": {
          "base_uri": "https://localhost:8080/",
          "height": 295
        },
        "id": "5pvm8BTJU4xi",
        "outputId": "fb1a9c88-6f48-49f4-eae0-42afc89e42cd"
      },
      "execution_count": null,
      "outputs": [
        {
          "output_type": "display_data",
          "data": {
            "image/png": "[encoded data removed]",
            "text/plain": [
              "<Figure size 432x288 with 1 Axes>"
            ]
          },
          "metadata": {}
        }
      ]
    },
    {
      "cell_type": "markdown",
      "source": [
        "Histogram of deaths per state - Ban on Texting vs No Ban on Texting"
      ],
      "metadata": {
        "id": "6z0kXbXLYwpV"
      }
    },
    {
      "cell_type": "code",
      "source": [
        "# Data frame of 2010 by state\n",
        "dfTxtBan = statedf[statedf.textingBan==1]\n",
        "# Data frame of 2019 by state\n",
        "dfNoTxtBan = statedf[statedf.textingBan==0]\n",
        "\n",
        "# Histogram\n",
        "x = dfTxtBan.FatalityRate\n",
        "y = dfNoTxtBan.FatalityRate\n",
        "\n",
        "pyplot.hist(x, bins=15, alpha=0.5, label='Texting While Driving Ban')\n",
        "pyplot.hist(y, bins=15, alpha=0.5, label='No Texting Ban')\n",
        "pyplot.legend(loc='upper right')\n",
        "pyplot.title(\"Distribution of Deaths Per Capita by State\")\n",
        "pyplot.xlabel(\"Fatality Rate per 100,000\")\n",
        "pyplot.ylabel(\"Count of States\")\n",
        "pyplot.show()"
      ],
      "metadata": {
        "colab": {
          "base_uri": "https://localhost:8080/",
          "height": 295
        },
        "id": "U-utt3awVw1O",
        "outputId": "db4dd6d4-1ecd-4acf-c9f5-4afc2aec8293"
      },
      "execution_count": null,
      "outputs": [
        {
          "output_type": "display_data",
          "data": {
            "image/png": "[encoded data removed]",
            "text/plain": [
              "<Figure size 432x288 with 1 Axes>"
            ]
          },
          "metadata": {}
        }
      ]
    },
    {
      "cell_type": "markdown",
      "source": [
        "The low number of deaths per capita in the states without a ban on texting while driving, is likey due to the small number of states that do not have this ban."
      ],
      "metadata": {
        "id": "WduebTejWqxd"
      }
    },
    {
      "cell_type": "code",
      "source": [
        "# Number states with a ban on texting while driving (taking the total and deviding it by the number of years in our data set)\n",
        "# Includes District of Columbia (51 \"States\")\n",
        "(len(dfTxtBan.index))/10"
      ],
      "metadata": {
        "colab": {
          "base_uri": "https://localhost:8080/"
        },
        "id": "7nI8rOKQW7QM",
        "outputId": "16afaa83-b7fa-4c5a-bf7f-7d5a6db8b0d7"
      },
      "execution_count": null,
      "outputs": [
        {
          "output_type": "execute_result",
          "data": {
            "text/plain": [
              "49.0"
            ]
          },
          "metadata": {},
          "execution_count": 197
        }
      ]
    },
    {
      "cell_type": "code",
      "source": [
        "# Number states without a ban on texting while driving (taking the total and deviding it by the number of years in our data set)\n",
        "# Includes District of Columbia (51 \"States\")\n",
        "(len(dfNoTxtBan.index))/10"
      ],
      "metadata": {
        "colab": {
          "base_uri": "https://localhost:8080/"
        },
        "id": "zGb7h0QAXz1t",
        "outputId": "c65ad0b2-e818-4227-9bb4-f2f6b2da0b68"
      },
      "execution_count": null,
      "outputs": [
        {
          "output_type": "execute_result",
          "data": {
            "text/plain": [
              "2.0"
            ]
          },
          "metadata": {},
          "execution_count": 198
        }
      ]
    },
    {
      "cell_type": "markdown",
      "source": [
        "Due to the low number of states (2) we will not include the ban on texting while driving in our anaylsis."
      ],
      "metadata": {
        "id": "UqNNmkNfY0Mj"
      }
    },
    {
      "cell_type": "markdown",
      "source": [
        "Histogram of total deaths by year"
      ],
      "metadata": {
        "id": "X7n82VY2yBjx"
      }
    },
    {
      "cell_type": "code",
      "source": [
        "# Histogram\n",
        "x = yeardf.FatalityRate\n",
        "\n",
        "pyplot.hist(x, bins=5, alpha=0.5, label='2010 through 2019')\n",
        "pyplot.legend(loc='upper right')\n",
        "pyplot.title(\"Distribution of Total Deaths by Year\")\n",
        "pyplot.xlabel(\"Fatalities per 100,000\")\n",
        "pyplot.ylabel(\"Count of Years\")\n",
        "pyplot.show()"
      ],
      "metadata": {
        "colab": {
          "base_uri": "https://localhost:8080/",
          "height": 295
        },
        "id": "f460h5dJyKPF",
        "outputId": "68229d5b-4507-4d3d-b83c-bf4a2d6c2feb"
      },
      "execution_count": null,
      "outputs": [
        {
          "output_type": "display_data",
          "data": {
            "image/png": "[encoded data removed]",
            "text/plain": [
              "<Figure size 432x288 with 1 Axes>"
            ]
          },
          "metadata": {}
        }
      ]
    },
    {
      "cell_type": "markdown",
      "source": [
        "We can see from the above distribution that 4 of the years are on the right side of the distribution. This is not a normal distribution and something worth investigating is going on in the years at 1.9 fatalilies."
      ],
      "metadata": {
        "id": "JSC0rhYu1XSj"
      }
    },
    {
      "cell_type": "markdown",
      "source": [
        "Histogram of cell phone subscriptions by year"
      ],
      "metadata": {
        "id": "dxsniqzR10qz"
      }
    },
    {
      "cell_type": "code",
      "source": [
        "# Histogram\n",
        "x = yeardf.CellSubscriptions\n",
        "\n",
        "pyplot.hist(x, bins=5, alpha=0.5, label='2010 through 2019')\n",
        "pyplot.legend(loc='upper right')\n",
        "pyplot.title(\"Distribution of Cell Phone Subscriptions by Year\")\n",
        "pyplot.xlabel(\"Cell Phone Subscriptions per 100\")\n",
        "pyplot.ylabel(\"Count of Years\")\n",
        "pyplot.show()"
      ],
      "metadata": {
        "colab": {
          "base_uri": "https://localhost:8080/",
          "height": 295
        },
        "id": "1NA3gc9-165E",
        "outputId": "d46fc5fb-9010-408b-fa73-60e706c64a65"
      },
      "execution_count": null,
      "outputs": [
        {
          "output_type": "display_data",
          "data": {
            "image/png": "[encoded data removed]",
            "text/plain": [
              "<Figure size 432x288 with 1 Axes>"
            ]
          },
          "metadata": {}
        }
      ]
    },
    {
      "cell_type": "markdown",
      "source": [
        "Histogram of SUVs/Light Trucks vs Passagner Car Sales & Leases by year."
      ],
      "metadata": {
        "id": "WicBN4Yu2dEE"
      }
    },
    {
      "cell_type": "code",
      "source": [
        "# Data frame of Passenger Cars only\n",
        "dfP = yeardf.Passengercars\n",
        "# Data frame of SUVs and Lighttrucks only\n",
        "dfLTV = yeardf.Lighttrucks\n",
        "\n",
        "pyplot.hist(dfP, bins=5, alpha=0.5, label='Passenger Cars')\n",
        "pyplot.hist(dfLTV, bins=5, alpha=0.5, label='SUVs and Light Trucks')\n",
        "pyplot.legend(loc='upper right')\n",
        "pyplot.title(\"Distribution of total Sales & Leases by Year\")\n",
        "pyplot.xlabel(\"Number of total Sales & Leases\")\n",
        "pyplot.ylabel(\"Count of Years\")\n",
        "pyplot.show()"
      ],
      "metadata": {
        "colab": {
          "base_uri": "https://localhost:8080/",
          "height": 295
        },
        "id": "wK4Bumhq2ieX",
        "outputId": "1d4d8c57-ae41-4e38-f08d-e3d4c6f1a5d1"
      },
      "execution_count": null,
      "outputs": [
        {
          "output_type": "display_data",
          "data": {
            "image/png": "[encoded data removed]",
            "text/plain": [
              "<Figure size 432x288 with 1 Axes>"
            ]
          },
          "metadata": {}
        }
      ]
    },
    {
      "cell_type": "markdown",
      "source": [
        "We can see from these two histograms that there are far more years with high sales of SUVs ana Light Trucks. However, neither provides much insight to other patterns behind the data. We will need to use other means to identify patterns in this data set (data set #2, 10 observations =10 Years)."
      ],
      "metadata": {
        "id": "_sRtNYQg4ZNt"
      }
    },
    {
      "cell_type": "markdown",
      "source": [
        "## Descriptive Statistics"
      ],
      "metadata": {
        "id": "T8U8ZjQ6Pjqv"
      }
    },
    {
      "cell_type": "markdown",
      "source": [
        "Mean, Mode, Spread, and Tails"
      ],
      "metadata": {
        "id": "iUcGlQwUP0tG"
      }
    },
    {
      "cell_type": "code",
      "source": [
        "# Removing Texting While Driving Ban variable due the the low number of observations (2)\n",
        "statedf2 = statedf.drop(['textingBan','State'], axis=1)\n",
        "# Means from all columns\n",
        "statemean = (statedf2.mean())\n",
        "yearmean = (yeardf.mean())"
      ],
      "metadata": {
        "id": "9V29hT19POFP"
      },
      "execution_count": null,
      "outputs": []
    },
    {
      "cell_type": "code",
      "source": [
        "# Standard Deviation of all columns\n",
        "yearsd = (yeardf.std())\n",
        "statesd = (statedf2.std())"
      ],
      "metadata": {
        "id": "S9mB0L3bO4XM"
      },
      "execution_count": null,
      "outputs": []
    },
    {
      "cell_type": "code",
      "source": [
        "# Variance of all columns\n",
        "yearvar = (yeardf.var())\n",
        "statevar = (statedf2.var())"
      ],
      "metadata": {
        "id": "H2W1ELU8Zm3F"
      },
      "execution_count": null,
      "outputs": []
    },
    {
      "cell_type": "code",
      "source": [
        "# Min vaules from all columns\n",
        "yearmin = (yeardf.min())\n",
        "statemin = (statedf2.min())"
      ],
      "metadata": {
        "id": "2_n3YQ8qQGyz"
      },
      "execution_count": null,
      "outputs": []
    },
    {
      "cell_type": "code",
      "source": [
        "# Max vaules from all columns\n",
        "yearmax = (yeardf.max())\n",
        "statemax = (statedf2.max())"
      ],
      "metadata": {
        "id": "fbu_4_AfQf5K"
      },
      "execution_count": null,
      "outputs": []
    },
    {
      "cell_type": "code",
      "source": [
        "# Data frame of discriptive statistics from data set #1 (Statedf)\n",
        "stateDSdf = pd.concat([statemean, statesd, statevar, statemin, statemax], axis=1)\n",
        "stateDSdf.columns = ['Mean', 'Std','Variance','Min','Max']\n",
        "stateDSdf = stateDSdf.astype('int64')#.round()\n",
        "#stateDSdf.apply(pd.to_numeric)\n",
        "stateDSdf"
      ],
      "metadata": {
        "colab": {
          "base_uri": "https://localhost:8080/",
          "height": 175
        },
        "id": "ALimfK5PZNgJ",
        "outputId": "fa6c9347-b1aa-4211-ef9d-96f4e8603670"
      },
      "execution_count": null,
      "outputs": [
        {
          "output_type": "execute_result",
          "data": {
            "text/html": [
              "\n",
              "  <div id=\"df-ce39aeaa-8fd0-421b-921a-dd723f8a08e5\">\n",
              "    <div class=\"colab-df-container\">\n",
              "      <div>\n",
              "<style scoped>\n",
              "    .dataframe tbody tr th:only-of-type {\n",
              "        vertical-align: middle;\n",
              "    }\n",
              "\n",
              "    .dataframe tbody tr th {\n",
              "        vertical-align: top;\n",
              "    }\n",
              "\n",
              "    .dataframe thead th {\n",
              "        text-align: right;\n",
              "    }\n",
              "</style>\n",
              "<table border=\"1\" class=\"dataframe\">\n",
              "  <thead>\n",
              "    <tr style=\"text-align: right;\">\n",
              "      <th></th>\n",
              "      <th>Mean</th>\n",
              "      <th>Std</th>\n",
              "      <th>Variance</th>\n",
              "      <th>Min</th>\n",
              "      <th>Max</th>\n",
              "    </tr>\n",
              "  </thead>\n",
              "  <tbody>\n",
              "    <tr>\n",
              "      <th>Year</th>\n",
              "      <td>2014</td>\n",
              "      <td>2</td>\n",
              "      <td>8</td>\n",
              "      <td>2010</td>\n",
              "      <td>2019</td>\n",
              "    </tr>\n",
              "    <tr>\n",
              "      <th>FatalityRate</th>\n",
              "      <td>1</td>\n",
              "      <td>0</td>\n",
              "      <td>0</td>\n",
              "      <td>0</td>\n",
              "      <td>3</td>\n",
              "    </tr>\n",
              "    <tr>\n",
              "      <th>handhelddeviceBan</th>\n",
              "      <td>0</td>\n",
              "      <td>0</td>\n",
              "      <td>0</td>\n",
              "      <td>0</td>\n",
              "      <td>1</td>\n",
              "    </tr>\n",
              "    <tr>\n",
              "      <th>bin</th>\n",
              "      <td>1</td>\n",
              "      <td>0</td>\n",
              "      <td>0</td>\n",
              "      <td>1</td>\n",
              "      <td>4</td>\n",
              "    </tr>\n",
              "  </tbody>\n",
              "</table>\n",
              "</div>\n",
              "      <button class=\"colab-df-convert\" onclick=\"convertToInteractive('df-ce39aeaa-8fd0-421b-921a-dd723f8a08e5')\"\n",
              "              title=\"Convert this dataframe to an interactive table.\"\n",
              "              style=\"display:none;\">\n",
              "        \n",
              "  <svg xmlns=\"http://www.w3.org/2000/svg\" height=\"24px\"viewBox=\"0 0 24 24\"\n",
              "       width=\"24px\">\n",
              "    <path d=\"M0 0h24v24H0V0z\" fill=\"none\"/>\n",
              "    <path d=\"M18.56 5.44l.94 2.06.94-2.06 2.06-.94-2.06-.94-.94-2.06-.94 2.06-2.06.94zm-11 1L8.5 8.5l.94-2.06 2.06-.94-2.06-.94L8.5 2.5l-.94 2.06-2.06.94zm10 10l.94 2.06.94-2.06 2.06-.94-2.06-.94-.94-2.06-.94 2.06-2.06.94z\"/><path d=\"M17.41 7.96l-1.37-1.37c-.4-.4-.92-.59-1.43-.59-.52 0-1.04.2-1.43.59L10.3 9.45l-7.72 7.72c-.78.78-.78 2.05 0 2.83L4 21.41c.39.39.9.59 1.41.59.51 0 1.02-.2 1.41-.59l7.78-7.78 2.81-2.81c.8-.78.8-2.07 0-2.86zM5.41 20L4 18.59l7.72-7.72 1.47 1.35L5.41 20z\"/>\n",
              "  </svg>\n",
              "      </button>\n",
              "      \n",
              "  <style>\n",
              "    .colab-df-container {\n",
              "      display:flex;\n",
              "      flex-wrap:wrap;\n",
              "      gap: 12px;\n",
              "    }\n",
              "\n",
              "    .colab-df-convert {\n",
              "      background-color: #E8F0FE;\n",
              "      border: none;\n",
              "      border-radius: 50%;\n",
              "      cursor: pointer;\n",
              "      display: none;\n",
              "      fill: #1967D2;\n",
              "      height: 32px;\n",
              "      padding: 0 0 0 0;\n",
              "      width: 32px;\n",
              "    }\n",
              "\n",
              "    .colab-df-convert:hover {\n",
              "      background-color: #E2EBFA;\n",
              "      box-shadow: 0px 1px 2px rgba(60, 64, 67, 0.3), 0px 1px 3px 1px rgba(60, 64, 67, 0.15);\n",
              "      fill: #174EA6;\n",
              "    }\n",
              "\n",
              "    [theme=dark] .colab-df-convert {\n",
              "      background-color: #3B4455;\n",
              "      fill: #D2E3FC;\n",
              "    }\n",
              "\n",
              "    [theme=dark] .colab-df-convert:hover {\n",
              "      background-color: #434B5C;\n",
              "      box-shadow: 0px 1px 3px 1px rgba(0, 0, 0, 0.15);\n",
              "      filter: drop-shadow(0px 1px 2px rgba(0, 0, 0, 0.3));\n",
              "      fill: #FFFFFF;\n",
              "    }\n",
              "  </style>\n",
              "\n",
              "      <script>\n",
              "        const buttonEl =\n",
              "          document.querySelector('#df-ce39aeaa-8fd0-421b-921a-dd723f8a08e5 button.colab-df-convert');\n",
              "        buttonEl.style.display =\n",
              "          google.colab.kernel.accessAllowed ? 'block' : 'none';\n",
              "\n",
              "        async function convertToInteractive(key) {\n",
              "          const element = document.querySelector('#df-ce39aeaa-8fd0-421b-921a-dd723f8a08e5');\n",
              "          const dataTable =\n",
              "            await google.colab.kernel.invokeFunction('convertToInteractive',\n",
              "                                                     [key], {});\n",
              "          if (!dataTable) return;\n",
              "\n",
              "          const docLinkHtml = 'Like what you see? Visit the ' +\n",
              "            '<a target=\"_blank\" href=https://colab.research.google.com/notebooks/data_table.ipynb>data table notebook</a>'\n",
              "            + ' to learn more about interactive tables.';\n",
              "          element.innerHTML = '';\n",
              "          dataTable['output_type'] = 'display_data';\n",
              "          await google.colab.output.renderOutput(dataTable, element);\n",
              "          const docLink = document.createElement('div');\n",
              "          docLink.innerHTML = docLinkHtml;\n",
              "          element.appendChild(docLink);\n",
              "        }\n",
              "      </script>\n",
              "    </div>\n",
              "  </div>\n",
              "  "
            ],
            "text/plain": [
              "                   Mean  Std  Variance   Min   Max\n",
              "Year               2014    2         8  2010  2019\n",
              "FatalityRate          1    0         0     0     3\n",
              "handhelddeviceBan     0    0         0     0     1\n",
              "bin                   1    0         0     1     4"
            ]
          },
          "metadata": {},
          "execution_count": 207
        }
      ]
    },
    {
      "cell_type": "code",
      "source": [
        "# Data frame of discriptive statistics from data set #2 (Yeardf)\n",
        "yearDSdf = pd.concat([yearmean, yearsd, yearvar, yearmin, yearmax], axis=1)\n",
        "yearDSdf.columns =['Mean', 'Std','Variance','Min','Max']\n",
        "yearDSdf"
      ],
      "metadata": {
        "colab": {
          "base_uri": "https://localhost:8080/",
          "height": 237
        },
        "id": "albCcWNTRuEi",
        "outputId": "6d8968ef-585b-4288-ff75-4afe86b34dc8"
      },
      "execution_count": null,
      "outputs": [
        {
          "output_type": "execute_result",
          "data": {
            "text/html": [
              "\n",
              "  <div id=\"df-b5b1fa0e-9e03-4b1c-832d-b34140c85653\">\n",
              "    <div class=\"colab-df-container\">\n",
              "      <div>\n",
              "<style scoped>\n",
              "    .dataframe tbody tr th:only-of-type {\n",
              "        vertical-align: middle;\n",
              "    }\n",
              "\n",
              "    .dataframe tbody tr th {\n",
              "        vertical-align: top;\n",
              "    }\n",
              "\n",
              "    .dataframe thead th {\n",
              "        text-align: right;\n",
              "    }\n",
              "</style>\n",
              "<table border=\"1\" class=\"dataframe\">\n",
              "  <thead>\n",
              "    <tr style=\"text-align: right;\">\n",
              "      <th></th>\n",
              "      <th>Mean</th>\n",
              "      <th>Std</th>\n",
              "      <th>Variance</th>\n",
              "      <th>Min</th>\n",
              "      <th>Max</th>\n",
              "    </tr>\n",
              "  </thead>\n",
              "  <tbody>\n",
              "    <tr>\n",
              "      <th>Year</th>\n",
              "      <td>2014.500000</td>\n",
              "      <td>3.027650</td>\n",
              "      <td>9.166667e+00</td>\n",
              "      <td>2010.000000</td>\n",
              "      <td>2019.000000</td>\n",
              "    </tr>\n",
              "    <tr>\n",
              "      <th>FatalityRate</th>\n",
              "      <td>1.671000</td>\n",
              "      <td>0.212888</td>\n",
              "      <td>4.532111e-02</td>\n",
              "      <td>1.390000</td>\n",
              "      <td>1.950000</td>\n",
              "    </tr>\n",
              "    <tr>\n",
              "      <th>Walksonly</th>\n",
              "      <td>4010.006000</td>\n",
              "      <td>106.153256</td>\n",
              "      <td>1.126851e+04</td>\n",
              "      <td>3797.048000</td>\n",
              "      <td>4153.050000</td>\n",
              "    </tr>\n",
              "    <tr>\n",
              "      <th>Passengercars</th>\n",
              "      <td>6495.117700</td>\n",
              "      <td>1041.556567</td>\n",
              "      <td>1.084840e+06</td>\n",
              "      <td>4733.128000</td>\n",
              "      <td>7694.797000</td>\n",
              "    </tr>\n",
              "    <tr>\n",
              "      <th>Lighttrucks</th>\n",
              "      <td>9265.134900</td>\n",
              "      <td>2283.297292</td>\n",
              "      <td>5.213447e+06</td>\n",
              "      <td>5865.251000</td>\n",
              "      <td>12325.764000</td>\n",
              "    </tr>\n",
              "    <tr>\n",
              "      <th>CellSubscriptions</th>\n",
              "      <td>112.279551</td>\n",
              "      <td>15.475095</td>\n",
              "      <td>2.394786e+02</td>\n",
              "      <td>92.267771</td>\n",
              "      <td>134.458879</td>\n",
              "    </tr>\n",
              "  </tbody>\n",
              "</table>\n",
              "</div>\n",
              "      <button class=\"colab-df-convert\" onclick=\"convertToInteractive('df-b5b1fa0e-9e03-4b1c-832d-b34140c85653')\"\n",
              "              title=\"Convert this dataframe to an interactive table.\"\n",
              "              style=\"display:none;\">\n",
              "        \n",
              "  <svg xmlns=\"http://www.w3.org/2000/svg\" height=\"24px\"viewBox=\"0 0 24 24\"\n",
              "       width=\"24px\">\n",
              "    <path d=\"M0 0h24v24H0V0z\" fill=\"none\"/>\n",
              "    <path d=\"M18.56 5.44l.94 2.06.94-2.06 2.06-.94-2.06-.94-.94-2.06-.94 2.06-2.06.94zm-11 1L8.5 8.5l.94-2.06 2.06-.94-2.06-.94L8.5 2.5l-.94 2.06-2.06.94zm10 10l.94 2.06.94-2.06 2.06-.94-2.06-.94-.94-2.06-.94 2.06-2.06.94z\"/><path d=\"M17.41 7.96l-1.37-1.37c-.4-.4-.92-.59-1.43-.59-.52 0-1.04.2-1.43.59L10.3 9.45l-7.72 7.72c-.78.78-.78 2.05 0 2.83L4 21.41c.39.39.9.59 1.41.59.51 0 1.02-.2 1.41-.59l7.78-7.78 2.81-2.81c.8-.78.8-2.07 0-2.86zM5.41 20L4 18.59l7.72-7.72 1.47 1.35L5.41 20z\"/>\n",
              "  </svg>\n",
              "      </button>\n",
              "      \n",
              "  <style>\n",
              "    .colab-df-container {\n",
              "      display:flex;\n",
              "      flex-wrap:wrap;\n",
              "      gap: 12px;\n",
              "    }\n",
              "\n",
              "    .colab-df-convert {\n",
              "      background-color: #E8F0FE;\n",
              "      border: none;\n",
              "      border-radius: 50%;\n",
              "      cursor: pointer;\n",
              "      display: none;\n",
              "      fill: #1967D2;\n",
              "      height: 32px;\n",
              "      padding: 0 0 0 0;\n",
              "      width: 32px;\n",
              "    }\n",
              "\n",
              "    .colab-df-convert:hover {\n",
              "      background-color: #E2EBFA;\n",
              "      box-shadow: 0px 1px 2px rgba(60, 64, 67, 0.3), 0px 1px 3px 1px rgba(60, 64, 67, 0.15);\n",
              "      fill: #174EA6;\n",
              "    }\n",
              "\n",
              "    [theme=dark] .colab-df-convert {\n",
              "      background-color: #3B4455;\n",
              "      fill: #D2E3FC;\n",
              "    }\n",
              "\n",
              "    [theme=dark] .colab-df-convert:hover {\n",
              "      background-color: #434B5C;\n",
              "      box-shadow: 0px 1px 3px 1px rgba(0, 0, 0, 0.15);\n",
              "      filter: drop-shadow(0px 1px 2px rgba(0, 0, 0, 0.3));\n",
              "      fill: #FFFFFF;\n",
              "    }\n",
              "  </style>\n",
              "\n",
              "      <script>\n",
              "        const buttonEl =\n",
              "          document.querySelector('#df-b5b1fa0e-9e03-4b1c-832d-b34140c85653 button.colab-df-convert');\n",
              "        buttonEl.style.display =\n",
              "          google.colab.kernel.accessAllowed ? 'block' : 'none';\n",
              "\n",
              "        async function convertToInteractive(key) {\n",
              "          const element = document.querySelector('#df-b5b1fa0e-9e03-4b1c-832d-b34140c85653');\n",
              "          const dataTable =\n",
              "            await google.colab.kernel.invokeFunction('convertToInteractive',\n",
              "                                                     [key], {});\n",
              "          if (!dataTable) return;\n",
              "\n",
              "          const docLinkHtml = 'Like what you see? Visit the ' +\n",
              "            '<a target=\"_blank\" href=https://colab.research.google.com/notebooks/data_table.ipynb>data table notebook</a>'\n",
              "            + ' to learn more about interactive tables.';\n",
              "          element.innerHTML = '';\n",
              "          dataTable['output_type'] = 'display_data';\n",
              "          await google.colab.output.renderOutput(dataTable, element);\n",
              "          const docLink = document.createElement('div');\n",
              "          docLink.innerHTML = docLinkHtml;\n",
              "          element.appendChild(docLink);\n",
              "        }\n",
              "      </script>\n",
              "    </div>\n",
              "  </div>\n",
              "  "
            ],
            "text/plain": [
              "                          Mean          Std      Variance          Min  \\\n",
              "Year               2014.500000     3.027650  9.166667e+00  2010.000000   \n",
              "FatalityRate          1.671000     0.212888  4.532111e-02     1.390000   \n",
              "Walksonly          4010.006000   106.153256  1.126851e+04  3797.048000   \n",
              "Passengercars      6495.117700  1041.556567  1.084840e+06  4733.128000   \n",
              "Lighttrucks        9265.134900  2283.297292  5.213447e+06  5865.251000   \n",
              "CellSubscriptions   112.279551    15.475095  2.394786e+02    92.267771   \n",
              "\n",
              "                            Max  \n",
              "Year                2019.000000  \n",
              "FatalityRate           1.950000  \n",
              "Walksonly           4153.050000  \n",
              "Passengercars       7694.797000  \n",
              "Lighttrucks        12325.764000  \n",
              "CellSubscriptions    134.458879  "
            ]
          },
          "metadata": {},
          "execution_count": 208
        }
      ]
    },
    {
      "cell_type": "markdown",
      "source": [
        "## CDF"
      ],
      "metadata": {
        "id": "CBz9QfyZ0jbT"
      }
    },
    {
      "cell_type": "code",
      "source": [
        "# Defining the data we would like to use\n",
        "# We will be looking at the CDF of falality rate by year and state\n",
        "s = statedf[[\"FatalityRate\"]]\n",
        "df = pd.DataFrame(s)\n",
        "# Get the frequency, PDF and CDF for each value in the series\n",
        "\n",
        "# Frequency\n",
        "stats_df = df \\\n",
        ".groupby('FatalityRate') \\\n",
        "['FatalityRate'] \\\n",
        ".agg('count') \\\n",
        ".pipe(pd.DataFrame) \\\n",
        ".rename(columns = {'FatalityRate': 'frequency'})\n",
        "\n",
        "# PDF\n",
        "stats_df['pdf'] = stats_df['frequency'] / sum(stats_df['frequency'])\n",
        "\n",
        "# CDF\n",
        "stats_df['cdf'] = stats_df['pdf'].cumsum()\n",
        "stats_df = stats_df.reset_index()\n",
        "stats_df\n",
        "\n",
        "stats_df.plot(x = 'FatalityRate', y = ['cdf'], grid = True)"
      ],
      "metadata": {
        "colab": {
          "base_uri": "https://localhost:8080/",
          "height": 296
        },
        "id": "3ETp2Aq6qVZD",
        "outputId": "ca0478ad-cbe4-4e1d-f237-3209fb663eae"
      },
      "execution_count": null,
      "outputs": [
        {
          "output_type": "execute_result",
          "data": {
            "text/plain": [
              "<matplotlib.axes._subplots.AxesSubplot at 0x7f2f11965350>"
            ]
          },
          "metadata": {},
          "execution_count": 209
        },
        {
          "output_type": "display_data",
          "data": {
            "image/png": "[encoded data removed]",
            "text/plain": [
              "<Figure size 432x288 with 1 Axes>"
            ]
          },
          "metadata": {}
        }
      ]
    },
    {
      "cell_type": "markdown",
      "source": [
        "## PMF"
      ],
      "metadata": {
        "id": "6yagh6_Zv8Sr"
      }
    },
    {
      "cell_type": "markdown",
      "source": [
        "Since our sample data set has many vaules, creating a simple PMF would lead to issus and far too much noise. We need to bin our data (dividing the data in range of non-overlapping values) before creating a clean PMF. In order to do this we rounded our data points to the nearst whole number, essentily \"binning\" the Fatality Rates into finite groups of whole numbers. We are also intrested in the change in Fatality probaility from 2010 to 2019 so we will be creating a PMF of both years."
      ],
      "metadata": {
        "id": "rK4lwcUvxWs6"
      }
    },
    {
      "cell_type": "code",
      "source": [
        "# Data for 2010\n",
        "new2010df = statedf[(statedf.Year == 2010)]\n",
        "s1 = new2010df[[\"bin\"]]\n",
        "\n",
        "# Data for 2019\n",
        "new2019df = statedf[(statedf.Year == 2019)]\n",
        "s2 = new2019df[[\"bin\"]]\n",
        "\n",
        "# PMF using thinkstats2.Pmf function\n",
        "pmf1 = thinkstats2.Pmf(s1.bin, label='2010')\n",
        "pmf2 = thinkstats2.Pmf(s2.bin, label='2019')\n",
        "\n",
        "# PMF plot of actual distribution\n",
        "thinkplot.Pmf(pmf1)\n",
        "thinkplot.Pmf(pmf2)\n",
        "thinkplot.Config(xlabel='FatalityRate', ylabel='PMF')\n"
      ],
      "metadata": {
        "colab": {
          "base_uri": "https://localhost:8080/",
          "height": 278
        },
        "id": "t7kNafX_0qKG",
        "outputId": "b2fede2b-2018-4f2c-f980-4c25ff9b3cef"
      },
      "execution_count": null,
      "outputs": [
        {
          "output_type": "display_data",
          "data": {
            "image/png": "[encoded data removed]",
            "text/plain": [
              "<Figure size 432x288 with 1 Axes>"
            ]
          },
          "metadata": {}
        }
      ]
    },
    {
      "cell_type": "markdown",
      "source": [
        "## Analytical Distribution - Pareto"
      ],
      "metadata": {
        "id": "9wb3Th4LMdPl"
      }
    },
    {
      "cell_type": "code",
      "source": [
        "sdrop = statedf.drop(['handhelddeviceBan','textingBan','bin'], axis=1)\n",
        "Paretodf = sdrop[(sdrop.Year == 2010)]\n",
        "Paretodf.index = Paretodf['State']\n",
        "Paretodf = Paretodf.sort_values(by='FatalityRate',ascending=False)\n",
        "Paretodf[\"cumpercentage\"] = Paretodf[\"FatalityRate\"].cumsum()/Paretodf[\"FatalityRate\"].sum()*100\n",
        "\n",
        "\n",
        "fig, ax = plt.subplots()\n",
        "ax.bar(Paretodf.index, Paretodf[\"FatalityRate\"], color=\"C0\")\n",
        "ax2 = ax.twinx()\n",
        "ax2.plot(Paretodf.index, Paretodf[\"cumpercentage\"], color=\"C1\", marker=\"D\", ms=7)\n",
        "ax2.yaxis.set_major_formatter(PercentFormatter())\n",
        "\n",
        "ax.tick_params(axis=\"y\", colors=\"C0\")\n",
        "ax2.tick_params(axis=\"y\", colors=\"C1\")\n",
        "plt.show()\n"
      ],
      "metadata": {
        "colab": {
          "base_uri": "https://localhost:8080/",
          "height": 262
        },
        "id": "CGLlY7nmMlv6",
        "outputId": "6816cbc8-12ff-4a58-c995-ef8b648e64e3"
      },
      "execution_count": null,
      "outputs": [
        {
          "output_type": "display_data",
          "data": {
            "image/png": "[encoded data removed]",
            "text/plain": [
              "<Figure size 432x288 with 2 Axes>"
            ]
          },
          "metadata": {}
        }
      ]
    },
    {
      "cell_type": "markdown",
      "source": [
        "## Scatter Plots"
      ],
      "metadata": {
        "id": "c-Su30X6iAOU"
      }
    },
    {
      "cell_type": "code",
      "source": [
        "yeardf"
      ],
      "metadata": {
        "colab": {
          "base_uri": "https://localhost:8080/",
          "height": 363
        },
        "id": "ynbGDhnZ0NH8",
        "outputId": "f6f0dae6-3773-45c9-ddcf-846248b83e01"
      },
      "execution_count": null,
      "outputs": [
        {
          "output_type": "execute_result",
          "data": {
            "text/html": [
              "\n",
              "  <div id=\"df-7d68fae9-7126-40c4-80c5-4a68d9c2b1a8\">\n",
              "    <div class=\"colab-df-container\">\n",
              "      <div>\n",
              "<style scoped>\n",
              "    .dataframe tbody tr th:only-of-type {\n",
              "        vertical-align: middle;\n",
              "    }\n",
              "\n",
              "    .dataframe tbody tr th {\n",
              "        vertical-align: top;\n",
              "    }\n",
              "\n",
              "    .dataframe thead th {\n",
              "        text-align: right;\n",
              "    }\n",
              "</style>\n",
              "<table border=\"1\" class=\"dataframe\">\n",
              "  <thead>\n",
              "    <tr style=\"text-align: right;\">\n",
              "      <th></th>\n",
              "      <th>Year</th>\n",
              "      <th>FatalityRate</th>\n",
              "      <th>Walksonly</th>\n",
              "      <th>Passengercars</th>\n",
              "      <th>Lighttrucks</th>\n",
              "      <th>CellSubscriptions</th>\n",
              "    </tr>\n",
              "  </thead>\n",
              "  <tbody>\n",
              "    <tr>\n",
              "      <th>0</th>\n",
              "      <td>2010.0</td>\n",
              "      <td>1.39</td>\n",
              "      <td>3797.048</td>\n",
              "      <td>5723.862</td>\n",
              "      <td>5865.251</td>\n",
              "      <td>92.267771</td>\n",
              "    </tr>\n",
              "    <tr>\n",
              "      <th>1</th>\n",
              "      <td>2011.0</td>\n",
              "      <td>1.43</td>\n",
              "      <td>3887.969</td>\n",
              "      <td>6128.019</td>\n",
              "      <td>6649.786</td>\n",
              "      <td>95.449046</td>\n",
              "    </tr>\n",
              "    <tr>\n",
              "      <th>2</th>\n",
              "      <td>2012.0</td>\n",
              "      <td>1.54</td>\n",
              "      <td>3969.058</td>\n",
              "      <td>7245.040</td>\n",
              "      <td>7249.427</td>\n",
              "      <td>97.068599</td>\n",
              "    </tr>\n",
              "    <tr>\n",
              "      <th>3</th>\n",
              "      <td>2013.0</td>\n",
              "      <td>1.51</td>\n",
              "      <td>4000.459</td>\n",
              "      <td>7582.598</td>\n",
              "      <td>8009.802</td>\n",
              "      <td>98.197684</td>\n",
              "    </tr>\n",
              "    <tr>\n",
              "      <th>4</th>\n",
              "      <td>2014.0</td>\n",
              "      <td>1.54</td>\n",
              "      <td>4011.094</td>\n",
              "      <td>7694.797</td>\n",
              "      <td>8821.096</td>\n",
              "      <td>111.556216</td>\n",
              "    </tr>\n",
              "    <tr>\n",
              "      <th>5</th>\n",
              "      <td>2015.0</td>\n",
              "      <td>1.71</td>\n",
              "      <td>4114.125</td>\n",
              "      <td>7531.958</td>\n",
              "      <td>9940.279</td>\n",
              "      <td>119.143921</td>\n",
              "    </tr>\n",
              "    <tr>\n",
              "      <th>6</th>\n",
              "      <td>2016.0</td>\n",
              "      <td>1.88</td>\n",
              "      <td>4086.487</td>\n",
              "      <td>6882.104</td>\n",
              "      <td>10677.107</td>\n",
              "      <td>122.594548</td>\n",
              "    </tr>\n",
              "    <tr>\n",
              "      <th>7</th>\n",
              "      <td>2017.0</td>\n",
              "      <td>1.87</td>\n",
              "      <td>4054.632</td>\n",
              "      <td>6103.842</td>\n",
              "      <td>11127.028</td>\n",
              "      <td>123.044834</td>\n",
              "    </tr>\n",
              "    <tr>\n",
              "      <th>8</th>\n",
              "      <td>2018.0</td>\n",
              "      <td>1.95</td>\n",
              "      <td>4026.138</td>\n",
              "      <td>5325.829</td>\n",
              "      <td>11985.809</td>\n",
              "      <td>129.014007</td>\n",
              "    </tr>\n",
              "    <tr>\n",
              "      <th>9</th>\n",
              "      <td>2019.0</td>\n",
              "      <td>1.89</td>\n",
              "      <td>4153.050</td>\n",
              "      <td>4733.128</td>\n",
              "      <td>12325.764</td>\n",
              "      <td>134.458879</td>\n",
              "    </tr>\n",
              "  </tbody>\n",
              "</table>\n",
              "</div>\n",
              "      <button class=\"colab-df-convert\" onclick=\"convertToInteractive('df-7d68fae9-7126-40c4-80c5-4a68d9c2b1a8')\"\n",
              "              title=\"Convert this dataframe to an interactive table.\"\n",
              "              style=\"display:none;\">\n",
              "        \n",
              "  <svg xmlns=\"http://www.w3.org/2000/svg\" height=\"24px\"viewBox=\"0 0 24 24\"\n",
              "       width=\"24px\">\n",
              "    <path d=\"M0 0h24v24H0V0z\" fill=\"none\"/>\n",
              "    <path d=\"M18.56 5.44l.94 2.06.94-2.06 2.06-.94-2.06-.94-.94-2.06-.94 2.06-2.06.94zm-11 1L8.5 8.5l.94-2.06 2.06-.94-2.06-.94L8.5 2.5l-.94 2.06-2.06.94zm10 10l.94 2.06.94-2.06 2.06-.94-2.06-.94-.94-2.06-.94 2.06-2.06.94z\"/><path d=\"M17.41 7.96l-1.37-1.37c-.4-.4-.92-.59-1.43-.59-.52 0-1.04.2-1.43.59L10.3 9.45l-7.72 7.72c-.78.78-.78 2.05 0 2.83L4 21.41c.39.39.9.59 1.41.59.51 0 1.02-.2 1.41-.59l7.78-7.78 2.81-2.81c.8-.78.8-2.07 0-2.86zM5.41 20L4 18.59l7.72-7.72 1.47 1.35L5.41 20z\"/>\n",
              "  </svg>\n",
              "      </button>\n",
              "      \n",
              "  <style>\n",
              "    .colab-df-container {\n",
              "      display:flex;\n",
              "      flex-wrap:wrap;\n",
              "      gap: 12px;\n",
              "    }\n",
              "\n",
              "    .colab-df-convert {\n",
              "      background-color: #E8F0FE;\n",
              "      border: none;\n",
              "      border-radius: 50%;\n",
              "      cursor: pointer;\n",
              "      display: none;\n",
              "      fill: #1967D2;\n",
              "      height: 32px;\n",
              "      padding: 0 0 0 0;\n",
              "      width: 32px;\n",
              "    }\n",
              "\n",
              "    .colab-df-convert:hover {\n",
              "      background-color: #E2EBFA;\n",
              "      box-shadow: 0px 1px 2px rgba(60, 64, 67, 0.3), 0px 1px 3px 1px rgba(60, 64, 67, 0.15);\n",
              "      fill: #174EA6;\n",
              "    }\n",
              "\n",
              "    [theme=dark] .colab-df-convert {\n",
              "      background-color: #3B4455;\n",
              "      fill: #D2E3FC;\n",
              "    }\n",
              "\n",
              "    [theme=dark] .colab-df-convert:hover {\n",
              "      background-color: #434B5C;\n",
              "      box-shadow: 0px 1px 3px 1px rgba(0, 0, 0, 0.15);\n",
              "      filter: drop-shadow(0px 1px 2px rgba(0, 0, 0, 0.3));\n",
              "      fill: #FFFFFF;\n",
              "    }\n",
              "  </style>\n",
              "\n",
              "      <script>\n",
              "        const buttonEl =\n",
              "          document.querySelector('#df-7d68fae9-7126-40c4-80c5-4a68d9c2b1a8 button.colab-df-convert');\n",
              "        buttonEl.style.display =\n",
              "          google.colab.kernel.accessAllowed ? 'block' : 'none';\n",
              "\n",
              "        async function convertToInteractive(key) {\n",
              "          const element = document.querySelector('#df-7d68fae9-7126-40c4-80c5-4a68d9c2b1a8');\n",
              "          const dataTable =\n",
              "            await google.colab.kernel.invokeFunction('convertToInteractive',\n",
              "                                                     [key], {});\n",
              "          if (!dataTable) return;\n",
              "\n",
              "          const docLinkHtml = 'Like what you see? Visit the ' +\n",
              "            '<a target=\"_blank\" href=https://colab.research.google.com/notebooks/data_table.ipynb>data table notebook</a>'\n",
              "            + ' to learn more about interactive tables.';\n",
              "          element.innerHTML = '';\n",
              "          dataTable['output_type'] = 'display_data';\n",
              "          await google.colab.output.renderOutput(dataTable, element);\n",
              "          const docLink = document.createElement('div');\n",
              "          docLink.innerHTML = docLinkHtml;\n",
              "          element.appendChild(docLink);\n",
              "        }\n",
              "      </script>\n",
              "    </div>\n",
              "  </div>\n",
              "  "
            ],
            "text/plain": [
              "     Year  FatalityRate  Walksonly  Passengercars  Lighttrucks  \\\n",
              "0  2010.0          1.39   3797.048       5723.862     5865.251   \n",
              "1  2011.0          1.43   3887.969       6128.019     6649.786   \n",
              "2  2012.0          1.54   3969.058       7245.040     7249.427   \n",
              "3  2013.0          1.51   4000.459       7582.598     8009.802   \n",
              "4  2014.0          1.54   4011.094       7694.797     8821.096   \n",
              "5  2015.0          1.71   4114.125       7531.958     9940.279   \n",
              "6  2016.0          1.88   4086.487       6882.104    10677.107   \n",
              "7  2017.0          1.87   4054.632       6103.842    11127.028   \n",
              "8  2018.0          1.95   4026.138       5325.829    11985.809   \n",
              "9  2019.0          1.89   4153.050       4733.128    12325.764   \n",
              "\n",
              "   CellSubscriptions  \n",
              "0          92.267771  \n",
              "1          95.449046  \n",
              "2          97.068599  \n",
              "3          98.197684  \n",
              "4         111.556216  \n",
              "5         119.143921  \n",
              "6         122.594548  \n",
              "7         123.044834  \n",
              "8         129.014007  \n",
              "9         134.458879  "
            ]
          },
          "metadata": {},
          "execution_count": 212
        }
      ]
    },
    {
      "cell_type": "code",
      "source": [
        "# Pearson's r for Cell Subscriptions\n",
        "x=yeardf[\"CellSubscriptions\"]\n",
        "y=yeardf[\"FatalityRate\"]\n",
        "x.corr(y)"
      ],
      "metadata": {
        "colab": {
          "base_uri": "https://localhost:8080/"
        },
        "id": "MZRQpF5gxB_7",
        "outputId": "e020b813-298e-4e64-bd8d-13fe8f1ecb7f"
      },
      "execution_count": null,
      "outputs": [
        {
          "output_type": "execute_result",
          "data": {
            "text/plain": [
              "0.9485991407249945"
            ]
          },
          "metadata": {},
          "execution_count": 213
        }
      ]
    },
    {
      "cell_type": "code",
      "source": [
        "# Pearson's r for SUV & Lighttruck Sales\n",
        "x=yeardf[\"Lighttrucks\"]\n",
        "y=yeardf[\"FatalityRate\"]\n",
        "x.corr(y)"
      ],
      "metadata": {
        "colab": {
          "base_uri": "https://localhost:8080/"
        },
        "id": "HSHN12KV0yJt",
        "outputId": "321ed0d2-245d-4514-e8d3-b7bbc3a3ff9a"
      },
      "execution_count": null,
      "outputs": [
        {
          "output_type": "execute_result",
          "data": {
            "text/plain": [
              "0.967204460064907"
            ]
          },
          "metadata": {},
          "execution_count": 214
        }
      ]
    },
    {
      "cell_type": "code",
      "source": [
        "# Scatter Plot for number of cell phone subscriptions per capita and pedestrian deaths by year\n",
        "sns.scatterplot(data=yeardf,x='CellSubscriptions',y='FatalityRate')\n",
        "for i in range(yeardf.shape[0]):\n",
        " plt.text(x=yeardf.CellSubscriptions[i]+0.06,y=yeardf.FatalityRate[i]+0.06,s=yeardf.Year[i], \n",
        "          fontdict=dict(color='blue',size=10),\n",
        "          bbox=dict(facecolor='grey',alpha=0.5))\n",
        "\n",
        "plt.title('Cellular Subscriptions and pedestrian deaths') #title\n",
        "plt.xlabel('Cell Phone Subscriptions') #x label\n",
        "plt.ylabel('Fatality Rate') #y label"
      ],
      "metadata": {
        "colab": {
          "base_uri": "https://localhost:8080/",
          "height": 315
        },
        "id": "KDz0bWFdoS3s",
        "outputId": "3c9e0104-6965-4092-a6b1-5457b3b2deb8"
      },
      "execution_count": null,
      "outputs": [
        {
          "output_type": "execute_result",
          "data": {
            "text/plain": [
              "Text(0, 0.5, 'Fatality Rate')"
            ]
          },
          "metadata": {},
          "execution_count": 215
        },
        {
          "output_type": "display_data",
          "data": {
            "image/png": "[encoded data removed]",
            "text/plain": [
              "<Figure size 432x288 with 1 Axes>"
            ]
          },
          "metadata": {}
        }
      ]
    },
    {
      "cell_type": "code",
      "source": [
        "# Scatter Plot for number of cell phone subscriptions per capita and pedestrian deaths by year\n",
        "sns.scatterplot(data=yeardf,x='Lighttrucks',y='FatalityRate')\n",
        "for i in range(yeardf.shape[0]):\n",
        " plt.text(x=yeardf.Lighttrucks[i]+0.06,y=yeardf.FatalityRate[i]+0.06,s=yeardf.Year[i], \n",
        "          fontdict=dict(color='blue',size=10),\n",
        "          bbox=dict(facecolor='grey',alpha=0.5))\n",
        "\n",
        "plt.title('SUV/Lighttruck Sales and pedestrian deaths') #title\n",
        "plt.xlabel('SUV & Lighttruck Sales') #x label\n",
        "plt.ylabel('Fatality Rate') #y label"
      ],
      "metadata": {
        "colab": {
          "base_uri": "https://localhost:8080/",
          "height": 315
        },
        "id": "yCVQQgPEtCNq",
        "outputId": "2decfa62-90c7-41fb-8232-68c0a37323fa"
      },
      "execution_count": null,
      "outputs": [
        {
          "output_type": "execute_result",
          "data": {
            "text/plain": [
              "Text(0, 0.5, 'Fatality Rate')"
            ]
          },
          "metadata": {},
          "execution_count": 216
        },
        {
          "output_type": "display_data",
          "data": {
            "image/png": "[encoded data removed]",
            "text/plain": [
              "<Figure size 432x288 with 1 Axes>"
            ]
          },
          "metadata": {}
        }
      ]
    },
    {
      "cell_type": "markdown",
      "source": [
        "## Hypothesis Testing - Welch’s t-test\n",
        "Welch’s t-test univariate test that tests for a significant difference between the mean of two unrelated groups. It is an alternative to the independent t-test when there are unequal variances."
      ],
      "metadata": {
        "id": "19fWCJFhei2z"
      }
    },
    {
      "cell_type": "code",
      "source": [
        "# Data frame of SUVs and Lighttrucks only\n",
        "Lighttrucksbyyear = yeardf[\"Lighttrucks\"]\n",
        "# Data frame of Fatality per 100,000\n",
        "totalfatalitybyyear = yeardf[\"FatalityRate\"]\n",
        "# Test for equal variances. We want to look for a difference less than 4\n",
        "print((np.var(Lighttrucksbyyear))/(np.var(totalfatalitybyyear)))\n",
        "# Since we got a value over 4 we will continue with Welch’s t-test\n",
        "# testing the assumption of normality using the stats.shapiro()\n",
        "# first value in the tuple is the W test statistic, and the second value is the p-value.\n",
        "print((stats.shapiro(Lighttrucksbyyear)), (stats.shapiro(totalfatalitybyyear)))\n",
        "# Welch’s t-test\n",
        "stats.ttest_ind(Lighttrucksbyyear, totalfatalitybyyear, equal_var = False)\n",
        "# Since out p-value is significant (less than 0.5), we can reject the null hypothesis and say that there is a signifange difference in means. Meaning that the increase in deaths may not be related to the increase in lighttrucks and suvs.\n"
      ],
      "metadata": {
        "colab": {
          "base_uri": "https://localhost:8080/"
        },
        "id": "GHXtZTbRejYc",
        "outputId": "d95986c9-c8ac-4b51-d94f-99371d8910fa"
      },
      "execution_count": null,
      "outputs": [
        {
          "output_type": "stream",
          "name": "stdout",
          "text": [
            "115033510.75980507\n",
            "(0.9468666911125183, 0.6316025853157043) (0.8803905248641968, 0.1318477839231491)\n"
          ]
        },
        {
          "output_type": "execute_result",
          "data": {
            "text/plain": [
              "Ttest_indResult(statistic=12.82953600693544, pvalue=4.3486425439362615e-07)"
            ]
          },
          "metadata": {},
          "execution_count": 217
        }
      ]
    },
    {
      "cell_type": "markdown",
      "source": [
        "## Regression Analysis - Linear Regression"
      ],
      "metadata": {
        "id": "DGBI1uGcmfEH"
      }
    },
    {
      "cell_type": "code",
      "source": [
        "# Cacluate R-Squared to find the best fit variables for our regression model.\n",
        "# We want to chose the variables with the \n",
        "# R-Squared for Lighttrucks\n",
        "y_values = yeardf[\"Lighttrucks\"]\n",
        "x_values = yeardf[\"FatalityRate\"]\n",
        "\n",
        "correlation_matrix = np.corrcoef(x_values, y_values)\n",
        "correlation_xy = correlation_matrix[0,1]\n",
        "r_squared = correlation_xy**2\n",
        "\n",
        "# R-Squared for Lighttrucks\n",
        "p_values = yeardf[\"Passengercars\"]\n",
        "\n",
        "pcorrelation_matrix = np.corrcoef(x_values, p_values)\n",
        "pcorrelation_xy = pcorrelation_matrix[0,1]\n",
        "pr_squared = pcorrelation_xy**2\n",
        "\n",
        "# R-Squared for CellSubscriptions\n",
        "c_values = yeardf[\"CellSubscriptions\"]\n",
        "\n",
        "ccorrelation_matrix = np.corrcoef(x_values, c_values)\n",
        "ccorrelation_xy = ccorrelation_matrix[0,1]\n",
        "cr_squared = ccorrelation_xy**2\n",
        "\n",
        "\n",
        "print(\"Lighttrucks:\",r_squared,\"Passengercars:\",pr_squared,\"CellSubscriptions:\",cr_squared)"
      ],
      "metadata": {
        "colab": {
          "base_uri": "https://localhost:8080/"
        },
        "id": "pWVPlvpf4bAh",
        "outputId": "7490279f-d042-48a6-f484-a23e0ec5e84f"
      },
      "execution_count": null,
      "outputs": [
        {
          "output_type": "stream",
          "name": "stdout",
          "text": [
            "Lighttrucks: 0.9354844675694485 Passengercars: 0.15828037876697454 CellSubscriptions: 0.8998403297841981\n"
          ]
        }
      ]
    },
    {
      "cell_type": "code",
      "source": [
        "# Linear regession model using only Lighttrucks\n",
        "model = smf.ols('FatalityRate ~ Lighttrucks', data=yeardf)\n",
        "results = model.fit()\n",
        "results.summary()"
      ],
      "metadata": {
        "colab": {
          "base_uri": "https://localhost:8080/",
          "height": 512
        },
        "id": "0Ne-McZe7ZnC",
        "outputId": "1d4fcdf9-0f70-492c-8efa-d7d40c31d003"
      },
      "execution_count": null,
      "outputs": [
        {
          "output_type": "stream",
          "name": "stderr",
          "text": [
            "/usr/local/lib/python3.7/dist-packages/scipy/stats/stats.py:1535: UserWarning: kurtosistest only valid for n>=20 ... continuing anyway, n=10\n",
            "  \"anyway, n=%i\" % int(n))\n"
          ]
        },
        {
          "output_type": "execute_result",
          "data": {
            "text/html": [
              "<table class=\"simpletable\">\n",
              "<caption>OLS Regression Results</caption>\n",
              "<tr>\n",
              "  <th>Dep. Variable:</th>      <td>FatalityRate</td>   <th>  R-squared:         </th> <td>   0.935</td>\n",
              "</tr>\n",
              "<tr>\n",
              "  <th>Model:</th>                   <td>OLS</td>       <th>  Adj. R-squared:    </th> <td>   0.927</td>\n",
              "</tr>\n",
              "<tr>\n",
              "  <th>Method:</th>             <td>Least Squares</td>  <th>  F-statistic:       </th> <td>   116.0</td>\n",
              "</tr>\n",
              "<tr>\n",
              "  <th>Date:</th>             <td>Sat, 05 Mar 2022</td> <th>  Prob (F-statistic):</th> <td>4.86e-06</td>\n",
              "</tr>\n",
              "<tr>\n",
              "  <th>Time:</th>                 <td>23:07:24</td>     <th>  Log-Likelihood:    </th> <td>  15.512</td>\n",
              "</tr>\n",
              "<tr>\n",
              "  <th>No. Observations:</th>      <td>    10</td>      <th>  AIC:               </th> <td>  -27.02</td>\n",
              "</tr>\n",
              "<tr>\n",
              "  <th>Df Residuals:</th>          <td>     8</td>      <th>  BIC:               </th> <td>  -26.42</td>\n",
              "</tr>\n",
              "<tr>\n",
              "  <th>Df Model:</th>              <td>     1</td>      <th>                     </th>     <td> </td>   \n",
              "</tr>\n",
              "<tr>\n",
              "  <th>Covariance Type:</th>      <td>nonrobust</td>    <th>                     </th>     <td> </td>   \n",
              "</tr>\n",
              "</table>\n",
              "<table class=\"simpletable\">\n",
              "<tr>\n",
              "       <td></td>          <th>coef</th>     <th>std err</th>      <th>t</th>      <th>P>|t|</th>  <th>[0.025</th>    <th>0.975]</th>  \n",
              "</tr>\n",
              "<tr>\n",
              "  <th>Intercept</th>   <td>    0.8355</td> <td>    0.080</td> <td>   10.487</td> <td> 0.000</td> <td>    0.652</td> <td>    1.019</td>\n",
              "</tr>\n",
              "<tr>\n",
              "  <th>Lighttrucks</th> <td> 9.018e-05</td> <td> 8.37e-06</td> <td>   10.770</td> <td> 0.000</td> <td> 7.09e-05</td> <td>    0.000</td>\n",
              "</tr>\n",
              "</table>\n",
              "<table class=\"simpletable\">\n",
              "<tr>\n",
              "  <th>Omnibus:</th>       <td> 0.449</td> <th>  Durbin-Watson:     </th> <td>   1.593</td>\n",
              "</tr>\n",
              "<tr>\n",
              "  <th>Prob(Omnibus):</th> <td> 0.799</td> <th>  Jarque-Bera (JB):  </th> <td>   0.501</td>\n",
              "</tr>\n",
              "<tr>\n",
              "  <th>Skew:</th>          <td>-0.220</td> <th>  Prob(JB):          </th> <td>   0.779</td>\n",
              "</tr>\n",
              "<tr>\n",
              "  <th>Kurtosis:</th>      <td> 1.996</td> <th>  Cond. No.          </th> <td>4.18e+04</td>\n",
              "</tr>\n",
              "</table><br/><br/>Warnings:<br/>[1] Standard Errors assume that the covariance matrix of the errors is correctly specified.<br/>[2] The condition number is large, 4.18e+04. This might indicate that there are<br/>strong multicollinearity or other numerical problems."
            ],
            "text/plain": [
              "<class 'statsmodels.iolib.summary.Summary'>\n",
              "\"\"\"\n",
              "                            OLS Regression Results                            \n",
              "==============================================================================\n",
              "Dep. Variable:           FatalityRate   R-squared:                       0.935\n",
              "Model:                            OLS   Adj. R-squared:                  0.927\n",
              "Method:                 Least Squares   F-statistic:                     116.0\n",
              "Date:                Sat, 05 Mar 2022   Prob (F-statistic):           4.86e-06\n",
              "Time:                        23:07:24   Log-Likelihood:                 15.512\n",
              "No. Observations:                  10   AIC:                            -27.02\n",
              "Df Residuals:                       8   BIC:                            -26.42\n",
              "Df Model:                           1                                         \n",
              "Covariance Type:            nonrobust                                         \n",
              "===============================================================================\n",
              "                  coef    std err          t      P>|t|      [0.025      0.975]\n",
              "-------------------------------------------------------------------------------\n",
              "Intercept       0.8355      0.080     10.487      0.000       0.652       1.019\n",
              "Lighttrucks  9.018e-05   8.37e-06     10.770      0.000    7.09e-05       0.000\n",
              "==============================================================================\n",
              "Omnibus:                        0.449   Durbin-Watson:                   1.593\n",
              "Prob(Omnibus):                  0.799   Jarque-Bera (JB):                0.501\n",
              "Skew:                          -0.220   Prob(JB):                        0.779\n",
              "Kurtosis:                       1.996   Cond. No.                     4.18e+04\n",
              "==============================================================================\n",
              "\n",
              "Warnings:\n",
              "[1] Standard Errors assume that the covariance matrix of the errors is correctly specified.\n",
              "[2] The condition number is large, 4.18e+04. This might indicate that there are\n",
              "strong multicollinearity or other numerical problems.\n",
              "\"\"\""
            ]
          },
          "metadata": {},
          "execution_count": 224
        }
      ]
    },
    {
      "cell_type": "code",
      "source": [
        "# Linear regession model using Lighttrucks and CellSubscriptions\n",
        "import patsy\n",
        "import statsmodels.formula.api as smf\n",
        "model = smf.ols('FatalityRate ~ Lighttrucks+CellSubscriptions', data=yeardf)\n",
        "results = model.fit()\n",
        "results.summary()"
      ],
      "metadata": {
        "colab": {
          "base_uri": "https://localhost:8080/",
          "height": 533
        },
        "id": "tndlUEoF8WXx",
        "outputId": "15207e3b-d5cf-496e-9db9-477da4a2ac7c"
      },
      "execution_count": null,
      "outputs": [
        {
          "output_type": "stream",
          "name": "stderr",
          "text": [
            "/usr/local/lib/python3.7/dist-packages/scipy/stats/stats.py:1535: UserWarning: kurtosistest only valid for n>=20 ... continuing anyway, n=10\n",
            "  \"anyway, n=%i\" % int(n))\n"
          ]
        },
        {
          "output_type": "execute_result",
          "data": {
            "text/html": [
              "<table class=\"simpletable\">\n",
              "<caption>OLS Regression Results</caption>\n",
              "<tr>\n",
              "  <th>Dep. Variable:</th>      <td>FatalityRate</td>   <th>  R-squared:         </th> <td>   0.936</td>\n",
              "</tr>\n",
              "<tr>\n",
              "  <th>Model:</th>                   <td>OLS</td>       <th>  Adj. R-squared:    </th> <td>   0.918</td>\n",
              "</tr>\n",
              "<tr>\n",
              "  <th>Method:</th>             <td>Least Squares</td>  <th>  F-statistic:       </th> <td>   51.34</td>\n",
              "</tr>\n",
              "<tr>\n",
              "  <th>Date:</th>             <td>Sat, 05 Mar 2022</td> <th>  Prob (F-statistic):</th> <td>6.57e-05</td>\n",
              "</tr>\n",
              "<tr>\n",
              "  <th>Time:</th>                 <td>23:07:27</td>     <th>  Log-Likelihood:    </th> <td>  15.566</td>\n",
              "</tr>\n",
              "<tr>\n",
              "  <th>No. Observations:</th>      <td>    10</td>      <th>  AIC:               </th> <td>  -25.13</td>\n",
              "</tr>\n",
              "<tr>\n",
              "  <th>Df Residuals:</th>          <td>     7</td>      <th>  BIC:               </th> <td>  -24.22</td>\n",
              "</tr>\n",
              "<tr>\n",
              "  <th>Df Model:</th>              <td>     2</td>      <th>                     </th>     <td> </td>   \n",
              "</tr>\n",
              "<tr>\n",
              "  <th>Covariance Type:</th>      <td>nonrobust</td>    <th>                     </th>     <td> </td>   \n",
              "</tr>\n",
              "</table>\n",
              "<table class=\"simpletable\">\n",
              "<tr>\n",
              "          <td></td>             <th>coef</th>     <th>std err</th>      <th>t</th>      <th>P>|t|</th>  <th>[0.025</th>    <th>0.975]</th>  \n",
              "</tr>\n",
              "<tr>\n",
              "  <th>Intercept</th>         <td>    0.9431</td> <td>    0.398</td> <td>    2.369</td> <td> 0.050</td> <td>    0.002</td> <td>    1.885</td>\n",
              "</tr>\n",
              "<tr>\n",
              "  <th>Lighttrucks</th>       <td>    0.0001</td> <td> 5.23e-05</td> <td>    1.997</td> <td> 0.086</td> <td>-1.93e-05</td> <td>    0.000</td>\n",
              "</tr>\n",
              "<tr>\n",
              "  <th>CellSubscriptions</th> <td>   -0.0021</td> <td>    0.008</td> <td>   -0.277</td> <td> 0.790</td> <td>   -0.020</td> <td>    0.016</td>\n",
              "</tr>\n",
              "</table>\n",
              "<table class=\"simpletable\">\n",
              "<tr>\n",
              "  <th>Omnibus:</th>       <td> 0.500</td> <th>  Durbin-Watson:     </th> <td>   1.576</td>\n",
              "</tr>\n",
              "<tr>\n",
              "  <th>Prob(Omnibus):</th> <td> 0.779</td> <th>  Jarque-Bera (JB):  </th> <td>   0.514</td>\n",
              "</tr>\n",
              "<tr>\n",
              "  <th>Skew:</th>          <td>-0.184</td> <th>  Prob(JB):          </th> <td>   0.773</td>\n",
              "</tr>\n",
              "<tr>\n",
              "  <th>Kurtosis:</th>      <td> 1.952</td> <th>  Cond. No.          </th> <td>1.96e+05</td>\n",
              "</tr>\n",
              "</table><br/><br/>Warnings:<br/>[1] Standard Errors assume that the covariance matrix of the errors is correctly specified.<br/>[2] The condition number is large, 1.96e+05. This might indicate that there are<br/>strong multicollinearity or other numerical problems."
            ],
            "text/plain": [
              "<class 'statsmodels.iolib.summary.Summary'>\n",
              "\"\"\"\n",
              "                            OLS Regression Results                            \n",
              "==============================================================================\n",
              "Dep. Variable:           FatalityRate   R-squared:                       0.936\n",
              "Model:                            OLS   Adj. R-squared:                  0.918\n",
              "Method:                 Least Squares   F-statistic:                     51.34\n",
              "Date:                Sat, 05 Mar 2022   Prob (F-statistic):           6.57e-05\n",
              "Time:                        23:07:27   Log-Likelihood:                 15.566\n",
              "No. Observations:                  10   AIC:                            -25.13\n",
              "Df Residuals:                       7   BIC:                            -24.22\n",
              "Df Model:                           2                                         \n",
              "Covariance Type:            nonrobust                                         \n",
              "=====================================================================================\n",
              "                        coef    std err          t      P>|t|      [0.025      0.975]\n",
              "-------------------------------------------------------------------------------------\n",
              "Intercept             0.9431      0.398      2.369      0.050       0.002       1.885\n",
              "Lighttrucks           0.0001   5.23e-05      1.997      0.086   -1.93e-05       0.000\n",
              "CellSubscriptions    -0.0021      0.008     -0.277      0.790      -0.020       0.016\n",
              "==============================================================================\n",
              "Omnibus:                        0.500   Durbin-Watson:                   1.576\n",
              "Prob(Omnibus):                  0.779   Jarque-Bera (JB):                0.514\n",
              "Skew:                          -0.184   Prob(JB):                        0.773\n",
              "Kurtosis:                       1.952   Cond. No.                     1.96e+05\n",
              "==============================================================================\n",
              "\n",
              "Warnings:\n",
              "[1] Standard Errors assume that the covariance matrix of the errors is correctly specified.\n",
              "[2] The condition number is large, 1.96e+05. This might indicate that there are\n",
              "strong multicollinearity or other numerical problems.\n",
              "\"\"\""
            ]
          },
          "metadata": {},
          "execution_count": 225
        }
      ]
    },
    {
      "cell_type": "markdown",
      "source": [
        "Testing our choosen model (simple linear regression useing lighttrucks only)"
      ],
      "metadata": {
        "id": "4J2lA31UV1Mm"
      }
    },
    {
      "cell_type": "code",
      "source": [
        "# Defining feature matrix(X) and response variable FatalityRate\n",
        "X = yeardf[['Lighttrucks']]\n",
        "y = yeardf[[\"FatalityRate\"]]\n",
        " \n",
        "# splitting X and y into training and testing sets\n",
        "from sklearn.model_selection import train_test_split\n",
        "X_train, X_test, y_train, y_test = train_test_split(X, y, test_size=0.4,\n",
        "                                                    random_state=1)\n",
        " \n",
        "# create linear regression object\n",
        "reg = linear_model.LinearRegression()\n",
        " \n",
        "# train the model using the training sets\n",
        "reg.fit(X_train, y_train)\n",
        " \n",
        "# regression coefficients\n",
        "print('Coefficients: ', reg.coef_)\n",
        " \n",
        "# variance score: 1 means perfect prediction\n",
        "print('Variance score: {}'.format(reg.score(X_test, y_test)))\n",
        " \n",
        "# plot for residual error\n",
        " \n",
        "## setting plot style\n",
        "plt.style.use('fivethirtyeight')\n",
        " \n",
        "## plotting residual errors in training data\n",
        "plt.scatter(reg.predict(X_train), reg.predict(X_train) - y_train,\n",
        "            color = \"green\", s = 10, label = 'Train data')\n",
        " \n",
        "## plotting residual errors in test data\n",
        "plt.scatter(reg.predict(X_test), reg.predict(X_test) - y_test,\n",
        "            color = \"blue\", s = 10, label = 'Test data')\n",
        " \n",
        "## plotting line for zero residual error\n",
        "plt.hlines(y = 0, xmin = 0, xmax = 50, linewidth = 2)\n",
        " \n",
        "## plotting legend\n",
        "plt.legend(loc = 'upper right')\n",
        " \n",
        "## plot title\n",
        "plt.title(\"Residual errors\")\n",
        " \n",
        "## method call for showing the plot\n",
        "plt.show()"
      ],
      "metadata": {
        "colab": {
          "base_uri": "https://localhost:8080/",
          "height": 339
        },
        "id": "ezr12HtwqND6",
        "outputId": "461f7948-549f-4101-f3a6-758b6ff844f4"
      },
      "execution_count": null,
      "outputs": [
        {
          "output_type": "stream",
          "name": "stdout",
          "text": [
            "Coefficients:  [[9.43039674e-05]]\n",
            "Variance score: 0.8128251876656488\n"
          ]
        },
        {
          "output_type": "display_data",
          "data": {
            "image/png": "[encoded data removed]",
            "text/plain": [
              "<Figure size 432x288 with 1 Axes>"
            ]
          },
          "metadata": {}
        }
      ]
    }
  ]
}