{
  "cells": [
    {
      "cell_type": "markdown",
      "metadata": {
        "id": "view-in-github",
        "colab_type": "text"
      },
      "source": [
        "<a href=\"https://colab.research.google.com/github/Amelia-ZJ/DSC530/blob/main/Week_5_Assignments_AFarrell_.ipynb\" target=\"_parent\"><img src=\"https://colab.research.google.com/assets/colab-badge.svg\" alt=\"Open In Colab\"/></a>"
      ]
    },
    {
      "cell_type": "markdown",
      "metadata": {
        "id": "E15hGiPH48QY"
      },
      "source": [
        "# 5.2  Exercise\n",
        "\n",
        "Modeling Distributions and PDFs\n",
        "\n",
        "Amelia Farrell\n",
        "\n",
        "DSC520\n",
        "\n",
        "1/10/21\n"
      ]
    },
    {
      "cell_type": "code",
      "source": [
        "# Loading packages needed\n",
        "from __future__ import print_function, division\n",
        "\n",
        "%matplotlib inline\n",
        "\n",
        "import numpy as np\n",
        "from scipy.stats import kurtosis, skew\n",
        "import thinkstats2\n",
        "import thinkplot\n",
        "import brfss"
      ],
      "metadata": {
        "id": "mqF-FGNs-aaz"
      },
      "execution_count": null,
      "outputs": []
    },
    {
      "cell_type": "markdown",
      "metadata": {
        "id": "z6HclmAH48Qp"
      },
      "source": [
        "# Chapter 5\n",
        "\n",
        "## Page 62: 5-1\n",
        "In the BRFSS (see “The lognormal Distribution” on page 56), the distribution of heights is roughly normal with parameters…\n",
        "\n",
        "In order to join Blue Man Group, you have to be male between 5’10” and 6’1”. What percentage of the U.S. male population is in this range? Hint: use scipy.stats.norm.cdf."
      ]
    },
    {
      "cell_type": "code",
      "execution_count": null,
      "metadata": {
        "colab": {
          "base_uri": "https://localhost:8080/"
        },
        "id": "uMdU5Ev348Qr",
        "outputId": "3f22b014-6515-487e-9842-b69e7d35967b"
      },
      "outputs": [
        {
          "output_type": "execute_result",
          "data": {
            "text/plain": [
              "scipy.stats._distn_infrastructure.rv_frozen"
            ]
          },
          "metadata": {},
          "execution_count": 18
        }
      ],
      "source": [
        "# Importing scipy.stats for objects representing analytic distributions\n",
        "import scipy.stats\n",
        "\n",
        "# Data for distribution of heights with parameters µ = 178 cm and σ = 7.7 cm for men.\n",
        "mu = 178\n",
        "sigma = 7.7\n",
        "dist = scipy.stats.norm(loc=mu, scale=sigma)\n",
        "type(dist)"
      ]
    },
    {
      "cell_type": "code",
      "source": [
        "# Calculation men between 5'10\" and 6'1\n",
        "# 5'10\" = 177.8 cm, 6'1\" = 185.4cm\n",
        "low = dist.cdf(177.8) \n",
        "high = dist.cdf(185.4)  \n",
        "print(round((high-low)*100),'percent of men are between 5 feet 10 inch and 6 feet 1 inch tall') "
      ],
      "metadata": {
        "id": "X27PxKaHLicp",
        "colab": {
          "base_uri": "https://localhost:8080/"
        },
        "outputId": "67659cb4-f814-4738-cc44-cb8c6a5d7b56"
      },
      "execution_count": null,
      "outputs": [
        {
          "output_type": "stream",
          "name": "stdout",
          "text": [
            "34 percent of men are between 5 feet 10 inch and 6 feet 1 inch tall\n"
          ]
        }
      ]
    },
    {
      "cell_type": "markdown",
      "source": [
        "\n",
        "## Page 63: 5-2\n",
        "To get a feel for the Pareto distribution, let’s see how different the world would be if the distribution of human height were Pareto..."
      ],
      "metadata": {
        "id": "HWfGuXYFvG1v"
      }
    },
    {
      "cell_type": "code",
      "source": [
        "# Using the scipy.stats.pareto, we will sett the parameters xm = 1 meter and α = 1.7.\n",
        "alpha = 1.7\n",
        "xmin = 1 \n",
        "dist = scipy.stats.pareto(b=alpha, scale=xmin)\n",
        "dist.median()"
      ],
      "metadata": {
        "colab": {
          "base_uri": "https://localhost:8080/"
        },
        "id": "MpWyZTfqwDp_",
        "outputId": "098cf25b-0114-489d-a2d7-56c64c1866e8"
      },
      "execution_count": null,
      "outputs": [
        {
          "output_type": "execute_result",
          "data": {
            "text/plain": [
              "1.5034066538560549"
            ]
          },
          "metadata": {},
          "execution_count": 20
        }
      ]
    },
    {
      "cell_type": "markdown",
      "source": [
        "Plot the distibution"
      ],
      "metadata": {
        "id": "V_1duNcXxy0E"
      }
    },
    {
      "cell_type": "code",
      "source": [
        "xs, ps = thinkstats2.RenderParetoCdf(xmin, alpha, 0, 10.0, n=100) \n",
        "thinkplot.Plot(xs, ps, label=r'$\\alpha=%g$' % alpha)\n",
        "thinkplot.Config(xlabel='height (m)', ylabel='CDF')"
      ],
      "metadata": {
        "colab": {
          "base_uri": "https://localhost:8080/",
          "height": 279
        },
        "id": "8Ax6pJiYx1pG",
        "outputId": "7a24862d-c4d2-4e17-9131-1abfc3da75de"
      },
      "execution_count": null,
      "outputs": [
        {
          "output_type": "display_data",
          "data": {
            "image/png": "[encoded data removed]",
            "text/plain": [
              "<Figure size 432x288 with 1 Axes>"
            ]
          },
          "metadata": {
            "needs_background": "light"
          }
        }
      ]
    },
    {
      "cell_type": "markdown",
      "source": [
        "What is the mean human height in Pareto world?"
      ],
      "metadata": {
        "id": "A0FYgWcQzXPj"
      }
    },
    {
      "cell_type": "code",
      "source": [
        "dist.mean()"
      ],
      "metadata": {
        "colab": {
          "base_uri": "https://localhost:8080/"
        },
        "id": "tjMWTClvzec0",
        "outputId": "456b8c06-721e-419e-9ee6-727d29902103"
      },
      "execution_count": null,
      "outputs": [
        {
          "output_type": "execute_result",
          "data": {
            "text/plain": [
              "2.428571428571429"
            ]
          },
          "metadata": {},
          "execution_count": 22
        }
      ]
    },
    {
      "cell_type": "markdown",
      "source": [
        "What fraction of people are shorter than the mean?"
      ],
      "metadata": {
        "id": "XqfR7Uq2zir9"
      }
    },
    {
      "cell_type": "code",
      "source": [
        "dist.cdf(dist.mean())"
      ],
      "metadata": {
        "colab": {
          "base_uri": "https://localhost:8080/"
        },
        "id": "OXE71ZZAzokL",
        "outputId": "52ad7edc-ceaf-46f0-d33a-77dca30edf02"
      },
      "execution_count": null,
      "outputs": [
        {
          "output_type": "execute_result",
          "data": {
            "text/plain": [
              "0.778739697565288"
            ]
          },
          "metadata": {},
          "execution_count": 23
        }
      ]
    },
    {
      "cell_type": "markdown",
      "source": [
        "Out of 7 billion people, how many do we expect to be taller than 1 km? You could use dist.cdf or dist.sf."
      ],
      "metadata": {
        "id": "tRubQpu7zrYr"
      }
    },
    {
      "cell_type": "code",
      "source": [
        "(1 - dist.cdf(1000)) * 7e9, dist.sf(1000) * 7e9"
      ],
      "metadata": {
        "colab": {
          "base_uri": "https://localhost:8080/"
        },
        "id": "M6zJRPEzz37W",
        "outputId": "e68d4857-0ed5-4ea2-87e7-d530e3b5a5ff"
      },
      "execution_count": null,
      "outputs": [
        {
          "output_type": "execute_result",
          "data": {
            "text/plain": [
              "(55602.976430479954, 55602.97643069972)"
            ]
          },
          "metadata": {},
          "execution_count": 24
        }
      ]
    },
    {
      "cell_type": "markdown",
      "source": [
        "How tall do we expect the tallest person to be?"
      ],
      "metadata": {
        "id": "4wQX9Iu-z7JD"
      }
    },
    {
      "cell_type": "code",
      "source": [
        "dist.sf(600000) * 7e9   "
      ],
      "metadata": {
        "colab": {
          "base_uri": "https://localhost:8080/"
        },
        "id": "UAxMjUKZz9_3",
        "outputId": "9411beae-2425-4e35-9560-253a1683f292"
      },
      "execution_count": null,
      "outputs": [
        {
          "output_type": "execute_result",
          "data": {
            "text/plain": [
              "1.0525455861201714"
            ]
          },
          "metadata": {},
          "execution_count": 25
        }
      ]
    },
    {
      "cell_type": "markdown",
      "source": [
        "# Chapter 6\n",
        "\n",
        "## Pages 75-76: 6-1\n",
        "The distribution of income is famously skewed to the right. In this exercise, we’ll measure how strong that skew is…"
      ],
      "metadata": {
        "id": "JNiJB9Dc08tC"
      }
    },
    {
      "cell_type": "code",
      "source": [
        "# Improt data\n",
        "import hinc\n",
        "income_df = hinc.ReadData()"
      ],
      "metadata": {
        "id": "AagQAXQ24P3t"
      },
      "execution_count": null,
      "outputs": []
    },
    {
      "cell_type": "code",
      "source": [
        "# Create InterpolateSample function\n",
        "def InterpolateSample(df, log_upper=6.0):\n",
        "    \"\"\"Makes a sample of log10 household income.\n",
        "    Assumes that log10 income is uniform in each range.\n",
        "    df: DataFrame with columns income and freq\n",
        "    log_upper: log10 of the assumed upper bound for the highest range\n",
        "    returns: NumPy array of log10 household income\n",
        "    \"\"\"\n",
        "    # compute the log10 of the upper bound for each range\n",
        "    df['log_upper'] = np.log10(df.income)\n",
        "\n",
        "    # get the lower bounds by shifting the upper bound and filling in\n",
        "    # the first element\n",
        "    df['log_lower'] = df.log_upper.shift(1)\n",
        "    df.log_lower[0] = 3.0\n",
        "\n",
        "    # plug in a value for the unknown upper bound of the highest range\n",
        "    df.log_upper[41] = log_upper\n",
        "\n",
        "    # use the freq column to generate the right number of values in\n",
        "    # each range\n",
        "    arrays = []\n",
        "    for _, row in df.iterrows():\n",
        "        vals = np.linspace(row.log_lower, row.log_upper, int(row.freq))\n",
        "        arrays.append(vals)\n",
        "\n",
        "    # collect the arrays into a single sample\n",
        "    log_sample = np.concatenate(arrays)\n",
        "    return log_sample"
      ],
      "metadata": {
        "id": "VrHnZM_j5_s5"
      },
      "execution_count": null,
      "outputs": []
    },
    {
      "cell_type": "code",
      "source": [
        "# Using InterpolateSample to model the data\n",
        "log_sample = InterpolateSample(income_df, log_upper = 6.0)"
      ],
      "metadata": {
        "colab": {
          "base_uri": "https://localhost:8080/"
        },
        "id": "AX_T7HCG4amY",
        "outputId": "5fbc5efb-3595-4923-ace8-80fd3e9dee78"
      },
      "execution_count": null,
      "outputs": [
        {
          "output_type": "stream",
          "name": "stderr",
          "text": [
            "/usr/local/lib/python3.7/dist-packages/ipykernel_launcher.py:15: SettingWithCopyWarning: \n",
            "A value is trying to be set on a copy of a slice from a DataFrame\n",
            "\n",
            "See the caveats in the documentation: https://pandas.pydata.org/pandas-docs/stable/user_guide/indexing.html#returning-a-view-versus-a-copy\n",
            "  from ipykernel import kernelapp as app\n",
            "/usr/local/lib/python3.7/dist-packages/ipykernel_launcher.py:18: SettingWithCopyWarning: \n",
            "A value is trying to be set on a copy of a slice from a DataFrame\n",
            "\n",
            "See the caveats in the documentation: https://pandas.pydata.org/pandas-docs/stable/user_guide/indexing.html#returning-a-view-versus-a-copy\n"
          ]
        }
      ]
    },
    {
      "cell_type": "markdown",
      "source": [
        "Plot of the logged Household income CDF\n"
      ],
      "metadata": {
        "id": "j9d5Aoyyu9p_"
      }
    },
    {
      "cell_type": "code",
      "source": [
        "log_cdf = thinkstats2.Cdf(log_sample)\n",
        "thinkplot.Cdf(log_cdf)\n",
        "thinkplot.Config(xlabel='Household income (log $)',\n",
        "               ylabel='CDF')"
      ],
      "metadata": {
        "colab": {
          "base_uri": "https://localhost:8080/",
          "height": 279
        },
        "id": "3HpGhfWyu8yY",
        "outputId": "7cc8cfac-119e-4357-b6bf-a8e0a5902ff2"
      },
      "execution_count": null,
      "outputs": [
        {
          "output_type": "display_data",
          "data": {
            "image/png": "[encoded data removed]",
            "text/plain": [
              "<Figure size 432x288 with 1 Axes>"
            ]
          },
          "metadata": {
            "needs_background": "light"
          }
        }
      ]
    },
    {
      "cell_type": "markdown",
      "source": [
        "Compute the median, mean, skewness and Pearson’s skewness of the resulting \n",
        "sample."
      ],
      "metadata": {
        "id": "8TA6vp5U3jJD"
      }
    },
    {
      "cell_type": "code",
      "source": [
        "# Creating the RawMoment function for computing sums of powers\n",
        "def RawMoment(xs, k):\n",
        "    return sum(x**k for x in xs) / len(xs)"
      ],
      "metadata": {
        "id": "-9J_5_Si12JO"
      },
      "execution_count": null,
      "outputs": []
    },
    {
      "cell_type": "code",
      "source": [
        "# Creating CentralMoment function for computing powers of distances from the mean.\n",
        "def CentralMoment(xs, k):\n",
        "    mean = RawMoment(xs, 1)\n",
        "    return sum((x - mean)**k for x in xs) / len(xs)"
      ],
      "metadata": {
        "id": "HKkKIlSs2Dw3"
      },
      "execution_count": null,
      "outputs": []
    },
    {
      "cell_type": "code",
      "source": [
        "# Creating the Pearson's median skewness function\n",
        "def PearsonMedianSkewness(xs):\n",
        "    median = np.median(xs)\n",
        "    mean = RawMoment(xs, 1)\n",
        "    var = CentralMoment(xs, 2)\n",
        "    std = np.sqrt(var)\n",
        "    gp = 3 * (mean - median) / std\n",
        "    return gp"
      ],
      "metadata": {
        "id": "J3PjPNx-z_Yh"
      },
      "execution_count": null,
      "outputs": []
    },
    {
      "cell_type": "code",
      "source": [
        "sample = np.power(10, log_sample)\n",
        "\n",
        "Sample_Mean = sample.mean()\n",
        "Sample_Median = np.median(sample)\n",
        "Sample_Skew = skew(sample)\n",
        "Sample_Pearson = PearsonMedianSkewness(sample)\n",
        "\n",
        "values = [Sample_Mean, Sample_Median, Sample_Skew, Sample_Pearson]\n",
        "  \n",
        "print('\\n'.join(map(str, values)))"
      ],
      "metadata": {
        "colab": {
          "base_uri": "https://localhost:8080/"
        },
        "id": "USJxJ8TLUp94",
        "outputId": "5a1fc20c-4c02-4514-c78c-7ac1d8ce7a8e"
      },
      "execution_count": null,
      "outputs": [
        {
          "output_type": "stream",
          "name": "stdout",
          "text": [
            "74278.7075311872\n",
            "51226.93306562372\n",
            "4.949920244429585\n",
            "0.7361105192428847\n"
          ]
        }
      ]
    },
    {
      "cell_type": "markdown",
      "source": [
        "What fraction of households report a taxable income below the mean?"
      ],
      "metadata": {
        "id": "o2M_ml7f3msx"
      }
    },
    {
      "cell_type": "code",
      "source": [
        "cdf = thinkstats2.Cdf(sample)\n",
        "percentofHouseholds = cdf.Prob(Sample_Mean)\n",
        "print(round(percentofHouseholds, 2)*100, \"percent of households report a taxable income below the mean\")"
      ],
      "metadata": {
        "colab": {
          "base_uri": "https://localhost:8080/"
        },
        "id": "PsayejdTcZPL",
        "outputId": "65c181ff-09b3-4629-ba5a-4bcc564ce753"
      },
      "execution_count": null,
      "outputs": [
        {
          "output_type": "stream",
          "name": "stdout",
          "text": [
            "66.0 percent of households report a taxable income below the mean\n"
          ]
        }
      ]
    },
    {
      "cell_type": "markdown",
      "source": [
        "How do the results depend on the assumed upper bound? - It is based on the assumption that the highest income is one million dollars. However, we know that this is not correct. We know that there are indivuals making millions of dollars a year. If we were to include their income in the distribution, the skew would certailty look alot different. Meaning that the results do depend on the assumed upper bound. Without more testing, we do not know exzactly how much the skew is dependent on the upper bound for this particular data set."
      ],
      "metadata": {
        "id": "yiADNJ5M3tUy"
      }
    }
  ],
  "metadata": {
    "kernelspec": {
      "display_name": "Python 3",
      "language": "python",
      "name": "python3"
    },
    "language_info": {
      "codemirror_mode": {
        "name": "ipython",
        "version": 3
      },
      "file_extension": ".py",
      "mimetype": "text/x-python",
      "name": "python",
      "nbconvert_exporter": "python",
      "pygments_lexer": "ipython3",
      "version": "3.7.6"
    },
    "colab": {
      "name": "Week 5 Assignments_AFarrell .ipynb",
      "provenance": [],
      "collapsed_sections": [],
      "include_colab_link": true
    }
  },
  "nbformat": 4,
  "nbformat_minor": 0
}