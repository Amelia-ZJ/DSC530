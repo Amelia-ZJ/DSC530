{
  "cells": [
    {
      "cell_type": "markdown",
      "metadata": {
        "id": "E15hGiPH48QY"
      },
      "source": [
        "# 4.2  Exercise\n",
        "\n",
        "Amelia Farrell\n",
        "\n",
        "DSC520\n",
        "\n",
        "1/3/21\n"
      ]
    },
    {
      "cell_type": "code",
      "source": [
        "# Loading packages needed\n",
        "from __future__ import print_function, division\n",
        "\n",
        "%matplotlib inline\n",
        "\n",
        "import numpy as np\n",
        "\n",
        "import nsfg\n",
        "import first\n",
        "import thinkstats2\n",
        "import thinkplot"
      ],
      "metadata": {
        "id": "mqF-FGNs-aaz"
      },
      "execution_count": null,
      "outputs": []
    },
    {
      "cell_type": "markdown",
      "metadata": {
        "id": "z6HclmAH48Qp"
      },
      "source": [
        "# Chapter 3\n",
        "\n",
        "## Page 35-36: 3-1 \n",
        "(Something like the class size paradox appears if you survey children and ask how many children are in their family…)\n"
      ]
    },
    {
      "cell_type": "code",
      "execution_count": null,
      "metadata": {
        "colab": {
          "base_uri": "https://localhost:8080/",
          "height": 278
        },
        "id": "uMdU5Ev348Qr",
        "outputId": "ff2d859d-f225-465e-9ce1-ba2db70c0928"
      },
      "outputs": [
        {
          "output_type": "display_data",
          "data": {
            "image/png": "[encoded data removed]",
            "text/plain": [
              "<Figure size 432x288 with 1 Axes>"
            ]
          },
          "metadata": {
            "needs_background": "light"
          }
        }
      ],
      "source": [
        "# Data\n",
        "resp = nsfg.ReadFemResp()\n",
        "\n",
        "# PMF using thinkstats2.Pmf function\n",
        "pmf = thinkstats2.Pmf(resp.numkdhh, label='numkdhh')\n",
        "\n",
        "# PMF plot of actual distribution\n",
        "thinkplot.Pmf(pmf)\n",
        "thinkplot.Config(xlabel='Number of children', ylabel='PMF')"
      ]
    },
    {
      "cell_type": "code",
      "source": [
        "# biased PMF function (computes the biased PMF if we surveyed students and asked about the size of the classes they are in)\n",
        "def BiasPmf(pmf, label):\n",
        "    new_pmf = pmf.Copy(label=label)\n",
        "\n",
        "    for x, p in pmf.Items():\n",
        "        new_pmf.Mult(x, x)\n",
        "        \n",
        "    new_pmf.Normalize()\n",
        "    return new_pmf"
      ],
      "metadata": {
        "id": "X27PxKaHLicp"
      },
      "execution_count": null,
      "outputs": []
    },
    {
      "cell_type": "code",
      "source": [
        "# PMF of bias disribution\n",
        "biased = BiasPmf(pmf, label='biased')\n",
        "\n",
        "# PMF plot bias disribution\n",
        "thinkplot.PrePlot(2)\n",
        "thinkplot.Pmfs([pmf, biased])\n",
        "thinkplot.Config(xlabel='Number of children', ylabel='PMF')"
      ],
      "metadata": {
        "colab": {
          "base_uri": "https://localhost:8080/",
          "height": 278
        },
        "id": "Ej0NHxZbD6ww",
        "outputId": "00ac643f-d078-48f2-dc70-a284789fe53f"
      },
      "execution_count": null,
      "outputs": [
        {
          "output_type": "display_data",
          "data": {
            "image/png": "[encoded data removed]",
            "text/plain": [
              "<Figure size 432x288 with 1 Axes>"
            ]
          },
          "metadata": {
            "needs_background": "light"
          }
        }
      ]
    },
    {
      "cell_type": "code",
      "source": [
        "# Unbias mean\n",
        "pmf.Mean()"
      ],
      "metadata": {
        "colab": {
          "base_uri": "https://localhost:8080/"
        },
        "id": "NazNWIOJHfFM",
        "outputId": "62c9e5ac-af1e-4e0b-c055-d9158d4fa6b4"
      },
      "execution_count": null,
      "outputs": [
        {
          "output_type": "execute_result",
          "data": {
            "text/plain": [
              "1.024205155043831"
            ]
          },
          "metadata": {},
          "execution_count": 14
        }
      ]
    },
    {
      "cell_type": "code",
      "source": [
        "# Bias mean\n",
        "biased.Mean()"
      ],
      "metadata": {
        "colab": {
          "base_uri": "https://localhost:8080/"
        },
        "id": "4UiI5KlQHnBO",
        "outputId": "11ca686e-81a5-4bf1-9e37-e9fd25ca28dc"
      },
      "execution_count": null,
      "outputs": [
        {
          "output_type": "execute_result",
          "data": {
            "text/plain": [
              "2.403679100664282"
            ]
          },
          "metadata": {},
          "execution_count": 18
        }
      ]
    },
    {
      "cell_type": "markdown",
      "metadata": {
        "id": "SPSnRFn848Qt"
      },
      "source": [
        "## Page 36: 3-2\n",
        "(In “Summarizing Distributions” on page 22 we computed the mean of a sample by adding up the elements and dividing by n"
      ]
    },
    {
      "cell_type": "code",
      "source": [
        "# Function called PmfMean\n",
        "def PmfMean(pmf):\n",
        "    mean=0\n",
        "    for x, p in pmf.Items():\n",
        "        mean += x*p\n",
        "    return mean\n",
        "\n",
        "PmfMean(pmf)"
      ],
      "metadata": {
        "colab": {
          "base_uri": "https://localhost:8080/"
        },
        "id": "3pziGtc6MAJ_",
        "outputId": "5ae25ada-d70e-4345-df76-4aa7b2dcbe34"
      },
      "execution_count": null,
      "outputs": [
        {
          "output_type": "execute_result",
          "data": {
            "text/plain": [
              "1.024205155043831"
            ]
          },
          "metadata": {},
          "execution_count": 6
        }
      ]
    },
    {
      "cell_type": "code",
      "source": [
        "# Function called PmfVar\n",
        "def PmfVar(pmf):\n",
        "    variance=0\n",
        "    pmf_mean=PmfMean(pmf)\n",
        "    for x, p in pmf.Items():\n",
        "        variance += p * np.power(x-pmf_mean, 2)\n",
        "    return variance\n",
        "\n",
        "PmfVar(pmf)"
      ],
      "metadata": {
        "colab": {
          "base_uri": "https://localhost:8080/"
        },
        "id": "PR8nbibrz03Z",
        "outputId": "d306908e-b7e5-46f6-ebea-eb26b626a30d"
      },
      "execution_count": null,
      "outputs": [
        {
          "output_type": "execute_result",
          "data": {
            "text/plain": [
              "1.4128643263531195"
            ]
          },
          "metadata": {},
          "execution_count": 7
        }
      ]
    },
    {
      "cell_type": "code",
      "source": [
        "# Checking if the new function's output matchs the thinkstats2 pmf and var functions\n",
        "print('Mean Match?=', PmfMean(pmf) == thinkstats2.Pmf.Mean(pmf))\n",
        "print('Variance Match? = ', PmfVar(pmf) == thinkstats2.Pmf.Var(pmf))"
      ],
      "metadata": {
        "colab": {
          "base_uri": "https://localhost:8080/"
        },
        "id": "qSVJGMpi0L9I",
        "outputId": "59207fb3-cae8-4c30-80d4-8460676ec92e"
      },
      "execution_count": null,
      "outputs": [
        {
          "output_type": "stream",
          "name": "stdout",
          "text": [
            "Mean Match?= True\n",
            "Variance Match? =  True\n"
          ]
        }
      ]
    },
    {
      "cell_type": "markdown",
      "source": [
        "## Page 47: 4-1 \n",
        "(How much did you weigh at birth? If you don’t know, call your mother or someone else who knows…)"
      ],
      "metadata": {
        "id": "jvefK4h2tb4f"
      }
    },
    {
      "cell_type": "code",
      "source": [
        "# Data\n",
        "live, firsts, others = first.MakeFrames()"
      ],
      "metadata": {
        "id": "_9baaLaxtbQG"
      },
      "execution_count": null,
      "outputs": []
    },
    {
      "cell_type": "code",
      "source": [
        "# Creating two CDFs of first borns and siblings from our \"firsts\" data set (data on baby birth order, weight, etc.)\n",
        "\n",
        "first_cdf = thinkstats2.Cdf(firsts.totalwgt_lb, label='first')\n",
        "other_cdf = thinkstats2.Cdf(others.totalwgt_lb, label='other')"
      ],
      "metadata": {
        "id": "e_b7ksdO132E"
      },
      "execution_count": null,
      "outputs": []
    },
    {
      "cell_type": "code",
      "source": [
        "# PercentileRank function\n",
        "def PercentileRank(weights, yourweight):\n",
        "    count = 0\n",
        "    for score in weights:\n",
        "        if score <= yourweight:\n",
        "            count += 1\n",
        "\n",
        "    percentile_rank = 100.0 * count / len(weights)\n",
        "    return percentile_rank"
      ],
      "metadata": {
        "id": "n_DCaImw2jEO"
      },
      "execution_count": null,
      "outputs": []
    },
    {
      "cell_type": "code",
      "source": [
        "# Calcuating my percentile rank from the frist born babies since I am a first born\n",
        "MyRank = first_cdf.PercentileRank(8.7)\n",
        "print('I fall within the ', MyRank, 'percentile for my birth weight')"
      ],
      "metadata": {
        "colab": {
          "base_uri": "https://localhost:8080/"
        },
        "id": "Dri9KH4F2_Ld",
        "outputId": "ce0fb881-d599-40b9-c181-0596cd8f737e"
      },
      "execution_count": null,
      "outputs": [
        {
          "output_type": "stream",
          "name": "stdout",
          "text": [
            "I fall within the  88.90671556268622 percentile for my birth weight\n"
          ]
        }
      ]
    },
    {
      "cell_type": "markdown",
      "source": [
        ""
      ],
      "metadata": {
        "id": "u6WtjSvU3zy7"
      }
    },
    {
      "cell_type": "markdown",
      "source": [
        "## Page 48: 4-2 \n",
        "(The numbers generated by random.random are supposed to be uniform between 0 and 1; that is, every value in the range should have the same probability…)"
      ],
      "metadata": {
        "id": "GPCuDFO4tjhE"
      }
    },
    {
      "cell_type": "code",
      "source": [
        "# Generating 1000 numbers from numpy.random\n",
        "x = np.random.random(1000)"
      ],
      "metadata": {
        "id": "yQSnEdl1ti8V"
      },
      "execution_count": null,
      "outputs": []
    },
    {
      "cell_type": "code",
      "source": [
        "# Plotting a PMF of x\n",
        "pmf = thinkstats2.Pmf(x)\n",
        "thinkplot.Pmf(pmf, linewidth=0.1)\n",
        "thinkplot.Config(xlabel='Random variate', ylabel='PMF')"
      ],
      "metadata": {
        "colab": {
          "base_uri": "https://localhost:8080/",
          "height": 278
        },
        "id": "djkjwI5d4fWm",
        "outputId": "d0122aec-0e07-49a4-ffaa-adf2ae444590"
      },
      "execution_count": null,
      "outputs": [
        {
          "output_type": "display_data",
          "data": {
            "image/png": "[encoded data removed]",
            "text/plain": [
              "<Figure size 432x288 with 1 Axes>"
            ]
          },
          "metadata": {
            "needs_background": "light"
          }
        }
      ]
    },
    {
      "cell_type": "code",
      "source": [
        "# Plotting a CDF of x\n",
        "cdf = thinkstats2.Cdf(x)\n",
        "thinkplot.Cdf(cdf)\n",
        "thinkplot.Config(xlabel='Random variate', ylabel='CDF')"
      ],
      "metadata": {
        "colab": {
          "base_uri": "https://localhost:8080/",
          "height": 278
        },
        "id": "XFp9x5Xz4sg1",
        "outputId": "9131840e-47cd-4347-d550-3d77aa9e04cc"
      },
      "execution_count": null,
      "outputs": [
        {
          "output_type": "display_data",
          "data": {
            "image/png": "[encoded data removed]",
            "text/plain": [
              "<Figure size 432x288 with 1 Axes>"
            ]
          },
          "metadata": {
            "needs_background": "light"
          }
        }
      ]
    },
    {
      "cell_type": "markdown",
      "source": [
        "Based on the above PMF and CDF we can see that the distribution of x (our ramdom 1,000 numbers) is a uniform distribution. We can assume a uniform distribution becuase the PMF forms a strait line across the top of the chart and the CDF also forms a starit line from 0 to 1."
      ],
      "metadata": {
        "id": "N-1dcd1849BZ"
      }
    }
  ],
  "metadata": {
    "kernelspec": {
      "display_name": "Python 3",
      "language": "python",
      "name": "python3"
    },
    "language_info": {
      "codemirror_mode": {
        "name": "ipython",
        "version": 3
      },
      "file_extension": ".py",
      "mimetype": "text/x-python",
      "name": "python",
      "nbconvert_exporter": "python",
      "pygments_lexer": "ipython3",
      "version": "3.7.6"
    },
    "colab": {
      "name": "Week 4 Assignments_AFarrell.ipynb",
      "provenance": [],
      "collapsed_sections": []
    }
  },
  "nbformat": 4,
  "nbformat_minor": 0
}