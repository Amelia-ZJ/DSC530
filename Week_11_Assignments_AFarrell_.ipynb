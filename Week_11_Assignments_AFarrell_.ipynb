{
  "cells": [
    {
      "cell_type": "markdown",
      "metadata": {
        "id": "E15hGiPH48QY"
      },
      "source": [
        "# 11.2  Exercise\n",
        "\n",
        "Amelia Farrell\n",
        "\n",
        "DSC520\n",
        "\n",
        "2/21/22\n"
      ]
    },
    {
      "cell_type": "code",
      "source": [
        "# Loading packages needed\n",
        "from __future__ import print_function, division\n",
        "\n",
        "%matplotlib inline\n",
        "\n",
        "import warnings\n",
        "warnings.filterwarnings('ignore', category=FutureWarning)\n",
        "\n",
        "import numpy as np\n",
        "import pandas as pd\n",
        "\n",
        "import random\n",
        "\n",
        "import thinkstats2\n",
        "import thinkplot"
      ],
      "metadata": {
        "id": "mqF-FGNs-aaz"
      },
      "execution_count": null,
      "outputs": []
    },
    {
      "cell_type": "code",
      "source": [
        "# Loading the data\n",
        "import nsfg"
      ],
      "metadata": {
        "id": "Pu1zfNs2bo4O"
      },
      "execution_count": null,
      "outputs": []
    },
    {
      "cell_type": "markdown",
      "metadata": {
        "id": "z6HclmAH48Qp"
      },
      "source": [
        "# Chapter 13\n",
        "\n",
        "## Pages 180-181 \n",
        "(In NSFG Cycles 6 and 7, the variable cmdivorcx contains the date of divorce for the respondent’s first marriage, if applicable, encoded in century-months…)\n"
      ]
    },
    {
      "cell_type": "code",
      "source": [
        "# Creating the survival function based on the complementary CDF.\n",
        "import survival\n",
        "def MakeSurvivalFromCdf(cdf, label=''):\n",
        "    ts = cdf.xs\n",
        "    ss = 1 - cdf.ps\n",
        "    return survival.SurvivalFunction(ts, ss, label)"
      ],
      "metadata": {
        "id": "nAZu2ObfNRWn"
      },
      "execution_count": null,
      "outputs": []
    },
    {
      "cell_type": "code",
      "source": [
        "# Creating a survivial curves for each birth cohort\n",
        "resp5 = survival.ReadFemResp1995()\n",
        "resp6 = survival.ReadFemResp2002()\n",
        "resp7 = survival.ReadFemResp2010()\n",
        "\n",
        "resps = [resp5, resp6, resp7]"
      ],
      "metadata": {
        "id": "WdxRcRNpOAId"
      },
      "execution_count": null,
      "outputs": []
    },
    {
      "cell_type": "code",
      "source": [
        "# Function to clean the data\n",
        "def CleanData(resp):\n",
        "    resp.cmdivorcx.replace([9998, 9999], np.nan, inplace=True)\n",
        "\n",
        "    resp['notdivorced'] = resp.cmdivorcx.isnull().astype(int)\n",
        "    resp['duration'] = (resp.cmdivorcx - resp.cmmarrhx) / 12.0\n",
        "    resp['durationsofar'] = (resp.cmintvw - resp.cmmarrhx) / 12.0\n",
        "\n",
        "    month0 = pd.to_datetime('1899-12-15')\n",
        "    dates = [month0 + pd.DateOffset(months=cm) \n",
        "             for cm in resp.cmbirth]\n",
        "    resp['decade'] = (pd.DatetimeIndex(dates).year - 1900) // 10\n",
        "\n",
        "# Cleaning the data\n",
        "CleanData(resp6)\n",
        "married6 = resp6[resp6.evrmarry==1]\n",
        "\n",
        "CleanData(resp7)\n",
        "married7 = resp7[resp7.evrmarry==1]"
      ],
      "metadata": {
        "id": "Ob1Bi2T8MrpT"
      },
      "execution_count": null,
      "outputs": []
    },
    {
      "cell_type": "code",
      "source": [
        "# Function for plotting divorce curves based on the resampled data.\n",
        "def ResampleDivorceCurve(resps):\n",
        "    for _ in range(11):\n",
        "        samples = [thinkstats2.ResampleRowsWeighted(resp) \n",
        "                   for resp in resps]\n",
        "        sample = pd.concat(samples, ignore_index=True)\n",
        "        PlotDivorceCurveByDecade(sample, color='#225EA8', alpha=0.1)\n",
        "\n",
        "    thinkplot.Show(xlabel='years',\n",
        "                   axis=[0, 28, 0, 1])"
      ],
      "metadata": {
        "id": "tDXYCXDoOVzg"
      },
      "execution_count": null,
      "outputs": []
    },
    {
      "cell_type": "code",
      "source": [
        "# Function for plotting divorce curves for each birth cohort.\n",
        "def ResampleDivorceCurveByDecade(resps):\n",
        "    for i in range(41):\n",
        "        samples = [thinkstats2.ResampleRowsWeighted(resp) \n",
        "                   for resp in resps]\n",
        "        sample = pd.concat(samples, ignore_index=True)\n",
        "        groups = sample.groupby('decade')\n",
        "        if i == 0:\n",
        "            survival.AddLabelsByDecade(groups, alpha=0.7)\n",
        "\n",
        "        EstimateSurvivalByDecade(groups, alpha=0.1)\n",
        "\n",
        "    thinkplot.Config(xlabel='Years',\n",
        "                     ylabel='Fraction undivorced',\n",
        "                     axis=[0, 28, 0, 1])"
      ],
      "metadata": {
        "id": "VYuv5xfqOfSc"
      },
      "execution_count": null,
      "outputs": []
    },
    {
      "cell_type": "code",
      "source": [
        "# Function for grouping respondents by decade and plotting their survival curves.\n",
        "def EstimateSurvivalByDecade(groups, **options):\n",
        "    thinkplot.PrePlot(len(groups))\n",
        "    for name, group in groups:\n",
        "        _, sf = EstimateSurvival(group)\n",
        "        thinkplot.Plot(sf, **options)"
      ],
      "metadata": {
        "id": "x_0UXoXdOl7r"
      },
      "execution_count": null,
      "outputs": []
    },
    {
      "cell_type": "code",
      "source": [
        "# Funtion for estimating the survival curve.\n",
        "def EstimateSurvival(resp):\n",
        "    complete = resp[resp.notdivorced == 0].duration.dropna()\n",
        "    ongoing = resp[resp.notdivorced == 1].durationsofar.dropna()\n",
        "\n",
        "    hf = survival.EstimateHazardFunction(complete, ongoing)\n",
        "    sf = hf.MakeSurvival()\n",
        "\n",
        "    return hf, sf"
      ],
      "metadata": {
        "id": "hS6qsw5GOvqF"
      },
      "execution_count": null,
      "outputs": []
    },
    {
      "cell_type": "code",
      "source": [
        "ResampleDivorceCurveByDecade([married6, married7])"
      ],
      "metadata": {
        "id": "OaaEUKlOcANC",
        "colab": {
          "base_uri": "https://localhost:8080/",
          "height": 283
        },
        "outputId": "1975c4ad-2ad8-4105-a408-92c304fce38e"
      },
      "execution_count": null,
      "outputs": [
        {
          "output_type": "display_data",
          "data": {
            "image/png": "[encoded data removed]",
            "text/plain": [
              "<Figure size 432x288 with 1 Axes>"
            ]
          },
          "metadata": {
            "needs_background": "light"
          }
        }
      ]
    }
  ],
  "metadata": {
    "kernelspec": {
      "display_name": "Python 3",
      "language": "python",
      "name": "python3"
    },
    "language_info": {
      "codemirror_mode": {
        "name": "ipython",
        "version": 3
      },
      "file_extension": ".py",
      "mimetype": "text/x-python",
      "name": "python",
      "nbconvert_exporter": "python",
      "pygments_lexer": "ipython3",
      "version": "3.7.6"
    },
    "colab": {
      "name": "Week 11 Assignments_AFarrell .ipynb",
      "provenance": [],
      "collapsed_sections": []
    }
  },
  "nbformat": 4,
  "nbformat_minor": 0
}