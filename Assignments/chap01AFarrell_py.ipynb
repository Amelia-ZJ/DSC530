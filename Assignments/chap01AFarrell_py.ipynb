{
  "nbformat": 4,
  "nbformat_minor": 0,
  "metadata": {
    "colab": {
      "name": "chap01AFarrell.py",
      "provenance": [],
      "authorship_tag": "ABX9TyP8MlX1AmIwFs3LiY9xtGvT"
    },
    "kernelspec": {
      "name": "python3",
      "display_name": "Python 3"
    },
    "language_info": {
      "name": "python"
    }
  },
  "cells": [
    {
      "cell_type": "code",
      "execution_count": 6,
      "metadata": {
        "colab": {
          "base_uri": "https://localhost:8080/"
        },
        "id": "M9tjIsCV1cWm",
        "outputId": "a04d4ffd-a72b-48e9-9a0f-1656e1973d08"
      },
      "outputs": [
        {
          "output_type": "stream",
          "name": "stdout",
          "text": [
            "Drive already mounted at /content/drive; to attempt to forcibly remount, call drive.mount(\"/content/drive\", force_remount=True).\n",
            "/content/drive/MyDrive/Colab Notebooks/ThinkStats2/code\n",
            "/content/drive/MyDrive/Colab Notebooks/ThinkStats2/code\n"
          ]
        }
      ],
      "source": [
        "\"\"\"Creating a file named chap01ex.py and\n",
        "writing code that reads the respondent file, 2002FemResp.dat.gz.\n",
        "\"\"\"\n",
        "# set working directory\n",
        "from google.colab import drive\n",
        "drive.mount('/content/drive')\n",
        "%cd /content/drive/MyDrive/Colab Notebooks/ThinkStats2/code\n",
        "\n",
        "\n",
        "from __future__ import print_function\n",
        "\n",
        "import numpy as np\n",
        "import sys\n",
        "\n",
        "import nsfg\n",
        "import thinkstats2\n",
        "\n",
        "\n",
        "def ReadFemResp(dct_file='2002FemResp.dct',\n",
        "                dat_file='2002FemResp.dat.gz',\n",
        "                nrows=None):\n",
        "    \"\"\"Reads the NSFG respondent data.\n",
        "\n",
        "    dct_file: string file name\n",
        "    dat_file: string file name\n",
        "\n",
        "    returns: DataFrame\n",
        "    \"\"\"\n",
        "    dct = thinkstats2.ReadStataDct(dct_file)\n",
        "    df = dct.ReadFixedWidth(dat_file, compression='gzip', nrows=nrows)\n",
        "    CleanFemResp(df)\n",
        "    return df\n",
        "\n"
      ]
    }
  ]
}