{
  "cells": [
    {
      "cell_type": "markdown",
      "metadata": {
        "id": "E15hGiPH48QY"
      },
      "source": [
        "# 3.2  Exercise\n",
        "\n",
        "Amelia Farrell\n",
        "\n",
        "DSC520\n",
        "\n",
        "12/13/21\n"
      ]
    },
    {
      "cell_type": "code",
      "source": [
        "# set working directory\n",
        "from google.colab import drive\n",
        "drive.mount('/content/drive')\n",
        "%cd /content/drive/MyDrive/Colab Notebooks/ThinkStats2/code"
      ],
      "metadata": {
        "colab": {
          "base_uri": "https://localhost:8080/"
        },
        "id": "QeV6yDnQrkXx",
        "outputId": "c09e1637-460e-48c6-f1e4-2534e7ef88ab"
      },
      "execution_count": 2,
      "outputs": [
        {
          "output_type": "stream",
          "name": "stdout",
          "text": [
            "Mounted at /content/drive\n",
            "/content/drive/MyDrive/Colab Notebooks/ThinkStats2/code\n"
          ]
        }
      ]
    },
    {
      "cell_type": "markdown",
      "metadata": {
        "id": "WgxAFoDE48Qk"
      },
      "source": [
        "# Exercise 1-1  -- Open chap01ex.ipynb and ececute the all the cells. "
      ]
    },
    {
      "cell_type": "code",
      "execution_count": 3,
      "metadata": {
        "id": "j8p66MTU48Qm"
      },
      "outputs": [],
      "source": [
        "from __future__ import print_function, division\n",
        "\n",
        "import nsfg"
      ]
    },
    {
      "cell_type": "markdown",
      "metadata": {
        "id": "z6HclmAH48Qp"
      },
      "source": [
        "## Examples from Chapter 1\n",
        "\n",
        "Read NSFG data into a Pandas DataFrame."
      ]
    },
    {
      "cell_type": "code",
      "execution_count": 4,
      "metadata": {
        "colab": {
          "base_uri": "https://localhost:8080/",
          "height": 255
        },
        "id": "uMdU5Ev348Qr",
        "outputId": "a48d9268-d6d5-4010-ee86-fcefa46fbebb"
      },
      "outputs": [
        {
          "output_type": "execute_result",
          "data": {
            "text/html": [
              "<div>\n",
              "<style scoped>\n",
              "    .dataframe tbody tr th:only-of-type {\n",
              "        vertical-align: middle;\n",
              "    }\n",
              "\n",
              "    .dataframe tbody tr th {\n",
              "        vertical-align: top;\n",
              "    }\n",
              "\n",
              "    .dataframe thead th {\n",
              "        text-align: right;\n",
              "    }\n",
              "</style>\n",
              "<table border=\"1\" class=\"dataframe\">\n",
              "  <thead>\n",
              "    <tr style=\"text-align: right;\">\n",
              "      <th></th>\n",
              "      <th>caseid</th>\n",
              "      <th>pregordr</th>\n",
              "      <th>howpreg_n</th>\n",
              "      <th>howpreg_p</th>\n",
              "      <th>moscurrp</th>\n",
              "      <th>nowprgdk</th>\n",
              "      <th>pregend1</th>\n",
              "      <th>pregend2</th>\n",
              "      <th>nbrnaliv</th>\n",
              "      <th>multbrth</th>\n",
              "      <th>cmotpreg</th>\n",
              "      <th>prgoutcome</th>\n",
              "      <th>cmprgend</th>\n",
              "      <th>flgdkmo1</th>\n",
              "      <th>cmprgbeg</th>\n",
              "      <th>ageatend</th>\n",
              "      <th>hpageend</th>\n",
              "      <th>gestasun_m</th>\n",
              "      <th>gestasun_w</th>\n",
              "      <th>wksgest</th>\n",
              "      <th>mosgest</th>\n",
              "      <th>dk1gest</th>\n",
              "      <th>dk2gest</th>\n",
              "      <th>dk3gest</th>\n",
              "      <th>bpa_bdscheck1</th>\n",
              "      <th>bpa_bdscheck2</th>\n",
              "      <th>bpa_bdscheck3</th>\n",
              "      <th>babysex</th>\n",
              "      <th>birthwgt_lb</th>\n",
              "      <th>birthwgt_oz</th>\n",
              "      <th>lobthwgt</th>\n",
              "      <th>babysex2</th>\n",
              "      <th>birthwgt_lb2</th>\n",
              "      <th>birthwgt_oz2</th>\n",
              "      <th>lobthwgt2</th>\n",
              "      <th>babysex3</th>\n",
              "      <th>birthwgt_lb3</th>\n",
              "      <th>birthwgt_oz3</th>\n",
              "      <th>lobthwgt3</th>\n",
              "      <th>cmbabdob</th>\n",
              "      <th>...</th>\n",
              "      <th>datecon_i</th>\n",
              "      <th>agecon_i</th>\n",
              "      <th>fmarout5_i</th>\n",
              "      <th>pmarpreg_i</th>\n",
              "      <th>rmarout6_i</th>\n",
              "      <th>fmarcon5_i</th>\n",
              "      <th>learnprg_i</th>\n",
              "      <th>pncarewk_i</th>\n",
              "      <th>paydeliv_i</th>\n",
              "      <th>lbw1_i</th>\n",
              "      <th>bfeedwks_i</th>\n",
              "      <th>maternlv_i</th>\n",
              "      <th>oldwantr_i</th>\n",
              "      <th>oldwantp_i</th>\n",
              "      <th>wantresp_i</th>\n",
              "      <th>wantpart_i</th>\n",
              "      <th>ager_i</th>\n",
              "      <th>fmarital_i</th>\n",
              "      <th>rmarital_i</th>\n",
              "      <th>educat_i</th>\n",
              "      <th>hieduc_i</th>\n",
              "      <th>race_i</th>\n",
              "      <th>hispanic_i</th>\n",
              "      <th>hisprace_i</th>\n",
              "      <th>rcurpreg_i</th>\n",
              "      <th>pregnum_i</th>\n",
              "      <th>parity_i</th>\n",
              "      <th>insuranc_i</th>\n",
              "      <th>pubassis_i</th>\n",
              "      <th>poverty_i</th>\n",
              "      <th>laborfor_i</th>\n",
              "      <th>religion_i</th>\n",
              "      <th>metro_i</th>\n",
              "      <th>basewgt</th>\n",
              "      <th>adj_mod_basewgt</th>\n",
              "      <th>finalwgt</th>\n",
              "      <th>secu_p</th>\n",
              "      <th>sest</th>\n",
              "      <th>cmintvw</th>\n",
              "      <th>totalwgt_lb</th>\n",
              "    </tr>\n",
              "  </thead>\n",
              "  <tbody>\n",
              "    <tr>\n",
              "      <th>0</th>\n",
              "      <td>1</td>\n",
              "      <td>1</td>\n",
              "      <td>NaN</td>\n",
              "      <td>NaN</td>\n",
              "      <td>NaN</td>\n",
              "      <td>NaN</td>\n",
              "      <td>6.0</td>\n",
              "      <td>NaN</td>\n",
              "      <td>1.0</td>\n",
              "      <td>NaN</td>\n",
              "      <td>NaN</td>\n",
              "      <td>1.0</td>\n",
              "      <td>1093.0</td>\n",
              "      <td>NaN</td>\n",
              "      <td>1084.0</td>\n",
              "      <td>NaN</td>\n",
              "      <td>NaN</td>\n",
              "      <td>9.0</td>\n",
              "      <td>0.0</td>\n",
              "      <td>39.0</td>\n",
              "      <td>9.0</td>\n",
              "      <td>NaN</td>\n",
              "      <td>NaN</td>\n",
              "      <td>NaN</td>\n",
              "      <td>0.0</td>\n",
              "      <td>NaN</td>\n",
              "      <td>NaN</td>\n",
              "      <td>1.0</td>\n",
              "      <td>8.0</td>\n",
              "      <td>13.0</td>\n",
              "      <td>NaN</td>\n",
              "      <td>NaN</td>\n",
              "      <td>NaN</td>\n",
              "      <td>NaN</td>\n",
              "      <td>NaN</td>\n",
              "      <td>NaN</td>\n",
              "      <td>NaN</td>\n",
              "      <td>NaN</td>\n",
              "      <td>NaN</td>\n",
              "      <td>1093.0</td>\n",
              "      <td>...</td>\n",
              "      <td>0</td>\n",
              "      <td>0</td>\n",
              "      <td>0</td>\n",
              "      <td>0</td>\n",
              "      <td>0</td>\n",
              "      <td>0</td>\n",
              "      <td>0</td>\n",
              "      <td>0</td>\n",
              "      <td>0</td>\n",
              "      <td>0</td>\n",
              "      <td>0</td>\n",
              "      <td>0</td>\n",
              "      <td>0</td>\n",
              "      <td>0</td>\n",
              "      <td>0</td>\n",
              "      <td>0</td>\n",
              "      <td>0</td>\n",
              "      <td>0</td>\n",
              "      <td>0</td>\n",
              "      <td>0</td>\n",
              "      <td>0</td>\n",
              "      <td>0</td>\n",
              "      <td>0</td>\n",
              "      <td>0</td>\n",
              "      <td>0</td>\n",
              "      <td>0</td>\n",
              "      <td>0</td>\n",
              "      <td>0</td>\n",
              "      <td>0</td>\n",
              "      <td>0</td>\n",
              "      <td>0</td>\n",
              "      <td>0</td>\n",
              "      <td>0</td>\n",
              "      <td>3410.389399</td>\n",
              "      <td>3869.349602</td>\n",
              "      <td>6448.271112</td>\n",
              "      <td>2</td>\n",
              "      <td>9</td>\n",
              "      <td>NaN</td>\n",
              "      <td>8.8125</td>\n",
              "    </tr>\n",
              "    <tr>\n",
              "      <th>1</th>\n",
              "      <td>1</td>\n",
              "      <td>2</td>\n",
              "      <td>NaN</td>\n",
              "      <td>NaN</td>\n",
              "      <td>NaN</td>\n",
              "      <td>NaN</td>\n",
              "      <td>6.0</td>\n",
              "      <td>NaN</td>\n",
              "      <td>1.0</td>\n",
              "      <td>NaN</td>\n",
              "      <td>NaN</td>\n",
              "      <td>1.0</td>\n",
              "      <td>1166.0</td>\n",
              "      <td>NaN</td>\n",
              "      <td>1157.0</td>\n",
              "      <td>NaN</td>\n",
              "      <td>NaN</td>\n",
              "      <td>9.0</td>\n",
              "      <td>0.0</td>\n",
              "      <td>39.0</td>\n",
              "      <td>9.0</td>\n",
              "      <td>NaN</td>\n",
              "      <td>NaN</td>\n",
              "      <td>NaN</td>\n",
              "      <td>0.0</td>\n",
              "      <td>NaN</td>\n",
              "      <td>NaN</td>\n",
              "      <td>2.0</td>\n",
              "      <td>7.0</td>\n",
              "      <td>14.0</td>\n",
              "      <td>NaN</td>\n",
              "      <td>NaN</td>\n",
              "      <td>NaN</td>\n",
              "      <td>NaN</td>\n",
              "      <td>NaN</td>\n",
              "      <td>NaN</td>\n",
              "      <td>NaN</td>\n",
              "      <td>NaN</td>\n",
              "      <td>NaN</td>\n",
              "      <td>1166.0</td>\n",
              "      <td>...</td>\n",
              "      <td>0</td>\n",
              "      <td>0</td>\n",
              "      <td>0</td>\n",
              "      <td>0</td>\n",
              "      <td>0</td>\n",
              "      <td>0</td>\n",
              "      <td>0</td>\n",
              "      <td>0</td>\n",
              "      <td>0</td>\n",
              "      <td>0</td>\n",
              "      <td>0</td>\n",
              "      <td>0</td>\n",
              "      <td>0</td>\n",
              "      <td>0</td>\n",
              "      <td>0</td>\n",
              "      <td>0</td>\n",
              "      <td>0</td>\n",
              "      <td>0</td>\n",
              "      <td>0</td>\n",
              "      <td>0</td>\n",
              "      <td>0</td>\n",
              "      <td>0</td>\n",
              "      <td>0</td>\n",
              "      <td>0</td>\n",
              "      <td>0</td>\n",
              "      <td>0</td>\n",
              "      <td>0</td>\n",
              "      <td>0</td>\n",
              "      <td>0</td>\n",
              "      <td>0</td>\n",
              "      <td>0</td>\n",
              "      <td>0</td>\n",
              "      <td>0</td>\n",
              "      <td>3410.389399</td>\n",
              "      <td>3869.349602</td>\n",
              "      <td>6448.271112</td>\n",
              "      <td>2</td>\n",
              "      <td>9</td>\n",
              "      <td>NaN</td>\n",
              "      <td>7.8750</td>\n",
              "    </tr>\n",
              "    <tr>\n",
              "      <th>2</th>\n",
              "      <td>2</td>\n",
              "      <td>1</td>\n",
              "      <td>NaN</td>\n",
              "      <td>NaN</td>\n",
              "      <td>NaN</td>\n",
              "      <td>NaN</td>\n",
              "      <td>5.0</td>\n",
              "      <td>NaN</td>\n",
              "      <td>3.0</td>\n",
              "      <td>5.0</td>\n",
              "      <td>NaN</td>\n",
              "      <td>1.0</td>\n",
              "      <td>1156.0</td>\n",
              "      <td>NaN</td>\n",
              "      <td>1147.0</td>\n",
              "      <td>NaN</td>\n",
              "      <td>NaN</td>\n",
              "      <td>0.0</td>\n",
              "      <td>39.0</td>\n",
              "      <td>39.0</td>\n",
              "      <td>9.0</td>\n",
              "      <td>NaN</td>\n",
              "      <td>NaN</td>\n",
              "      <td>NaN</td>\n",
              "      <td>0.0</td>\n",
              "      <td>NaN</td>\n",
              "      <td>NaN</td>\n",
              "      <td>1.0</td>\n",
              "      <td>9.0</td>\n",
              "      <td>2.0</td>\n",
              "      <td>NaN</td>\n",
              "      <td>2.0</td>\n",
              "      <td>2.0</td>\n",
              "      <td>0.0</td>\n",
              "      <td>NaN</td>\n",
              "      <td>1.0</td>\n",
              "      <td>1.0</td>\n",
              "      <td>4.0</td>\n",
              "      <td>NaN</td>\n",
              "      <td>1156.0</td>\n",
              "      <td>...</td>\n",
              "      <td>0</td>\n",
              "      <td>0</td>\n",
              "      <td>0</td>\n",
              "      <td>0</td>\n",
              "      <td>0</td>\n",
              "      <td>0</td>\n",
              "      <td>0</td>\n",
              "      <td>0</td>\n",
              "      <td>0</td>\n",
              "      <td>0</td>\n",
              "      <td>0</td>\n",
              "      <td>0</td>\n",
              "      <td>0</td>\n",
              "      <td>0</td>\n",
              "      <td>0</td>\n",
              "      <td>0</td>\n",
              "      <td>0</td>\n",
              "      <td>0</td>\n",
              "      <td>0</td>\n",
              "      <td>0</td>\n",
              "      <td>0</td>\n",
              "      <td>0</td>\n",
              "      <td>0</td>\n",
              "      <td>0</td>\n",
              "      <td>0</td>\n",
              "      <td>0</td>\n",
              "      <td>0</td>\n",
              "      <td>0</td>\n",
              "      <td>0</td>\n",
              "      <td>0</td>\n",
              "      <td>0</td>\n",
              "      <td>0</td>\n",
              "      <td>0</td>\n",
              "      <td>7226.301740</td>\n",
              "      <td>8567.549110</td>\n",
              "      <td>12999.542264</td>\n",
              "      <td>2</td>\n",
              "      <td>12</td>\n",
              "      <td>NaN</td>\n",
              "      <td>9.1250</td>\n",
              "    </tr>\n",
              "    <tr>\n",
              "      <th>3</th>\n",
              "      <td>2</td>\n",
              "      <td>2</td>\n",
              "      <td>NaN</td>\n",
              "      <td>NaN</td>\n",
              "      <td>NaN</td>\n",
              "      <td>NaN</td>\n",
              "      <td>6.0</td>\n",
              "      <td>NaN</td>\n",
              "      <td>1.0</td>\n",
              "      <td>NaN</td>\n",
              "      <td>NaN</td>\n",
              "      <td>1.0</td>\n",
              "      <td>1198.0</td>\n",
              "      <td>NaN</td>\n",
              "      <td>1189.0</td>\n",
              "      <td>NaN</td>\n",
              "      <td>NaN</td>\n",
              "      <td>0.0</td>\n",
              "      <td>39.0</td>\n",
              "      <td>39.0</td>\n",
              "      <td>9.0</td>\n",
              "      <td>NaN</td>\n",
              "      <td>NaN</td>\n",
              "      <td>NaN</td>\n",
              "      <td>0.0</td>\n",
              "      <td>NaN</td>\n",
              "      <td>NaN</td>\n",
              "      <td>2.0</td>\n",
              "      <td>7.0</td>\n",
              "      <td>0.0</td>\n",
              "      <td>NaN</td>\n",
              "      <td>NaN</td>\n",
              "      <td>NaN</td>\n",
              "      <td>NaN</td>\n",
              "      <td>NaN</td>\n",
              "      <td>NaN</td>\n",
              "      <td>NaN</td>\n",
              "      <td>NaN</td>\n",
              "      <td>NaN</td>\n",
              "      <td>1198.0</td>\n",
              "      <td>...</td>\n",
              "      <td>0</td>\n",
              "      <td>0</td>\n",
              "      <td>0</td>\n",
              "      <td>0</td>\n",
              "      <td>0</td>\n",
              "      <td>0</td>\n",
              "      <td>0</td>\n",
              "      <td>0</td>\n",
              "      <td>0</td>\n",
              "      <td>0</td>\n",
              "      <td>0</td>\n",
              "      <td>0</td>\n",
              "      <td>0</td>\n",
              "      <td>0</td>\n",
              "      <td>0</td>\n",
              "      <td>0</td>\n",
              "      <td>0</td>\n",
              "      <td>0</td>\n",
              "      <td>0</td>\n",
              "      <td>0</td>\n",
              "      <td>0</td>\n",
              "      <td>0</td>\n",
              "      <td>0</td>\n",
              "      <td>0</td>\n",
              "      <td>0</td>\n",
              "      <td>0</td>\n",
              "      <td>0</td>\n",
              "      <td>0</td>\n",
              "      <td>0</td>\n",
              "      <td>0</td>\n",
              "      <td>0</td>\n",
              "      <td>0</td>\n",
              "      <td>0</td>\n",
              "      <td>7226.301740</td>\n",
              "      <td>8567.549110</td>\n",
              "      <td>12999.542264</td>\n",
              "      <td>2</td>\n",
              "      <td>12</td>\n",
              "      <td>NaN</td>\n",
              "      <td>7.0000</td>\n",
              "    </tr>\n",
              "    <tr>\n",
              "      <th>4</th>\n",
              "      <td>2</td>\n",
              "      <td>3</td>\n",
              "      <td>NaN</td>\n",
              "      <td>NaN</td>\n",
              "      <td>NaN</td>\n",
              "      <td>NaN</td>\n",
              "      <td>6.0</td>\n",
              "      <td>NaN</td>\n",
              "      <td>1.0</td>\n",
              "      <td>NaN</td>\n",
              "      <td>NaN</td>\n",
              "      <td>1.0</td>\n",
              "      <td>1204.0</td>\n",
              "      <td>NaN</td>\n",
              "      <td>1195.0</td>\n",
              "      <td>NaN</td>\n",
              "      <td>NaN</td>\n",
              "      <td>0.0</td>\n",
              "      <td>39.0</td>\n",
              "      <td>39.0</td>\n",
              "      <td>9.0</td>\n",
              "      <td>NaN</td>\n",
              "      <td>NaN</td>\n",
              "      <td>NaN</td>\n",
              "      <td>0.0</td>\n",
              "      <td>NaN</td>\n",
              "      <td>NaN</td>\n",
              "      <td>2.0</td>\n",
              "      <td>6.0</td>\n",
              "      <td>3.0</td>\n",
              "      <td>NaN</td>\n",
              "      <td>NaN</td>\n",
              "      <td>NaN</td>\n",
              "      <td>NaN</td>\n",
              "      <td>NaN</td>\n",
              "      <td>NaN</td>\n",
              "      <td>NaN</td>\n",
              "      <td>NaN</td>\n",
              "      <td>NaN</td>\n",
              "      <td>1204.0</td>\n",
              "      <td>...</td>\n",
              "      <td>0</td>\n",
              "      <td>0</td>\n",
              "      <td>0</td>\n",
              "      <td>0</td>\n",
              "      <td>0</td>\n",
              "      <td>0</td>\n",
              "      <td>0</td>\n",
              "      <td>0</td>\n",
              "      <td>0</td>\n",
              "      <td>0</td>\n",
              "      <td>0</td>\n",
              "      <td>0</td>\n",
              "      <td>0</td>\n",
              "      <td>0</td>\n",
              "      <td>0</td>\n",
              "      <td>0</td>\n",
              "      <td>0</td>\n",
              "      <td>0</td>\n",
              "      <td>0</td>\n",
              "      <td>0</td>\n",
              "      <td>0</td>\n",
              "      <td>0</td>\n",
              "      <td>0</td>\n",
              "      <td>0</td>\n",
              "      <td>0</td>\n",
              "      <td>0</td>\n",
              "      <td>0</td>\n",
              "      <td>0</td>\n",
              "      <td>0</td>\n",
              "      <td>0</td>\n",
              "      <td>0</td>\n",
              "      <td>0</td>\n",
              "      <td>0</td>\n",
              "      <td>7226.301740</td>\n",
              "      <td>8567.549110</td>\n",
              "      <td>12999.542264</td>\n",
              "      <td>2</td>\n",
              "      <td>12</td>\n",
              "      <td>NaN</td>\n",
              "      <td>6.1875</td>\n",
              "    </tr>\n",
              "  </tbody>\n",
              "</table>\n",
              "<p>5 rows × 244 columns</p>\n",
              "</div>"
            ],
            "text/plain": [
              "   caseid  pregordr  howpreg_n  howpreg_p  ...  secu_p  sest  cmintvw  totalwgt_lb\n",
              "0       1         1        NaN        NaN  ...       2     9      NaN       8.8125\n",
              "1       1         2        NaN        NaN  ...       2     9      NaN       7.8750\n",
              "2       2         1        NaN        NaN  ...       2    12      NaN       9.1250\n",
              "3       2         2        NaN        NaN  ...       2    12      NaN       7.0000\n",
              "4       2         3        NaN        NaN  ...       2    12      NaN       6.1875\n",
              "\n",
              "[5 rows x 244 columns]"
            ]
          },
          "metadata": {},
          "execution_count": 4
        }
      ],
      "source": [
        "preg = nsfg.ReadFemPreg()\n",
        "preg.head()"
      ]
    },
    {
      "cell_type": "markdown",
      "metadata": {
        "id": "SPSnRFn848Qt"
      },
      "source": [
        "Print the column names."
      ]
    },
    {
      "cell_type": "code",
      "execution_count": 5,
      "metadata": {
        "colab": {
          "base_uri": "https://localhost:8080/"
        },
        "id": "wwNnWR9348Qu",
        "outputId": "b40e1206-332a-4f14-9b5d-4b21a40da645"
      },
      "outputs": [
        {
          "output_type": "execute_result",
          "data": {
            "text/plain": [
              "Index(['caseid', 'pregordr', 'howpreg_n', 'howpreg_p', 'moscurrp', 'nowprgdk',\n",
              "       'pregend1', 'pregend2', 'nbrnaliv', 'multbrth',\n",
              "       ...\n",
              "       'laborfor_i', 'religion_i', 'metro_i', 'basewgt', 'adj_mod_basewgt',\n",
              "       'finalwgt', 'secu_p', 'sest', 'cmintvw', 'totalwgt_lb'],\n",
              "      dtype='object', length=244)"
            ]
          },
          "metadata": {},
          "execution_count": 5
        }
      ],
      "source": [
        "preg.columns"
      ]
    },
    {
      "cell_type": "markdown",
      "metadata": {
        "id": "toaGHYvr48Qv"
      },
      "source": [
        "Select a single column name."
      ]
    },
    {
      "cell_type": "code",
      "execution_count": 6,
      "metadata": {
        "colab": {
          "base_uri": "https://localhost:8080/",
          "height": 35
        },
        "id": "bpZeFv3C48Qw",
        "outputId": "411eefec-b837-4aca-e1f7-1fb76bfe28c5"
      },
      "outputs": [
        {
          "output_type": "execute_result",
          "data": {
            "application/vnd.google.colaboratory.intrinsic+json": {
              "type": "string"
            },
            "text/plain": [
              "'pregordr'"
            ]
          },
          "metadata": {},
          "execution_count": 6
        }
      ],
      "source": [
        "preg.columns[1]"
      ]
    },
    {
      "cell_type": "markdown",
      "metadata": {
        "id": "xBIeMIMV48Qy"
      },
      "source": [
        "Select a column and check what type it is."
      ]
    },
    {
      "cell_type": "code",
      "execution_count": null,
      "metadata": {
        "id": "SzhMZNwA48Qz",
        "outputId": "fdf19e80-026e-4f65-b529-2d5dc3d34178"
      },
      "outputs": [
        {
          "data": {
            "text/plain": [
              "pandas.core.series.Series"
            ]
          },
          "execution_count": 5,
          "metadata": {},
          "output_type": "execute_result"
        }
      ],
      "source": [
        "pregordr = preg['pregordr']\n",
        "type(pregordr)"
      ]
    },
    {
      "cell_type": "markdown",
      "metadata": {
        "id": "9eleh2hC48Q0"
      },
      "source": [
        "Print a column."
      ]
    },
    {
      "cell_type": "code",
      "execution_count": null,
      "metadata": {
        "id": "i-lF9-df48Q1",
        "outputId": "58b7cddc-5bd7-4716-bcaa-fed8519ac8de"
      },
      "outputs": [
        {
          "data": {
            "text/plain": [
              "0        1\n",
              "1        2\n",
              "2        1\n",
              "3        2\n",
              "4        3\n",
              "        ..\n",
              "13588    1\n",
              "13589    2\n",
              "13590    3\n",
              "13591    4\n",
              "13592    5\n",
              "Name: pregordr, Length: 13593, dtype: int64"
            ]
          },
          "execution_count": 6,
          "metadata": {},
          "output_type": "execute_result"
        }
      ],
      "source": [
        "pregordr"
      ]
    },
    {
      "cell_type": "markdown",
      "metadata": {
        "id": "LqBnnV4U48Q2"
      },
      "source": [
        "Select a single element from a column."
      ]
    },
    {
      "cell_type": "code",
      "execution_count": null,
      "metadata": {
        "id": "9r-a14bO48Q3",
        "outputId": "b62d098c-ea71-4f8b-c020-d33bf8e32a97"
      },
      "outputs": [
        {
          "data": {
            "text/plain": [
              "1"
            ]
          },
          "execution_count": 7,
          "metadata": {},
          "output_type": "execute_result"
        }
      ],
      "source": [
        "pregordr[0]"
      ]
    },
    {
      "cell_type": "markdown",
      "metadata": {
        "id": "J84gm5Du48Q4"
      },
      "source": [
        "Select a slice from a column."
      ]
    },
    {
      "cell_type": "code",
      "execution_count": 18,
      "metadata": {
        "colab": {
          "base_uri": "https://localhost:8080/"
        },
        "id": "_bprrCMR48Q5",
        "outputId": "497e01d3-99fa-4cc5-db4f-069df87b1ba6"
      },
      "outputs": [
        {
          "output_type": "execute_result",
          "data": {
            "text/plain": [
              "2    1\n",
              "3    2\n",
              "4    3\n",
              "Name: pregordr, dtype: int64"
            ]
          },
          "metadata": {},
          "execution_count": 18
        }
      ],
      "source": [
        "pregordr[2:5]"
      ]
    },
    {
      "cell_type": "markdown",
      "metadata": {
        "id": "pDPPgvDF48Q5"
      },
      "source": [
        "Select a column using dot notation."
      ]
    },
    {
      "cell_type": "code",
      "execution_count": 17,
      "metadata": {
        "id": "_nsq8Qx148Q6"
      },
      "outputs": [],
      "source": [
        "pregordr = preg.pregordr"
      ]
    },
    {
      "cell_type": "markdown",
      "metadata": {
        "id": "hn21mMoB48Q7"
      },
      "source": [
        "Count the number of times each value occurs."
      ]
    },
    {
      "cell_type": "code",
      "execution_count": null,
      "metadata": {
        "id": "j48BtAOx48Q8",
        "outputId": "f0c0f219-b183-4885-e595-bf4788c17734"
      },
      "outputs": [
        {
          "data": {
            "text/plain": [
              "1    9148\n",
              "2    1862\n",
              "3     120\n",
              "4    1921\n",
              "5     190\n",
              "6     352\n",
              "Name: outcome, dtype: int64"
            ]
          },
          "execution_count": 10,
          "metadata": {},
          "output_type": "execute_result"
        }
      ],
      "source": [
        "preg.outcome.value_counts().sort_index()"
      ]
    },
    {
      "cell_type": "markdown",
      "metadata": {
        "id": "hB04-bpx48Q9"
      },
      "source": [
        "Check the values of another variable."
      ]
    },
    {
      "cell_type": "code",
      "execution_count": null,
      "metadata": {
        "id": "7cN7bqMe48Q9",
        "outputId": "006e051d-0940-4330-82cf-4143911dd395"
      },
      "outputs": [
        {
          "data": {
            "text/plain": [
              "0.0        8\n",
              "1.0       40\n",
              "2.0       53\n",
              "3.0       98\n",
              "4.0      229\n",
              "5.0      697\n",
              "6.0     2223\n",
              "7.0     3049\n",
              "8.0     1889\n",
              "9.0      623\n",
              "10.0     132\n",
              "11.0      26\n",
              "12.0      10\n",
              "13.0       3\n",
              "14.0       3\n",
              "15.0       1\n",
              "Name: birthwgt_lb, dtype: int64"
            ]
          },
          "execution_count": 11,
          "metadata": {},
          "output_type": "execute_result"
        }
      ],
      "source": [
        "preg.birthwgt_lb.value_counts().sort_index()"
      ]
    },
    {
      "cell_type": "markdown",
      "metadata": {
        "id": "kM1u-exZ48Q-"
      },
      "source": [
        "Make a dictionary that maps from each respondent's `caseid` to a list of indices into the pregnancy `DataFrame`.  Use it to select the pregnancy outcomes for a single respondent."
      ]
    },
    {
      "cell_type": "code",
      "execution_count": null,
      "metadata": {
        "id": "VklGIdJ648Q-",
        "outputId": "a9cf0267-f723-4c85-eefe-528c734cc565"
      },
      "outputs": [
        {
          "data": {
            "text/plain": [
              "array([4, 4, 4, 4, 4, 4, 1], dtype=int64)"
            ]
          },
          "execution_count": 12,
          "metadata": {},
          "output_type": "execute_result"
        }
      ],
      "source": [
        "caseid = 10229\n",
        "preg_map = nsfg.MakePregMap(preg)\n",
        "indices = preg_map[caseid]\n",
        "preg.outcome[indices].values"
      ]
    },
    {
      "cell_type": "markdown",
      "metadata": {
        "collapsed": true,
        "id": "l9G5eHDK48Q_"
      },
      "source": [
        "## Exercises"
      ]
    },
    {
      "cell_type": "markdown",
      "metadata": {
        "id": "dy980Hj948Q_"
      },
      "source": [
        "Select the `birthord` column, print the value counts, and compare to results published in the [codebook](http://www.icpsr.umich.edu/nsfg6/Controller?displayPage=labelDetails&fileCode=PREG&section=A&subSec=8016&srtLabel=611933)"
      ]
    },
    {
      "cell_type": "code",
      "execution_count": null,
      "metadata": {
        "id": "_oisV1ck48RA",
        "outputId": "cc7693f3-06f9-4b54-e1fc-1b4bd199eff2"
      },
      "outputs": [
        {
          "data": {
            "text/plain": [
              "1.0     4413\n",
              "2.0     2874\n",
              "3.0     1234\n",
              "4.0      421\n",
              "5.0      126\n",
              "6.0       50\n",
              "7.0       20\n",
              "8.0        7\n",
              "9.0        2\n",
              "10.0       1\n",
              "Name: birthord, dtype: int64"
            ]
          },
          "execution_count": 13,
          "metadata": {},
          "output_type": "execute_result"
        }
      ],
      "source": [
        "import nsfg\n",
        "preg = nsfg.ReadFemPreg()\n",
        "preg.birthord.value_counts().sort_index()\n"
      ]
    },
    {
      "cell_type": "markdown",
      "metadata": {
        "id": "CpzeuHEw48RA"
      },
      "source": [
        "We can also use `isnull` to count the number of nans."
      ]
    },
    {
      "cell_type": "code",
      "execution_count": null,
      "metadata": {
        "id": "isQAz04p48RB",
        "outputId": "27c3047d-647a-4b72-9c00-37eec56fee4b"
      },
      "outputs": [
        {
          "data": {
            "text/plain": [
              "4445"
            ]
          },
          "execution_count": 14,
          "metadata": {},
          "output_type": "execute_result"
        }
      ],
      "source": [
        "preg.birthord.isnull().sum()"
      ]
    },
    {
      "cell_type": "markdown",
      "metadata": {
        "id": "vGbZgWtD48RB"
      },
      "source": [
        "Select the `prglngth` column, print the value counts, and compare to results published in the [codebook](http://www.icpsr.umich.edu/nsfg6/Controller?displayPage=labelDetails&fileCode=PREG&section=A&subSec=8016&srtLabel=611931)"
      ]
    },
    {
      "cell_type": "code",
      "execution_count": null,
      "metadata": {
        "id": "8AyasDkj48RB",
        "outputId": "ec7f9791-b0b8-4593-aaae-a0983fa71d5e"
      },
      "outputs": [
        {
          "data": {
            "text/plain": [
              "0       15\n",
              "1        9\n",
              "2       78\n",
              "3      151\n",
              "4      412\n",
              "5      181\n",
              "6      543\n",
              "7      175\n",
              "8      409\n",
              "9      594\n",
              "10     137\n",
              "11     202\n",
              "12     170\n",
              "13     446\n",
              "14      29\n",
              "15      39\n",
              "16      44\n",
              "17     253\n",
              "18      17\n",
              "19      34\n",
              "20      18\n",
              "21      37\n",
              "22     147\n",
              "23      12\n",
              "24      31\n",
              "25      15\n",
              "26     117\n",
              "27       8\n",
              "28      38\n",
              "29      23\n",
              "30     198\n",
              "31      29\n",
              "32     122\n",
              "33      50\n",
              "34      60\n",
              "35     357\n",
              "36     329\n",
              "37     457\n",
              "38     609\n",
              "39    4744\n",
              "40    1120\n",
              "41     591\n",
              "42     328\n",
              "43     148\n",
              "44      46\n",
              "45      10\n",
              "46       1\n",
              "47       1\n",
              "48       7\n",
              "50       2\n",
              "Name: prglngth, dtype: int64"
            ]
          },
          "execution_count": 15,
          "metadata": {},
          "output_type": "execute_result"
        }
      ],
      "source": [
        "preg.prglngth.value_counts().sort_index()"
      ]
    },
    {
      "cell_type": "markdown",
      "metadata": {
        "id": "9uBlmTrk48RC"
      },
      "source": [
        "To compute the mean of a column, you can invoke the `mean` method on a Series.  For example, here is the mean birthweight in pounds:"
      ]
    },
    {
      "cell_type": "code",
      "execution_count": null,
      "metadata": {
        "id": "i463uyQ748RC",
        "outputId": "2c74ec66-413e-4aed-de78-60edc817a621"
      },
      "outputs": [
        {
          "data": {
            "text/plain": [
              "7.265628457623368"
            ]
          },
          "execution_count": 16,
          "metadata": {},
          "output_type": "execute_result"
        }
      ],
      "source": [
        "preg.totalwgt_lb.mean()"
      ]
    },
    {
      "cell_type": "markdown",
      "metadata": {
        "id": "IIhXEx-y48RC"
      },
      "source": [
        "Create a new column named <tt>totalwgt_kg</tt> that contains birth weight in kilograms.  Compute its mean.  Remember that when you create a new column, you have to use dictionary syntax, not dot notation."
      ]
    },
    {
      "cell_type": "code",
      "execution_count": 21,
      "metadata": {
        "colab": {
          "base_uri": "https://localhost:8080/"
        },
        "id": "w97MFaOg48RD",
        "outputId": "7037f0bc-b8f5-43d0-af1c-9836e3223228"
      },
      "outputs": [
        {
          "output_type": "execute_result",
          "data": {
            "text/plain": [
              "3.2956309433503437"
            ]
          },
          "metadata": {},
          "execution_count": 21
        }
      ],
      "source": [
        "preg['totalwgt_kg'] = preg.totalwgt_lb*0.453592\n",
        "preg.totalwgt_kg.mean()"
      ]
    },
    {
      "cell_type": "markdown",
      "metadata": {
        "id": "QqB9BNmn48RD"
      },
      "source": [
        "`nsfg.py` also provides `ReadFemResp`, which reads the female respondents file and returns a `DataFrame`:"
      ]
    },
    {
      "cell_type": "code",
      "execution_count": 22,
      "metadata": {
        "id": "VvCCYCE348RD"
      },
      "outputs": [],
      "source": [
        "resp = nsfg.ReadFemResp()"
      ]
    },
    {
      "cell_type": "markdown",
      "metadata": {
        "id": "2QJuKb8f48RE"
      },
      "source": [
        "`DataFrame` provides a method `head` that displays the first five rows:"
      ]
    },
    {
      "cell_type": "code",
      "execution_count": null,
      "metadata": {
        "id": "9PTZBGV548RE",
        "outputId": "83ece814-f0a7-47ec-e379-aeb438a469f7"
      },
      "outputs": [
        {
          "data": {
            "text/html": [
              "<div>\n",
              "<style scoped>\n",
              "    .dataframe tbody tr th:only-of-type {\n",
              "        vertical-align: middle;\n",
              "    }\n",
              "\n",
              "    .dataframe tbody tr th {\n",
              "        vertical-align: top;\n",
              "    }\n",
              "\n",
              "    .dataframe thead th {\n",
              "        text-align: right;\n",
              "    }\n",
              "</style>\n",
              "<table border=\"1\" class=\"dataframe\">\n",
              "  <thead>\n",
              "    <tr style=\"text-align: right;\">\n",
              "      <th></th>\n",
              "      <th>caseid</th>\n",
              "      <th>rscrinf</th>\n",
              "      <th>rdormres</th>\n",
              "      <th>rostscrn</th>\n",
              "      <th>rscreenhisp</th>\n",
              "      <th>rscreenrace</th>\n",
              "      <th>age_a</th>\n",
              "      <th>age_r</th>\n",
              "      <th>cmbirth</th>\n",
              "      <th>agescrn</th>\n",
              "      <th>...</th>\n",
              "      <th>pubassis_i</th>\n",
              "      <th>basewgt</th>\n",
              "      <th>adj_mod_basewgt</th>\n",
              "      <th>finalwgt</th>\n",
              "      <th>secu_r</th>\n",
              "      <th>sest</th>\n",
              "      <th>cmintvw</th>\n",
              "      <th>cmlstyr</th>\n",
              "      <th>screentime</th>\n",
              "      <th>intvlngth</th>\n",
              "    </tr>\n",
              "  </thead>\n",
              "  <tbody>\n",
              "    <tr>\n",
              "      <th>0</th>\n",
              "      <td>2298</td>\n",
              "      <td>1</td>\n",
              "      <td>5</td>\n",
              "      <td>5</td>\n",
              "      <td>1</td>\n",
              "      <td>5.0</td>\n",
              "      <td>27</td>\n",
              "      <td>27</td>\n",
              "      <td>902</td>\n",
              "      <td>27</td>\n",
              "      <td>...</td>\n",
              "      <td>0</td>\n",
              "      <td>3247.916977</td>\n",
              "      <td>5123.759559</td>\n",
              "      <td>5556.717241</td>\n",
              "      <td>2</td>\n",
              "      <td>18</td>\n",
              "      <td>1234</td>\n",
              "      <td>1222</td>\n",
              "      <td>18:26:36</td>\n",
              "      <td>110.492667</td>\n",
              "    </tr>\n",
              "    <tr>\n",
              "      <th>1</th>\n",
              "      <td>5012</td>\n",
              "      <td>1</td>\n",
              "      <td>5</td>\n",
              "      <td>1</td>\n",
              "      <td>5</td>\n",
              "      <td>5.0</td>\n",
              "      <td>42</td>\n",
              "      <td>42</td>\n",
              "      <td>718</td>\n",
              "      <td>42</td>\n",
              "      <td>...</td>\n",
              "      <td>0</td>\n",
              "      <td>2335.279149</td>\n",
              "      <td>2846.799490</td>\n",
              "      <td>4744.191350</td>\n",
              "      <td>2</td>\n",
              "      <td>18</td>\n",
              "      <td>1233</td>\n",
              "      <td>1221</td>\n",
              "      <td>16:30:59</td>\n",
              "      <td>64.294000</td>\n",
              "    </tr>\n",
              "    <tr>\n",
              "      <th>2</th>\n",
              "      <td>11586</td>\n",
              "      <td>1</td>\n",
              "      <td>5</td>\n",
              "      <td>1</td>\n",
              "      <td>5</td>\n",
              "      <td>5.0</td>\n",
              "      <td>43</td>\n",
              "      <td>43</td>\n",
              "      <td>708</td>\n",
              "      <td>43</td>\n",
              "      <td>...</td>\n",
              "      <td>0</td>\n",
              "      <td>2335.279149</td>\n",
              "      <td>2846.799490</td>\n",
              "      <td>4744.191350</td>\n",
              "      <td>2</td>\n",
              "      <td>18</td>\n",
              "      <td>1234</td>\n",
              "      <td>1222</td>\n",
              "      <td>18:19:09</td>\n",
              "      <td>75.149167</td>\n",
              "    </tr>\n",
              "    <tr>\n",
              "      <th>3</th>\n",
              "      <td>6794</td>\n",
              "      <td>5</td>\n",
              "      <td>5</td>\n",
              "      <td>4</td>\n",
              "      <td>1</td>\n",
              "      <td>5.0</td>\n",
              "      <td>15</td>\n",
              "      <td>15</td>\n",
              "      <td>1042</td>\n",
              "      <td>15</td>\n",
              "      <td>...</td>\n",
              "      <td>0</td>\n",
              "      <td>3783.152221</td>\n",
              "      <td>5071.464231</td>\n",
              "      <td>5923.977368</td>\n",
              "      <td>2</td>\n",
              "      <td>18</td>\n",
              "      <td>1234</td>\n",
              "      <td>1222</td>\n",
              "      <td>15:54:43</td>\n",
              "      <td>28.642833</td>\n",
              "    </tr>\n",
              "    <tr>\n",
              "      <th>4</th>\n",
              "      <td>616</td>\n",
              "      <td>1</td>\n",
              "      <td>5</td>\n",
              "      <td>4</td>\n",
              "      <td>1</td>\n",
              "      <td>5.0</td>\n",
              "      <td>20</td>\n",
              "      <td>20</td>\n",
              "      <td>991</td>\n",
              "      <td>20</td>\n",
              "      <td>...</td>\n",
              "      <td>0</td>\n",
              "      <td>5341.329968</td>\n",
              "      <td>6437.335772</td>\n",
              "      <td>7229.128072</td>\n",
              "      <td>2</td>\n",
              "      <td>18</td>\n",
              "      <td>1233</td>\n",
              "      <td>1221</td>\n",
              "      <td>14:19:44</td>\n",
              "      <td>69.502667</td>\n",
              "    </tr>\n",
              "  </tbody>\n",
              "</table>\n",
              "<p>5 rows × 3087 columns</p>\n",
              "</div>"
            ],
            "text/plain": [
              "   caseid  rscrinf  rdormres  rostscrn  rscreenhisp  rscreenrace  age_a  \\\n",
              "0    2298        1         5         5            1          5.0     27   \n",
              "1    5012        1         5         1            5          5.0     42   \n",
              "2   11586        1         5         1            5          5.0     43   \n",
              "3    6794        5         5         4            1          5.0     15   \n",
              "4     616        1         5         4            1          5.0     20   \n",
              "\n",
              "   age_r  cmbirth  agescrn  ...  pubassis_i      basewgt  adj_mod_basewgt  \\\n",
              "0     27      902       27  ...           0  3247.916977      5123.759559   \n",
              "1     42      718       42  ...           0  2335.279149      2846.799490   \n",
              "2     43      708       43  ...           0  2335.279149      2846.799490   \n",
              "3     15     1042       15  ...           0  3783.152221      5071.464231   \n",
              "4     20      991       20  ...           0  5341.329968      6437.335772   \n",
              "\n",
              "      finalwgt  secu_r  sest  cmintvw  cmlstyr  screentime   intvlngth  \n",
              "0  5556.717241       2    18     1234     1222    18:26:36  110.492667  \n",
              "1  4744.191350       2    18     1233     1221    16:30:59   64.294000  \n",
              "2  4744.191350       2    18     1234     1222    18:19:09   75.149167  \n",
              "3  5923.977368       2    18     1234     1222    15:54:43   28.642833  \n",
              "4  7229.128072       2    18     1233     1221    14:19:44   69.502667  \n",
              "\n",
              "[5 rows x 3087 columns]"
            ]
          },
          "execution_count": 19,
          "metadata": {},
          "output_type": "execute_result"
        }
      ],
      "source": [
        "resp.head()"
      ]
    },
    {
      "cell_type": "markdown",
      "metadata": {
        "id": "aMkQG-UF48RF"
      },
      "source": [
        "Select the `age_r` column from `resp` and print the value counts.  How old are the youngest and oldest respondents?"
      ]
    },
    {
      "cell_type": "code",
      "execution_count": null,
      "metadata": {
        "id": "I7DpvvJJ48RF",
        "outputId": "647a506c-65e9-41b3-ee53-2adf2a738e0f"
      },
      "outputs": [
        {
          "data": {
            "text/plain": [
              "15    217\n",
              "16    223\n",
              "17    234\n",
              "18    235\n",
              "19    241\n",
              "20    258\n",
              "21    267\n",
              "22    287\n",
              "23    282\n",
              "24    269\n",
              "25    267\n",
              "26    260\n",
              "27    255\n",
              "28    252\n",
              "29    262\n",
              "30    292\n",
              "31    278\n",
              "32    273\n",
              "33    257\n",
              "34    255\n",
              "35    262\n",
              "36    266\n",
              "37    271\n",
              "38    256\n",
              "39    215\n",
              "40    256\n",
              "41    250\n",
              "42    215\n",
              "43    253\n",
              "44    235\n",
              "Name: age_r, dtype: int64"
            ]
          },
          "execution_count": 20,
          "metadata": {},
          "output_type": "execute_result"
        }
      ],
      "source": [
        "resp.age_r.value_counts().sort_index()"
      ]
    },
    {
      "cell_type": "markdown",
      "metadata": {
        "id": "yXUUN2qI48RG"
      },
      "source": [
        "We can use the `caseid` to match up rows from `resp` and `preg`.  For example, we can select the row from `resp` for `caseid` 2298 like this:"
      ]
    },
    {
      "cell_type": "code",
      "execution_count": null,
      "metadata": {
        "id": "cCHBYqJ948RG",
        "outputId": "42ea613a-d0f6-43d6-a2e7-164cfbeeca1d"
      },
      "outputs": [
        {
          "data": {
            "text/html": [
              "<div>\n",
              "<style scoped>\n",
              "    .dataframe tbody tr th:only-of-type {\n",
              "        vertical-align: middle;\n",
              "    }\n",
              "\n",
              "    .dataframe tbody tr th {\n",
              "        vertical-align: top;\n",
              "    }\n",
              "\n",
              "    .dataframe thead th {\n",
              "        text-align: right;\n",
              "    }\n",
              "</style>\n",
              "<table border=\"1\" class=\"dataframe\">\n",
              "  <thead>\n",
              "    <tr style=\"text-align: right;\">\n",
              "      <th></th>\n",
              "      <th>caseid</th>\n",
              "      <th>rscrinf</th>\n",
              "      <th>rdormres</th>\n",
              "      <th>rostscrn</th>\n",
              "      <th>rscreenhisp</th>\n",
              "      <th>rscreenrace</th>\n",
              "      <th>age_a</th>\n",
              "      <th>age_r</th>\n",
              "      <th>cmbirth</th>\n",
              "      <th>agescrn</th>\n",
              "      <th>...</th>\n",
              "      <th>pubassis_i</th>\n",
              "      <th>basewgt</th>\n",
              "      <th>adj_mod_basewgt</th>\n",
              "      <th>finalwgt</th>\n",
              "      <th>secu_r</th>\n",
              "      <th>sest</th>\n",
              "      <th>cmintvw</th>\n",
              "      <th>cmlstyr</th>\n",
              "      <th>screentime</th>\n",
              "      <th>intvlngth</th>\n",
              "    </tr>\n",
              "  </thead>\n",
              "  <tbody>\n",
              "    <tr>\n",
              "      <th>0</th>\n",
              "      <td>2298</td>\n",
              "      <td>1</td>\n",
              "      <td>5</td>\n",
              "      <td>5</td>\n",
              "      <td>1</td>\n",
              "      <td>5.0</td>\n",
              "      <td>27</td>\n",
              "      <td>27</td>\n",
              "      <td>902</td>\n",
              "      <td>27</td>\n",
              "      <td>...</td>\n",
              "      <td>0</td>\n",
              "      <td>3247.916977</td>\n",
              "      <td>5123.759559</td>\n",
              "      <td>5556.717241</td>\n",
              "      <td>2</td>\n",
              "      <td>18</td>\n",
              "      <td>1234</td>\n",
              "      <td>1222</td>\n",
              "      <td>18:26:36</td>\n",
              "      <td>110.492667</td>\n",
              "    </tr>\n",
              "  </tbody>\n",
              "</table>\n",
              "<p>1 rows × 3087 columns</p>\n",
              "</div>"
            ],
            "text/plain": [
              "   caseid  rscrinf  rdormres  rostscrn  rscreenhisp  rscreenrace  age_a  \\\n",
              "0    2298        1         5         5            1          5.0     27   \n",
              "\n",
              "   age_r  cmbirth  agescrn  ...  pubassis_i      basewgt  adj_mod_basewgt  \\\n",
              "0     27      902       27  ...           0  3247.916977      5123.759559   \n",
              "\n",
              "      finalwgt  secu_r  sest  cmintvw  cmlstyr  screentime   intvlngth  \n",
              "0  5556.717241       2    18     1234     1222    18:26:36  110.492667  \n",
              "\n",
              "[1 rows x 3087 columns]"
            ]
          },
          "execution_count": 21,
          "metadata": {},
          "output_type": "execute_result"
        }
      ],
      "source": [
        "resp[resp.caseid==2298]"
      ]
    },
    {
      "cell_type": "markdown",
      "metadata": {
        "id": "uAI7kxOy48RH"
      },
      "source": [
        "And we can get the corresponding rows from `preg` like this:"
      ]
    },
    {
      "cell_type": "code",
      "execution_count": null,
      "metadata": {
        "id": "q9cai-WQ48RH",
        "outputId": "81974265-d0cc-47be-c04e-31e085094405"
      },
      "outputs": [
        {
          "data": {
            "text/html": [
              "<div>\n",
              "<style scoped>\n",
              "    .dataframe tbody tr th:only-of-type {\n",
              "        vertical-align: middle;\n",
              "    }\n",
              "\n",
              "    .dataframe tbody tr th {\n",
              "        vertical-align: top;\n",
              "    }\n",
              "\n",
              "    .dataframe thead th {\n",
              "        text-align: right;\n",
              "    }\n",
              "</style>\n",
              "<table border=\"1\" class=\"dataframe\">\n",
              "  <thead>\n",
              "    <tr style=\"text-align: right;\">\n",
              "      <th></th>\n",
              "      <th>caseid</th>\n",
              "      <th>pregordr</th>\n",
              "      <th>howpreg_n</th>\n",
              "      <th>howpreg_p</th>\n",
              "      <th>moscurrp</th>\n",
              "      <th>nowprgdk</th>\n",
              "      <th>pregend1</th>\n",
              "      <th>pregend2</th>\n",
              "      <th>nbrnaliv</th>\n",
              "      <th>multbrth</th>\n",
              "      <th>...</th>\n",
              "      <th>religion_i</th>\n",
              "      <th>metro_i</th>\n",
              "      <th>basewgt</th>\n",
              "      <th>adj_mod_basewgt</th>\n",
              "      <th>finalwgt</th>\n",
              "      <th>secu_p</th>\n",
              "      <th>sest</th>\n",
              "      <th>cmintvw</th>\n",
              "      <th>totalwgt_lb</th>\n",
              "      <th>totalwgt_kg</th>\n",
              "    </tr>\n",
              "  </thead>\n",
              "  <tbody>\n",
              "    <tr>\n",
              "      <th>2610</th>\n",
              "      <td>2298</td>\n",
              "      <td>1</td>\n",
              "      <td>NaN</td>\n",
              "      <td>NaN</td>\n",
              "      <td>NaN</td>\n",
              "      <td>NaN</td>\n",
              "      <td>6.0</td>\n",
              "      <td>NaN</td>\n",
              "      <td>1.0</td>\n",
              "      <td>NaN</td>\n",
              "      <td>...</td>\n",
              "      <td>0</td>\n",
              "      <td>0</td>\n",
              "      <td>3247.916977</td>\n",
              "      <td>5123.759559</td>\n",
              "      <td>5556.717241</td>\n",
              "      <td>2</td>\n",
              "      <td>18</td>\n",
              "      <td>NaN</td>\n",
              "      <td>6.8750</td>\n",
              "      <td>3.118445</td>\n",
              "    </tr>\n",
              "    <tr>\n",
              "      <th>2611</th>\n",
              "      <td>2298</td>\n",
              "      <td>2</td>\n",
              "      <td>NaN</td>\n",
              "      <td>NaN</td>\n",
              "      <td>NaN</td>\n",
              "      <td>NaN</td>\n",
              "      <td>6.0</td>\n",
              "      <td>NaN</td>\n",
              "      <td>1.0</td>\n",
              "      <td>NaN</td>\n",
              "      <td>...</td>\n",
              "      <td>0</td>\n",
              "      <td>0</td>\n",
              "      <td>3247.916977</td>\n",
              "      <td>5123.759559</td>\n",
              "      <td>5556.717241</td>\n",
              "      <td>2</td>\n",
              "      <td>18</td>\n",
              "      <td>NaN</td>\n",
              "      <td>5.5000</td>\n",
              "      <td>2.494756</td>\n",
              "    </tr>\n",
              "    <tr>\n",
              "      <th>2612</th>\n",
              "      <td>2298</td>\n",
              "      <td>3</td>\n",
              "      <td>NaN</td>\n",
              "      <td>NaN</td>\n",
              "      <td>NaN</td>\n",
              "      <td>NaN</td>\n",
              "      <td>6.0</td>\n",
              "      <td>NaN</td>\n",
              "      <td>1.0</td>\n",
              "      <td>NaN</td>\n",
              "      <td>...</td>\n",
              "      <td>0</td>\n",
              "      <td>0</td>\n",
              "      <td>3247.916977</td>\n",
              "      <td>5123.759559</td>\n",
              "      <td>5556.717241</td>\n",
              "      <td>2</td>\n",
              "      <td>18</td>\n",
              "      <td>NaN</td>\n",
              "      <td>4.1875</td>\n",
              "      <td>1.899417</td>\n",
              "    </tr>\n",
              "    <tr>\n",
              "      <th>2613</th>\n",
              "      <td>2298</td>\n",
              "      <td>4</td>\n",
              "      <td>NaN</td>\n",
              "      <td>NaN</td>\n",
              "      <td>NaN</td>\n",
              "      <td>NaN</td>\n",
              "      <td>6.0</td>\n",
              "      <td>NaN</td>\n",
              "      <td>1.0</td>\n",
              "      <td>NaN</td>\n",
              "      <td>...</td>\n",
              "      <td>0</td>\n",
              "      <td>0</td>\n",
              "      <td>3247.916977</td>\n",
              "      <td>5123.759559</td>\n",
              "      <td>5556.717241</td>\n",
              "      <td>2</td>\n",
              "      <td>18</td>\n",
              "      <td>NaN</td>\n",
              "      <td>6.8750</td>\n",
              "      <td>3.118445</td>\n",
              "    </tr>\n",
              "  </tbody>\n",
              "</table>\n",
              "<p>4 rows × 245 columns</p>\n",
              "</div>"
            ],
            "text/plain": [
              "      caseid  pregordr  howpreg_n  howpreg_p  moscurrp  nowprgdk  pregend1  \\\n",
              "2610    2298         1        NaN        NaN       NaN       NaN       6.0   \n",
              "2611    2298         2        NaN        NaN       NaN       NaN       6.0   \n",
              "2612    2298         3        NaN        NaN       NaN       NaN       6.0   \n",
              "2613    2298         4        NaN        NaN       NaN       NaN       6.0   \n",
              "\n",
              "      pregend2  nbrnaliv  multbrth  ...  religion_i  metro_i      basewgt  \\\n",
              "2610       NaN       1.0       NaN  ...           0        0  3247.916977   \n",
              "2611       NaN       1.0       NaN  ...           0        0  3247.916977   \n",
              "2612       NaN       1.0       NaN  ...           0        0  3247.916977   \n",
              "2613       NaN       1.0       NaN  ...           0        0  3247.916977   \n",
              "\n",
              "      adj_mod_basewgt     finalwgt  secu_p  sest  cmintvw  totalwgt_lb  \\\n",
              "2610      5123.759559  5556.717241       2    18      NaN       6.8750   \n",
              "2611      5123.759559  5556.717241       2    18      NaN       5.5000   \n",
              "2612      5123.759559  5556.717241       2    18      NaN       4.1875   \n",
              "2613      5123.759559  5556.717241       2    18      NaN       6.8750   \n",
              "\n",
              "      totalwgt_kg  \n",
              "2610     3.118445  \n",
              "2611     2.494756  \n",
              "2612     1.899417  \n",
              "2613     3.118445  \n",
              "\n",
              "[4 rows x 245 columns]"
            ]
          },
          "execution_count": 22,
          "metadata": {},
          "output_type": "execute_result"
        }
      ],
      "source": [
        "preg[preg.caseid==2298]"
      ]
    },
    {
      "cell_type": "markdown",
      "metadata": {
        "id": "SmUE4f7I48RI"
      },
      "source": [
        "How old is the respondent with `caseid` 1?"
      ]
    },
    {
      "cell_type": "code",
      "execution_count": null,
      "metadata": {
        "id": "7Khy1n1248RI",
        "outputId": "5b83d946-19c2-4c24-a91f-569813eda993"
      },
      "outputs": [
        {
          "data": {
            "text/plain": [
              "1069    44\n",
              "Name: age_r, dtype: int64"
            ]
          },
          "execution_count": 23,
          "metadata": {},
          "output_type": "execute_result"
        }
      ],
      "source": [
        "resp[resp.caseid == 1].age_r"
      ]
    },
    {
      "cell_type": "markdown",
      "metadata": {
        "id": "ENOVRNuG48RI"
      },
      "source": [
        "What are the pregnancy lengths for the respondent with `caseid` 2298?"
      ]
    },
    {
      "cell_type": "code",
      "execution_count": null,
      "metadata": {
        "id": "T0me8eH448RJ",
        "outputId": "c9e40fd5-5326-4b0b-e29d-ca4eecebcf18"
      },
      "outputs": [
        {
          "data": {
            "text/plain": [
              "2610    40\n",
              "2611    36\n",
              "2612    30\n",
              "2613    40\n",
              "Name: prglngth, dtype: int64"
            ]
          },
          "execution_count": 24,
          "metadata": {},
          "output_type": "execute_result"
        }
      ],
      "source": [
        "preg[preg.caseid == 2298].prglngth"
      ]
    },
    {
      "cell_type": "markdown",
      "metadata": {
        "id": "hCdzkklD48RJ"
      },
      "source": [
        "What was the birthweight of the first baby born to the respondent with `caseid` 5012?"
      ]
    },
    {
      "cell_type": "code",
      "execution_count": null,
      "metadata": {
        "id": "VyzCtaCj48RJ",
        "outputId": "74280ce8-c938-462d-b144-bd4c837a1fdd"
      },
      "outputs": [
        {
          "data": {
            "text/plain": [
              "5515    6.0\n",
              "Name: birthwgt_lb, dtype: float64"
            ]
          },
          "execution_count": 25,
          "metadata": {},
          "output_type": "execute_result"
        }
      ],
      "source": [
        "preg[preg.caseid==5012].birthwgt_lb"
      ]
    },
    {
      "cell_type": "markdown",
      "metadata": {
        "id": "nHi2zEmj48RJ"
      },
      "source": [
        "# Exercise 1.2 -- Create a file name that reads the respondent file ......"
      ]
    },
    {
      "cell_type": "code",
      "execution_count": 7,
      "metadata": {
        "colab": {
          "base_uri": "https://localhost:8080/"
        },
        "id": "mXORPRNS48RK",
        "outputId": "31686737-04ba-40ef-b785-a97237c0b517"
      },
      "outputs": [
        {
          "output_type": "stream",
          "name": "stdout",
          "text": [
            "(13593, 244)\n",
            "All tests passed.\n"
          ]
        }
      ],
      "source": [
        "##   Copy and paste all the functions defined in the file nsfg.py\n",
        "from __future__ import print_function, division\n",
        "\n",
        "import sys\n",
        "import numpy as np\n",
        "import thinkstats2\n",
        "\n",
        "from collections import defaultdict\n",
        "\n",
        "\n",
        "def ReadFemResp(dct_file='2002FemResp.dct',\n",
        "                dat_file='2002FemResp.dat.gz',\n",
        "                nrows=None):\n",
        "    \"\"\"Reads the NSFG respondent data.\n",
        "\n",
        "    dct_file: string file name\n",
        "    dat_file: string file name\n",
        "\n",
        "    returns: DataFrame\n",
        "    \"\"\"\n",
        "    dct = thinkstats2.ReadStataDct(dct_file)\n",
        "    df = dct.ReadFixedWidth(dat_file, compression='gzip', nrows=nrows)\n",
        "    CleanFemResp(df)\n",
        "    return df\n",
        "\n",
        "\n",
        "def CleanFemResp(df):\n",
        "    \"\"\"Recodes variables from the respondent frame.\n",
        "\n",
        "    df: DataFrame\n",
        "    \"\"\"\n",
        "    pass\n",
        "\n",
        "\n",
        "def ReadFemPreg(dct_file='2002FemPreg.dct',\n",
        "                dat_file='2002FemPreg.dat.gz'):\n",
        "    \"\"\"Reads the NSFG pregnancy data.\n",
        "\n",
        "    dct_file: string file name\n",
        "    dat_file: string file name\n",
        "\n",
        "    returns: DataFrame\n",
        "    \"\"\"\n",
        "    dct = thinkstats2.ReadStataDct(dct_file)\n",
        "    df = dct.ReadFixedWidth(dat_file, compression='gzip')\n",
        "    CleanFemPreg(df)\n",
        "    return df\n",
        "\n",
        "\n",
        "def CleanFemPreg(df):\n",
        "    \"\"\"Recodes variables from the pregnancy frame.\n",
        "\n",
        "    df: DataFrame\n",
        "    \"\"\"\n",
        "    # mother's age is encoded in centiyears; convert to years\n",
        "    df.agepreg /= 100.0\n",
        "\n",
        "    # birthwgt_lb contains at least one bogus value (51 lbs)\n",
        "    # replace with NaN\n",
        "    df.loc[df.birthwgt_lb > 20, 'birthwgt_lb'] = np.nan\n",
        "    \n",
        "    # replace 'not ascertained', 'refused', 'don't know' with NaN\n",
        "    na_vals = [97, 98, 99]\n",
        "    df.birthwgt_lb.replace(na_vals, np.nan, inplace=True)\n",
        "    df.birthwgt_oz.replace(na_vals, np.nan, inplace=True)\n",
        "    df.hpagelb.replace(na_vals, np.nan, inplace=True)\n",
        "\n",
        "    df.babysex.replace([7, 9], np.nan, inplace=True)\n",
        "    df.nbrnaliv.replace([9], np.nan, inplace=True)\n",
        "\n",
        "    # birthweight is stored in two columns, lbs and oz.\n",
        "    # convert to a single column in lb\n",
        "    # NOTE: creating a new column requires dictionary syntax,\n",
        "    # not attribute assignment (like df.totalwgt_lb)\n",
        "    df['totalwgt_lb'] = df.birthwgt_lb + df.birthwgt_oz / 16.0    \n",
        "\n",
        "    # due to a bug in ReadStataDct, the last variable gets clipped;\n",
        "    # so for now set it to NaN\n",
        "    df.cmintvw = np.nan\n",
        "\n",
        "\n",
        "def ValidatePregnum(resp, preg):\n",
        "    \"\"\"Validate pregnum in the respondent file.\n",
        "\n",
        "    resp: respondent DataFrame\n",
        "    preg: pregnancy DataFrame\n",
        "    \"\"\"\n",
        "    # make the map from caseid to list of pregnancy indices\n",
        "    preg_map = MakePregMap(preg)\n",
        "    \n",
        "    # iterate through the respondent pregnum series\n",
        "    for index, pregnum in resp.pregnum.iteritems():\n",
        "        caseid = resp.caseid[index]\n",
        "        indices = preg_map[caseid]\n",
        "\n",
        "        # check that pregnum from the respondent file equals\n",
        "        # the number of records in the pregnancy file\n",
        "        if len(indices) != pregnum:\n",
        "            print(caseid, len(indices), pregnum)\n",
        "            return False\n",
        "\n",
        "    return True\n",
        "\n",
        "\n",
        "def MakePregMap(df):\n",
        "    \"\"\"Make a map from caseid to list of preg indices.\n",
        "\n",
        "    df: DataFrame\n",
        "\n",
        "    returns: dict that maps from caseid to list of indices into `preg`\n",
        "    \"\"\"\n",
        "    d = defaultdict(list)\n",
        "    for index, caseid in df.caseid.iteritems():\n",
        "        d[caseid].append(index)\n",
        "    return d\n",
        "\n",
        "\n",
        "def main():\n",
        "    \"\"\"Tests the functions in this module.\n",
        "\n",
        "    script: string script name\n",
        "    \"\"\"\n",
        "    # read and validate the respondent file\n",
        "    resp = ReadFemResp()\n",
        "\n",
        "    assert(len(resp) == 7643)\n",
        "    assert(resp.pregnum.value_counts()[1] == 1267)\n",
        "\n",
        "    # read and validate the pregnancy file\n",
        "    preg = ReadFemPreg()\n",
        "    print(preg.shape)\n",
        "\n",
        "    assert len(preg) == 13593\n",
        "    assert preg.caseid[13592] == 12571\n",
        "    assert preg.pregordr.value_counts()[1] == 5033\n",
        "    assert preg.nbrnaliv.value_counts()[1] == 8981\n",
        "    assert preg.babysex.value_counts()[1] == 4641\n",
        "    assert preg.birthwgt_lb.value_counts()[7] == 3049\n",
        "    assert preg.birthwgt_oz.value_counts()[0] == 1037\n",
        "    assert preg.prglngth.value_counts()[39] == 4744\n",
        "    assert preg.outcome.value_counts()[1] == 9148\n",
        "    assert preg.birthord.value_counts()[1] == 4413\n",
        "    assert preg.agepreg.value_counts()[22.75] == 100\n",
        "    assert preg.totalwgt_lb.value_counts()[7.5] == 302\n",
        "\n",
        "    weights = preg.finalwgt.value_counts()\n",
        "    key = max(weights.keys())\n",
        "    assert preg.finalwgt.value_counts()[key] == 6\n",
        "\n",
        "    # validate that the pregnum column in `resp` matches the number\n",
        "    # of entries in `preg`\n",
        "    assert(ValidatePregnum(resp, preg))\n",
        "\n",
        "    \n",
        "    print('All tests passed.')\n",
        "\n",
        "\n",
        "if __name__ == '__main__':\n",
        "    main()\n"
      ]
    },
    {
      "cell_type": "code",
      "execution_count": null,
      "metadata": {
        "id": "SuwiutDm48RM"
      },
      "outputs": [],
      "source": [
        "preg = nsfg.ReadFemPreg() # Read the respondent file and assign a name 'preg'. \n"
      ]
    },
    {
      "cell_type": "code",
      "execution_count": null,
      "metadata": {
        "id": "D5h3L_9P48RN",
        "outputId": "39d4b722-aa08-4997-fe21-3a5f8b905417"
      },
      "outputs": [
        {
          "data": {
            "text/plain": [
              "0        2\n",
              "1        2\n",
              "2        3\n",
              "3        3\n",
              "4        3\n",
              "        ..\n",
              "13588    5\n",
              "13589    5\n",
              "13590    5\n",
              "13591    5\n",
              "13592    5\n",
              "Name: pregnum, Length: 13593, dtype: int64"
            ]
          },
          "execution_count": 40,
          "metadata": {},
          "output_type": "execute_result"
        }
      ],
      "source": [
        "preg.pregnum # Take a look at pregnum variable"
      ]
    },
    {
      "cell_type": "code",
      "execution_count": null,
      "metadata": {
        "id": "r-eNQFK548RO",
        "outputId": "0436dfb9-07e6-4ed6-dba4-466211f641a1"
      },
      "outputs": [
        {
          "data": {
            "text/plain": [
              "1     1267\n",
              "2     2864\n",
              "3     3330\n",
              "4     2444\n",
              "5     1525\n",
              "6      900\n",
              "7      560\n",
              "8      320\n",
              "9      189\n",
              "10      90\n",
              "11      33\n",
              "12      24\n",
              "14      28\n",
              "19      19\n",
              "Name: pregnum, dtype: int64"
            ]
          },
          "execution_count": 41,
          "metadata": {},
          "output_type": "execute_result"
        }
      ],
      "source": [
        "preg.pregnum.value_counts().sort_index() # Check the value counts for the variable pregnum  "
      ]
    },
    {
      "cell_type": "code",
      "execution_count": null,
      "metadata": {
        "id": "bDO8aFXC48RO",
        "outputId": "a0db1e0c-0d68-47b2-b0f2-26a6144c9b85"
      },
      "outputs": [
        {
          "data": {
            "text/plain": [
              "True"
            ]
          },
          "execution_count": 47,
          "metadata": {},
          "output_type": "execute_result"
        }
      ],
      "source": [
        "resp = nsfg.ReadFemResp()\n",
        "ValidatePregnum(resp, preg)"
      ]
    },
    {
      "cell_type": "code",
      "execution_count": null,
      "metadata": {
        "id": "Ja2LVfr148RP",
        "outputId": "b9cb1797-bd9c-4d31-d921-ccdd313f9527"
      },
      "outputs": [
        {
          "data": {
            "text/plain": [
              "array([4, 4, 4, 4, 4, 4, 1], dtype=int64)"
            ]
          },
          "execution_count": 48,
          "metadata": {},
          "output_type": "execute_result"
        }
      ],
      "source": [
        "caseid = 10229\n",
        "preg_map = nsfg.MakePregMap(preg)\n",
        "indices = preg_map[caseid]\n",
        "preg.outcome[indices].values"
      ]
    },
    {
      "cell_type": "markdown",
      "metadata": {
        "id": "AEuJSZOH48RP"
      },
      "source": [
        "# Exercise 2.1\n"
      ]
    },
    {
      "cell_type": "markdown",
      "metadata": {
        "id": "yLluwvlW48RP"
      },
      "source": [
        "- I recommend you to read page 24 of  your text book and decide which summary statistics you would like to choose. \n",
        "\n",
        "- Based on the results in this chapter, suppose you were asked to summarize what you learned about whether first babies arrive late?\n"
      ]
    },
    {
      "cell_type": "code",
      "source": [
        "from __future__ import print_function\n",
        "\n",
        "import sys\n",
        "from operator import itemgetter\n",
        "\n",
        "import first\n",
        "import thinkstats2\n",
        "def Mode(hist):\n",
        "    \"\"\"Returns the value with the highest frequency.\n",
        "    hist: Hist object\n",
        "    returns: value from Hist\n",
        "    \"\"\"\n",
        "    p, x = max([(p, x) for x, p in hist.Items()])\n",
        "    return x\n",
        "\n",
        "\n",
        "def AllModes(hist):\n",
        "    \"\"\"Returns value-freq pairs in decreasing order of frequency.\n",
        "    hist: Hist object\n",
        "    returns: iterator of value-freq pairs\n",
        "    \"\"\"\n",
        "    return sorted(hist.Items(), key=itemgetter(1), reverse=True)\n",
        "\n",
        "\n",
        "def WeightDifference(live, firsts, others):\n",
        "    \"\"\"Explore the difference in weight between first babies and others.\n",
        "    live: DataFrame of all live births\n",
        "    firsts: DataFrame of first babies\n",
        "    others: DataFrame of others\n",
        "    \"\"\"\n",
        "    mean0 = live.totalwgt_lb.mean()\n",
        "    mean1 = firsts.totalwgt_lb.mean()\n",
        "    mean2 = others.totalwgt_lb.mean()\n",
        "\n",
        "    var1 = firsts.totalwgt_lb.var()\n",
        "    var2 = others.totalwgt_lb.var()\n",
        "\n",
        "    print('Mean')\n",
        "    print('First babies', mean1)\n",
        "    print('Others', mean2)\n",
        "\n",
        "    print('Variance')\n",
        "    print('First babies', var1)\n",
        "    print('Others', var2)\n",
        "\n",
        "    print('Difference in lbs', mean1 - mean2)\n",
        "    print('Difference in oz', (mean1 - mean2) * 16)\n",
        "\n",
        "    print('Difference relative to mean (%age points)', \n",
        "          (mean1 - mean2) / mean0 * 100)\n",
        "\n",
        "    d = thinkstats2.CohenEffectSize(firsts.totalwgt_lb, others.totalwgt_lb)\n",
        "    print('Cohen d', d)\n",
        "\n",
        "\n",
        "def main(script):\n",
        "    \"\"\"Tests the functions in this module.\n",
        "    script: string script name\n",
        "    \"\"\"\n",
        "    live, firsts, others = first.MakeFrames()\n",
        "    hist = thinkstats2.Hist(live.prglngth)\n",
        "\n",
        "    # explore the weight difference between first babies and others\n",
        "    WeightDifference(live, firsts, others)\n",
        "\n",
        "    # test Mode    \n",
        "    mode = Mode(hist)\n",
        "    print('Mode of preg length', mode)\n",
        "    assert(mode == 39)\n",
        "\n",
        "    # test AllModes\n",
        "    modes = AllModes(hist)\n",
        "    assert(modes[0][1] == 4693)\n",
        "\n",
        "    for value, freq in modes[:5]:\n",
        "        print(value, freq)\n",
        "\n",
        "    print('%s: All tests passed.' % script)\n",
        "\n",
        "\n",
        "if __name__ == '__main__':\n",
        "    main(sys.argv)"
      ],
      "metadata": {
        "id": "V78TsMdkGDzx"
      },
      "execution_count": null,
      "outputs": []
    },
    {
      "cell_type": "markdown",
      "metadata": {
        "id": "_3601CN148RP"
      },
      "source": [
        "# Exercise 2.4\n",
        "\n",
        "- Using the variable totalwgt_lb, investigate whether first babies are lighter or heavier than others.\n",
        "- Make sure you include histograms as part of your analysis."
      ]
    },
    {
      "cell_type": "code",
      "execution_count": 8,
      "metadata": {
        "colab": {
          "base_uri": "https://localhost:8080/"
        },
        "id": "rYUtSx5o48RQ",
        "outputId": "4ea74e0c-e1d9-476c-823d-6de2d0e36f2a"
      },
      "outputs": [
        {
          "output_type": "stream",
          "name": "stdout",
          "text": [
            "Mean\n",
            "First babies 7.201094430437772\n",
            "Others 7.325855614973262\n",
            "Variance\n",
            "First babies 2.0180273009157768\n",
            "Others 1.9437810258964572\n",
            "Difference in lbs -0.12476118453549034\n",
            "Difference in oz -1.9961789525678455\n",
            "Difference relative to mean (%age points) -1.7171423678372415\n",
            "Cohen d -0.088672927072602\n",
            "Mode of preg length 39\n",
            "39 4693\n",
            "40 1116\n",
            "38 607\n",
            "41 587\n",
            "37 455\n",
            "['/usr/local/lib/python3.7/dist-packages/ipykernel_launcher.py', '-f', '/root/.local/share/jupyter/runtime/kernel-988ca555-ddd7-4d64-8bd8-ca26cad1a441.json']: All tests passed.\n"
          ]
        }
      ],
      "source": [
        "from __future__ import print_function\n",
        "\n",
        "import sys\n",
        "from operator import itemgetter\n",
        "\n",
        "import first\n",
        "import thinkstats2\n",
        "def Mode(hist):\n",
        "    \"\"\"Returns the value with the highest frequency.\n",
        "    hist: Hist object\n",
        "    returns: value from Hist\n",
        "    \"\"\"\n",
        "    p, x = max([(p, x) for x, p in hist.Items()])\n",
        "    return x\n",
        "\n",
        "\n",
        "def AllModes(hist):\n",
        "    \"\"\"Returns value-freq pairs in decreasing order of frequency.\n",
        "    hist: Hist object\n",
        "    returns: iterator of value-freq pairs\n",
        "    \"\"\"\n",
        "    return sorted(hist.Items(), key=itemgetter(1), reverse=True)\n",
        "\n",
        "\n",
        "def WeightDifference(live, firsts, others):\n",
        "    \"\"\"Explore the difference in weight between first babies and others.\n",
        "    live: DataFrame of all live births\n",
        "    firsts: DataFrame of first babies\n",
        "    others: DataFrame of others\n",
        "    \"\"\"\n",
        "    mean0 = live.totalwgt_lb.mean()\n",
        "    mean1 = firsts.totalwgt_lb.mean()\n",
        "    mean2 = others.totalwgt_lb.mean()\n",
        "\n",
        "    var1 = firsts.totalwgt_lb.var()\n",
        "    var2 = others.totalwgt_lb.var()\n",
        "\n",
        "    print('Mean')\n",
        "    print('First babies', mean1)\n",
        "    print('Others', mean2)\n",
        "\n",
        "    print('Variance')\n",
        "    print('First babies', var1)\n",
        "    print('Others', var2)\n",
        "\n",
        "    print('Difference in lbs', mean1 - mean2)\n",
        "    print('Difference in oz', (mean1 - mean2) * 16)\n",
        "\n",
        "    print('Difference relative to mean (%age points)', \n",
        "          (mean1 - mean2) / mean0 * 100)\n",
        "\n",
        "    d = thinkstats2.CohenEffectSize(firsts.totalwgt_lb, others.totalwgt_lb)\n",
        "    print('Cohen d', d)\n",
        "\n",
        "\n",
        "def main(script):\n",
        "    \"\"\"Tests the functions in this module.\n",
        "    script: string script name\n",
        "    \"\"\"\n",
        "    live, firsts, others = first.MakeFrames()\n",
        "    hist = thinkstats2.Hist(live.prglngth)\n",
        "\n",
        "    # explore the weight difference between first babies and others\n",
        "    WeightDifference(live, firsts, others)\n",
        "\n",
        "    # test Mode    \n",
        "    mode = Mode(hist)\n",
        "    print('Mode of preg length', mode)\n",
        "    assert(mode == 39)\n",
        "\n",
        "    # test AllModes\n",
        "    modes = AllModes(hist)\n",
        "    assert(modes[0][1] == 4693)\n",
        "\n",
        "    for value, freq in modes[:5]:\n",
        "        print(value, freq)\n",
        "\n",
        "    print('%s: All tests passed.' % script)\n",
        "\n",
        "\n",
        "if __name__ == '__main__':\n",
        "    main(sys.argv)"
      ]
    },
    {
      "cell_type": "code",
      "source": [
        "# Import packages needed for histogram\n",
        "import pandas as pd\n",
        "import numpy as np\n",
        "import matplotlib.pyplot as plt\n",
        "\n",
        "# Selecting only 1st through 6th borns from data set\n",
        "# Since any 7th+ child is an outlier\n",
        "newdf = preg[preg.pregordr<=6]\n",
        "\n",
        "#  histogram of 1st through 6th borns weight in pounds\n",
        "newdf.hist(column='totalwgt_lb', \n",
        "           by='pregordr',\n",
        "           bins=10)"
      ],
      "metadata": {
        "colab": {
          "base_uri": "https://localhost:8080/",
          "height": 413
        },
        "id": "k8tX6lBS16v6",
        "outputId": "28f5aa84-ef46-424f-ba6e-507f4e504714"
      },
      "execution_count": 36,
      "outputs": [
        {
          "output_type": "execute_result",
          "data": {
            "text/plain": [
              "array([[<matplotlib.axes._subplots.AxesSubplot object at 0x7f7023e57450>,\n",
              "        <matplotlib.axes._subplots.AxesSubplot object at 0x7f7023e3abd0>],\n",
              "       [<matplotlib.axes._subplots.AxesSubplot object at 0x7f7023e12450>,\n",
              "        <matplotlib.axes._subplots.AxesSubplot object at 0x7f7023e2c810>],\n",
              "       [<matplotlib.axes._subplots.AxesSubplot object at 0x7f7023de0cd0>,\n",
              "        <matplotlib.axes._subplots.AxesSubplot object at 0x7f7023da3210>]],\n",
              "      dtype=object)"
            ]
          },
          "metadata": {},
          "execution_count": 36
        },
        {
          "output_type": "display_data",
          "data": {
            "image/png": "[encoded data removed]",
            "text/plain": [
              "<Figure size 432x288 with 6 Axes>"
            ]
          },
          "metadata": {
            "needs_background": "light"
          }
        }
      ]
    },
    {
      "cell_type": "markdown",
      "source": [
        "- Based on above results, difference between first and other babies is -0.1247 which indicates first babies are lighter than others. \n",
        "- Cohen's d difference between groups is -0.0886.\n",
        "- As we can see from the histogram, 1st born babies tend to have a slighly left skewed distribution, indicating that they are lighter more often than not.\n",
        "- However, you can also see a similar distribution for the 3rd and 5th borns. This is a great exzample of why simply visulizing the data, does not always give us the information we need. Cohen's d gives us the \"proof\" we needed in order to show that there is a relationship between brith order and weight."
      ],
      "metadata": {
        "id": "wX8iW8LXFXWa"
      }
    }
  ],
  "metadata": {
    "kernelspec": {
      "display_name": "Python 3",
      "language": "python",
      "name": "python3"
    },
    "language_info": {
      "codemirror_mode": {
        "name": "ipython",
        "version": 3
      },
      "file_extension": ".py",
      "mimetype": "text/x-python",
      "name": "python",
      "nbconvert_exporter": "python",
      "pygments_lexer": "ipython3",
      "version": "3.7.6"
    },
    "colab": {
      "name": "Week 3 Assignments_AFarrell .ipynb",
      "provenance": []
    }
  },
  "nbformat": 4,
  "nbformat_minor": 0
}