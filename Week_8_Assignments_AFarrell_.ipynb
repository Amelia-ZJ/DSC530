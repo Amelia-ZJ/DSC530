{
  "cells": [
    {
      "cell_type": "markdown",
      "metadata": {
        "id": "E15hGiPH48QY"
      },
      "source": [
        "# 8.2  Exercise\n",
        "\n",
        "Amelia Farrell\n",
        "\n",
        "DSC520\n",
        "\n",
        "1/31/22\n"
      ]
    },
    {
      "cell_type": "code",
      "source": [
        "# Loading packages needed\n",
        "%matplotlib inline\n",
        "\n",
        "import numpy as np\n",
        "import pandas as pd\n",
        "\n",
        "import thinkstats2\n",
        "import thinkplot\n",
        "\n",
        "from thinkstats2 import Mean, MeanVar, Var, Std, Cov"
      ],
      "metadata": {
        "id": "mqF-FGNs-aaz"
      },
      "execution_count": null,
      "outputs": []
    },
    {
      "cell_type": "code",
      "source": [
        "# Data\n",
        "import first\n",
        "\n",
        "live, firsts, others = first.MakeFrames()\n",
        "data = firsts.prglngth.values, others.prglngth.values\n",
        "\n",
        "ages = live.agepreg\n",
        "weights = live.totalwgt_lb"
      ],
      "metadata": {
        "id": "eR7ZP8e3_-GY"
      },
      "execution_count": null,
      "outputs": []
    },
    {
      "cell_type": "code",
      "source": [
        "# Creating Permutation test function. To compute the p-value of an observed difference in means\n",
        "class DiffMeansPermute(thinkstats2.HypothesisTest):\n",
        "\n",
        "    def TestStatistic(self, data):\n",
        "        group1, group2 = data\n",
        "        test_stat = abs(group1.mean() - group2.mean())\n",
        "        return test_stat\n",
        "\n",
        "    def MakeModel(self):\n",
        "        group1, group2 = self.data\n",
        "        self.n, self.m = len(group1), len(group2)\n",
        "        self.pool = np.hstack((group1, group2))\n",
        "\n",
        "    def RunModel(self):\n",
        "        np.random.shuffle(self.pool)\n",
        "        data = self.pool[:self.n], self.pool[self.n:]\n",
        "        return data"
      ],
      "metadata": {
        "id": "2RaG-xjq90Ee"
      },
      "execution_count": null,
      "outputs": []
    },
    {
      "cell_type": "code",
      "source": [
        "# Creating function to test if an observed correlation is statistically significant (running a permutation test with a different test statistic).\n",
        "class CorrelationPermute(thinkstats2.HypothesisTest):\n",
        "\n",
        "    def TestStatistic(self, data):\n",
        "        xs, ys = data\n",
        "        test_stat = abs(thinkstats2.Corr(xs, ys))\n",
        "        return test_stat\n",
        "\n",
        "    def RunModel(self):\n",
        "        xs, ys = self.data\n",
        "        xs = np.random.permutation(xs)\n",
        "        return xs, ys"
      ],
      "metadata": {
        "id": "ka5ae5XZ-Mm1"
      },
      "execution_count": null,
      "outputs": []
    },
    {
      "cell_type": "code",
      "source": [
        "# Creating function for conducting a Chi-square test of pregnancy length\n",
        "class PregLengthTest(thinkstats2.HypothesisTest):\n",
        "\n",
        "    def MakeModel(self):\n",
        "        firsts, others = self.data\n",
        "        self.n = len(firsts)\n",
        "        self.pool = np.hstack((firsts, others))\n",
        "\n",
        "        pmf = thinkstats2.Pmf(self.pool)\n",
        "        self.values = range(35, 44)\n",
        "        self.expected_probs = np.array(pmf.Probs(self.values))\n",
        "\n",
        "    def RunModel(self):\n",
        "        np.random.shuffle(self.pool)\n",
        "        data = self.pool[:self.n], self.pool[self.n:]\n",
        "        return data\n",
        "    \n",
        "    def TestStatistic(self, data):\n",
        "        firsts, others = data\n",
        "        stat = self.ChiSquared(firsts) + self.ChiSquared(others)\n",
        "        return stat\n",
        "\n",
        "    def ChiSquared(self, lengths):\n",
        "        hist = thinkstats2.Hist(lengths)\n",
        "        observed = np.array(hist.Freqs(self.values))\n",
        "        expected = self.expected_probs * len(lengths)\n",
        "        stat = sum((observed - expected)**2 / expected)\n",
        "        return stat"
      ],
      "metadata": {
        "id": "QuqJNiFP-kvs"
      },
      "execution_count": null,
      "outputs": []
    },
    {
      "cell_type": "markdown",
      "metadata": {
        "id": "z6HclmAH48Qp"
      },
      "source": [
        "# Chapter 9\n",
        "\n",
        "## Page 114: 9-1 \n",
        "(As sample size increases, the power of a hypothesis test increases, which means it is more likely to be positive if the effect is real…)"
      ]
    },
    {
      "cell_type": "markdown",
      "source": [
        "Running tests using different subsets of the NSFG data to see what happens to the p-values as sample size decreases."
      ],
      "metadata": {
        "id": "O-9rHy7u1GWn"
      }
    },
    {
      "cell_type": "code",
      "source": [
        "def RunTests(live, iters=1000):\n",
        "    n = len(live)\n",
        "    firsts = live[live.birthord == 1]\n",
        "    others = live[live.birthord != 1]\n",
        "   # data = firsts.prglngth.values, others.prglngth.values\n",
        "    #ht = DiffMeansPermute(data)\n",
        "\n",
        "    # compare pregnancy lengths\n",
        "    data = firsts.prglngth.values, others.prglngth.values\n",
        "    ht = DiffMeansPermute(data)\n",
        "    p1 = ht.PValue(iters=iters)\n",
        "\n",
        "    data = (firsts.totalwgt_lb.dropna().values,\n",
        "            others.totalwgt_lb.dropna().values)\n",
        "    ht = DiffMeansPermute(data)\n",
        "    p2 = ht.PValue(iters=iters)\n",
        "\n",
        "    # test correlation\n",
        "    live2 = live.dropna(subset=['agepreg', 'totalwgt_lb'])\n",
        "    data = live2.agepreg.values, live2.totalwgt_lb.values\n",
        "    ht = CorrelationPermute(data)\n",
        "    p3 = ht.PValue(iters=iters)\n",
        "\n",
        "    # compare pregnancy lengths (chi-squared)\n",
        "    data = firsts.prglngth.values, others.prglngth.values\n",
        "    ht = PregLengthTest(data)\n",
        "    p4 = ht.PValue(iters=iters)\n",
        "\n",
        "    print('%d\\t%0.2f\\t%0.2f\\t%0.2f\\t%0.2f' % (n, p1, p2, p3, p4))\n",
        "\n",
        "RunTests(live)"
      ],
      "metadata": {
        "colab": {
          "base_uri": "https://localhost:8080/"
        },
        "id": "OYciHz_m1Hpe",
        "outputId": "e99305d4-8dda-4854-f2b8-391777730b7a"
      },
      "execution_count": null,
      "outputs": [
        {
          "output_type": "stream",
          "name": "stdout",
          "text": [
            "9148\t0.18\t0.00\t0.00\t0.00\n"
          ]
        }
      ]
    },
    {
      "cell_type": "code",
      "source": [
        "# Running our test using different sample sizes\n",
        "n = len(live)\n",
        "for _ in range(7):\n",
        "    sample = thinkstats2.SampleRows(live, n)\n",
        "    RunTests(sample)\n",
        "    n //= 2"
      ],
      "metadata": {
        "colab": {
          "base_uri": "https://localhost:8080/"
        },
        "id": "5RrpIyTo2JfR",
        "outputId": "a3e79156-93d6-4b2e-ce82-5be3bbb23397"
      },
      "execution_count": null,
      "outputs": [
        {
          "output_type": "stream",
          "name": "stdout",
          "text": [
            "9148\t0.17\t0.00\t0.00\t0.00\n",
            "4574\t0.13\t0.00\t0.00\t0.00\n",
            "2287\t0.02\t0.11\t0.00\t0.00\n",
            "1143\t0.02\t0.26\t0.01\t0.00\n",
            "571\t0.07\t0.65\t0.13\t0.02\n",
            "285\t0.28\t0.18\t0.10\t0.12\n",
            "142\t0.27\t0.77\t0.61\t0.01\n"
          ]
        }
      ]
    },
    {
      "cell_type": "markdown",
      "source": [
        "Based if the above test we can see that as n decreases (from 9148 to 142) the the p-values also decrease. This is somthing that we need to be very aware of when reading studies. P-values can appear more significant than they truly are just by adding more data points."
      ],
      "metadata": {
        "id": "gOe1DNES1xIA"
      }
    },
    {
      "cell_type": "markdown",
      "metadata": {
        "id": "SPSnRFn848Qt"
      },
      "source": [
        "# Chapter 10\n",
        "\n",
        "## Page 128: 10-1\n",
        "(Using the data from the BRFSS, compute the linear least squares fit for log(weight) versus height…)"
      ]
    },
    {
      "cell_type": "code",
      "source": [
        "# Creating a function to compute the mean, standard error, and 90% confidence interval.\n",
        "def Summarize(estimates, actual=None):\n",
        "    mean = Mean(estimates)\n",
        "    stderr = Std(estimates, mu=actual)\n",
        "    cdf = thinkstats2.Cdf(estimates)\n",
        "    ci = cdf.ConfidenceInterval(90)\n",
        "    print('mean, SE, CI', mean, stderr, ci)"
      ],
      "metadata": {
        "id": "wC4U17x9IQoq"
      },
      "execution_count": null,
      "outputs": []
    },
    {
      "cell_type": "code",
      "source": [
        "# Reading the BRFSS data and extract heights and log weights.\n",
        "import brfss\n",
        "\n",
        "df = brfss.ReadBrfss(nrows=None)\n",
        "df = df.dropna(subset=['htm3', 'wtkg2'])\n",
        "heights, weights = df.htm3, df.wtkg2\n",
        "log_weights = np.log10(weights)"
      ],
      "metadata": {
        "id": "3Zu5ZafhdhnM"
      },
      "execution_count": null,
      "outputs": []
    },
    {
      "cell_type": "code",
      "source": [
        "# Estimating the intercept and slope.\n",
        "inter, slope = thinkstats2.LeastSquares(heights, log_weights)\n",
        "inter, slope"
      ],
      "metadata": {
        "colab": {
          "base_uri": "https://localhost:8080/"
        },
        "id": "HI-YnEPw5LL-",
        "outputId": "e10250ea-fee3-4f6d-cda3-c12a7f3967c4"
      },
      "execution_count": null,
      "outputs": [
        {
          "output_type": "execute_result",
          "data": {
            "text/plain": [
              "(0.9930804163917626, 0.005281454169418102)"
            ]
          },
          "metadata": {},
          "execution_count": 11
        }
      ]
    },
    {
      "cell_type": "code",
      "source": [
        "# Creating a scatter plot to show the data points and fitted line.\n",
        "thinkplot.Scatter(heights, log_weights, alpha=0.01, s=5)\n",
        "fxs, fys = thinkstats2.FitLine(heights, inter, slope)\n",
        "thinkplot.Plot(fxs, fys, color='red')\n",
        "thinkplot.Config(xlabel='Height (cm)', ylabel='log10 weight (kg)', legend=False)"
      ],
      "metadata": {
        "colab": {
          "base_uri": "https://localhost:8080/",
          "height": 279
        },
        "id": "5KI2MtF7-u6V",
        "outputId": "19a21aed-f7c8-470f-ac76-2f24b90af70b"
      },
      "execution_count": null,
      "outputs": [
        {
          "output_type": "display_data",
          "data": {
            "image/png": "[encoded data removed]",
            "text/plain": [
              "<Figure size 432x288 with 1 Axes>"
            ]
          },
          "metadata": {
            "needs_background": "light"
          }
        }
      ]
    },
    {
      "cell_type": "code",
      "source": [
        "# Creating another scatter plot with the inverse transform to show the data points on a linear scale.\n",
        "thinkplot.Scatter(heights, weights, alpha=0.01, s=5)\n",
        "fxs, fys = thinkstats2.FitLine(heights, inter, slope)\n",
        "thinkplot.Plot(fxs, 10**fys, color='red')\n",
        "thinkplot.Config(xlabel='Height (cm)', ylabel='Weight (kg)', legend=False)"
      ],
      "metadata": {
        "colab": {
          "base_uri": "https://localhost:8080/",
          "height": 279
        },
        "id": "9wykjFKh_uDw",
        "outputId": "fbe9f894-bd0d-4b9b-9ce6-3a3fde193cd3"
      },
      "execution_count": null,
      "outputs": [
        {
          "output_type": "display_data",
          "data": {
            "image/png": "[encoded data removed]",
            "text/plain": [
              "<Figure size 432x288 with 1 Axes>"
            ]
          },
          "metadata": {
            "needs_background": "light"
          }
        }
      ]
    },
    {
      "cell_type": "code",
      "source": [
        "# Plotting the percentiles of the residuals.\n",
        "\n",
        "res = thinkstats2.Residuals(heights, log_weights, inter, slope)\n",
        "df['residual'] = res\n",
        "\n",
        "bins = np.arange(130, 210, 5)\n",
        "indices = np.digitize(df.htm3, bins)\n",
        "groups = df.groupby(indices)\n",
        "\n",
        "means = [group.htm3.mean() for i, group in groups][1:-1]\n",
        "cdfs = [thinkstats2.Cdf(group.residual) for i, group in groups][1:-1]\n",
        "\n",
        "thinkplot.PrePlot(3)\n",
        "for percent in [75, 50, 25]:\n",
        "    ys = [cdf.Percentile(percent) for cdf in cdfs]\n",
        "    label = '%dth' % percent\n",
        "    thinkplot.Plot(means, ys, label=label)\n",
        "    \n",
        "thinkplot.Config(xlabel='height (cm)', ylabel='residual weight (kg)', legend=False)"
      ],
      "metadata": {
        "colab": {
          "base_uri": "https://localhost:8080/",
          "height": 279
        },
        "id": "pejAmaddAQ5u",
        "outputId": "cd3cb603-95aa-4d72-fcbb-3ad74d8ccdc2"
      },
      "execution_count": null,
      "outputs": [
        {
          "output_type": "display_data",
          "data": {
            "image/png": "[encoded data removed]",
            "text/plain": [
              "<Figure size 432x288 with 1 Axes>"
            ]
          },
          "metadata": {
            "needs_background": "light"
          }
        }
      ]
    },
    {
      "cell_type": "markdown",
      "source": [
        "The above plot showing the percentiles of the residuals, shows relatively consistant lines from 140 to 190. This indicates that the relationship is linear. Since the lines are also parallel to one another, this means that the variance of the residuals is also consistant."
      ],
      "metadata": {
        "id": "FUnLfpZyBA2w"
      }
    },
    {
      "cell_type": "code",
      "source": [
        "# Running the correlation coefficient between hight and log_weights\n",
        "cc = thinkstats2.Corr(heights, log_weights)\n",
        "\n",
        "# Running the correlation coefficient of determination.\n",
        "r2 = thinkstats2.CoefDetermination(log_weights, res)\n",
        "\n",
        "# Does cc = r2?\n",
        "e = cc**2 - r2\n",
        "\n",
        "# Standard deviation of log_weights\n",
        "sd = thinkstats2.Std(log_weights)\n",
        "\n",
        "# Standard deviation of residuals\n",
        "sdr = thinkstats2.Std(res)\n",
        "\n",
        "# Calculating how height effects RMSE\n",
        "effect = 1 - sdr / sd\n",
        "\n",
        "print(\"correlation coefficient:\", cc)\n",
        "print(\"R-squared:\",r2)\n",
        "print(\"Are they equal?:\",e)\n",
        "print(\"Standard deviation:\",sd)\n",
        "print(\"Standard deviation of residuals:\",sdr)\n",
        "print(\"How much height effects RMSE:\",effect)"
      ],
      "metadata": {
        "colab": {
          "base_uri": "https://localhost:8080/"
        },
        "id": "UV2fOr-hCq6Q",
        "outputId": "1932ae24-f261-4693-fdc7-e96c3bf850a5"
      },
      "execution_count": null,
      "outputs": [
        {
          "output_type": "stream",
          "name": "stdout",
          "text": [
            "correlation coefficient: 0.5317282605983583\n",
            "R-squared: 0.28273494311894365\n",
            "Are they equal?: 1.199040866595169e-14\n",
            "Standard deviation: 0.10320725030004982\n",
            "Standard deviation of residuals: 0.08740777080416141\n",
            "How much height effects RMSE: 0.1530849765879363\n"
          ]
        }
      ]
    },
    {
      "cell_type": "code",
      "source": [
        "# Using resampling to compute sampling distributions for inter and slope.\n",
        "t = []\n",
        "for _ in range(100):\n",
        "    sample = thinkstats2.ResampleRows(df)\n",
        "    estimates = thinkstats2.LeastSquares(sample.htm3, np.log10(sample.wtkg2))\n",
        "    t.append(estimates)\n",
        "\n",
        "inters, slopes = zip(*t)"
      ],
      "metadata": {
        "id": "VhgrzY2VFc1s"
      },
      "execution_count": null,
      "outputs": []
    },
    {
      "cell_type": "code",
      "source": [
        "# Plot sampling slope.\n",
        "cdf = thinkstats2.Cdf(slopes)\n",
        "thinkplot.Cdf(cdf)"
      ],
      "metadata": {
        "colab": {
          "base_uri": "https://localhost:8080/",
          "height": 283
        },
        "id": "H7VRQbUtDt1i",
        "outputId": "1f1228f3-85e3-4696-e25d-a628223dd584"
      },
      "execution_count": null,
      "outputs": [
        {
          "output_type": "execute_result",
          "data": {
            "text/plain": [
              "{'xscale': 'linear', 'yscale': 'linear'}"
            ]
          },
          "metadata": {},
          "execution_count": 26
        },
        {
          "output_type": "display_data",
          "data": {
            "image/png": "[encoded data removed]",
            "text/plain": [
              "<Figure size 432x288 with 1 Axes>"
            ]
          },
          "metadata": {
            "needs_background": "light"
          }
        }
      ]
    },
    {
      "cell_type": "code",
      "source": [
        "# p-value of the slope\n",
        "pvalue = cdf[0]\n",
        "\n",
        "# 90% confidence interval of slope.\n",
        "ci = cdf.Percentile(5), cdf.Percentile(95)\n",
        "\n",
        "# mean of sampling distribution.\n",
        "meansd = thinkstats2.Mean(slopes)\n",
        "\n",
        "# standard deviation of sampling distribution\n",
        "sdsd = thinkstats2.Std(slopes)\n",
        "\n",
        "print(\"P-value:\", pvalue)\n",
        "print(\"90% confidence interval:\", cc)\n",
        "print(\"Mean:\", cc)\n",
        "print(\"Standard Deviation:\", cc)"
      ],
      "metadata": {
        "colab": {
          "base_uri": "https://localhost:8080/"
        },
        "id": "2HZV9K84Fb1x",
        "outputId": "02881a7f-74b2-4aee-e2da-69f0cf75b4f3"
      },
      "execution_count": null,
      "outputs": [
        {
          "output_type": "stream",
          "name": "stdout",
          "text": [
            "P-value: 0\n",
            "90% confidence interval: 0.5317282605983583\n",
            "Mean: 0.5317282605983583\n",
            "Standard Deviation: 0.5317282605983583\n"
          ]
        }
      ]
    },
    {
      "cell_type": "code",
      "source": [
        "# Creating function to aid with calculation below\n",
        "def ResampleRowsWeighted(df, column='finalwgt'):\n",
        "    weights = df[column]\n",
        "    cdf = thinkstats2.Cdf(dict(weights))\n",
        "    indices = cdf.Sample(len(weights))\n",
        "    sample = df.loc[indices]\n",
        "    return sample"
      ],
      "metadata": {
        "id": "XAllZlUmJw_l"
      },
      "execution_count": null,
      "outputs": []
    },
    {
      "cell_type": "code",
      "source": [
        "# Resampling rows without weights\n",
        "newsample_noweight = [thinkstats2.ResampleRows(df).htm3.mean() for _ in range(100)]\n",
        "Summarize(newsample_noweight)\n"
      ],
      "metadata": {
        "colab": {
          "base_uri": "https://localhost:8080/"
        },
        "id": "4lWKuVHTHjTL",
        "outputId": "62ce4bb9-4458-4207-b6d8-3651971d359b"
      },
      "execution_count": null,
      "outputs": [
        {
          "output_type": "stream",
          "name": "stdout",
          "text": [
            "mean, SE, CI 168.95741860183105 0.017506982800941814 (168.92795680995977, 168.98312415368136)\n"
          ]
        }
      ]
    },
    {
      "cell_type": "code",
      "source": [
        "# Resample rows with weights\n",
        "sample_weighted = [ResampleRowsWeighted(df, 'finalwt').htm3.mean() for _ in range(100)]\n",
        "Summarize(sample_weighted)"
      ],
      "metadata": {
        "colab": {
          "base_uri": "https://localhost:8080/"
        },
        "id": "tJ9nZH79J75X",
        "outputId": "732c8095-d4ed-409a-f87e-41878e320b9c"
      },
      "execution_count": null,
      "outputs": [
        {
          "output_type": "stream",
          "name": "stdout",
          "text": [
            "mean, SE, CI 170.4945228531296 0.01854917801871439 (170.45792659512117, 170.5277061985893)\n"
          ]
        }
      ]
    },
    {
      "cell_type": "markdown",
      "source": [
        "Based off the above, how much does correct weighting affect the estimates? It affects it by almost 2 cm. If we look at the sampling weights we can see that the difference is greater than the sampling error."
      ],
      "metadata": {
        "id": "Z0Q1in8TIiaV"
      }
    }
  ],
  "metadata": {
    "kernelspec": {
      "display_name": "Python 3",
      "language": "python",
      "name": "python3"
    },
    "language_info": {
      "codemirror_mode": {
        "name": "ipython",
        "version": 3
      },
      "file_extension": ".py",
      "mimetype": "text/x-python",
      "name": "python",
      "nbconvert_exporter": "python",
      "pygments_lexer": "ipython3",
      "version": "3.7.6"
    },
    "colab": {
      "name": "Week 8 Assignments_AFarrell .ipynb",
      "provenance": [],
      "collapsed_sections": []
    }
  },
  "nbformat": 4,
  "nbformat_minor": 0
}